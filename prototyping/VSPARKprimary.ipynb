{
 "cells": [
  {
   "cell_type": "code",
   "execution_count": 1,
   "metadata": {},
   "outputs": [
    {
     "name": "stderr",
     "output_type": "stream",
     "text": [
      "┌ Info: Precompiling GeometricIntegrators [dcce2d33-59f6-5b8d-9047-0defad88ae06]\n",
      "└ @ Base loading.jl:1278\n"
     ]
    }
   ],
   "source": [
    "using GeometricIntegrators.Integrators.SPARK\n",
    "using GeometricIntegrators.Tableaus"
   ]
  },
  {
   "cell_type": "markdown",
   "metadata": {},
   "source": [
    "#### Definition of Projective SPARK Methods\n",
    "\n",
    "$$\n",
    "\\begin{aligned}\n",
    "P_{n,i} &= p_{n} + h \\sum \\limits_{j=1}^{s} a^{p}_{ij} F_{n,j} + h \\sum \\limits_{j=1}^{\\tilde{s}} \\alpha^{p}_{ij} \\tilde{G}_{n,j} && \\text{for $i = 1, \\, ... , \\, s$} , \\\\\n",
    "Q_{n,i} &= q_{n} + h \\sum \\limits_{j=1}^{s} a^{q}_{ij} V_{n,j} + h \\sum \\limits_{j=1}^{\\tilde{s}} \\alpha^{q}_{ij} \\tilde{\\Lambda}_{n,j} && \\text{for $i = 1, \\, ... , \\, s$} , \\\\\n",
    "\\tilde{P}_{n,i} &= p_{n} + h \\sum \\limits_{j=1}^{s} \\tilde{a}^{p}_{ij} F_{n,j} + h \\sum \\limits_{j=1}^{\\tilde{s}} \\tilde{\\alpha}^{p}_{ij} \\tilde{G}_{n,j} && \\text{for $i = 1, \\, ... , \\, \\tilde{s}$} , \\\\\n",
    "\\tilde{Q}_{n,i} &= q_{n} + h \\sum \\limits_{j=1}^{\\tilde{s}} \\tilde{a}^{q}_{ij} V_{n,j} + h \\sum \\limits_{j=1}^{\\tilde{s}} \\tilde{\\alpha}^{q}_{ij} \\tilde{\\Lambda}_{n,j} && \\text{for $i = 1, \\, ... , \\, \\tilde{s}$} , \\\\\n",
    "p_{n+1} &= p_{n} + h \\sum \\limits_{j=1}^{s} b^{p}_{j} F_{n,j} + h \\sum \\limits_{j=1}^{\\tilde{s}} \\beta^{p}_{j} \\tilde{G}_{n,j} , \\\\\n",
    "q_{n+1} &= q_{n} + h \\sum \\limits_{j=1}^{s} b^{q}_{j} V_{n,j} + h \\sum \\limits_{j=1}^{\\tilde{s}} \\beta^{q}_{j} \\tilde{\\Lambda}_{n,j} , \\\\\n",
    "0 &= \\phi(Q_{n,i}, P_{n,i}) && \\text{for $i = 1, \\, ... , \\, s$} , \\\\\n",
    "0 &= \\sum \\limits_{j=1}^{\\tilde{s}} \\omega_{ij} \\, \\phi ( \\tilde{P}_{n,j}, \\tilde{Q}_{n,j}) + \\omega_{i\\tilde{s}+1} \\, \\phi (q_{n+1}, p_{n+1}) && \\text{for $i = 1, \\, ... , \\, \\tilde{s}-\\rho$} , \\\\\n",
    "0 &= \\sum \\limits_{j=1}^{\\tilde{s}} \\delta_{ij} \\, \\tilde{\\Lambda}_{n,j} && \\text{for $i = 1, \\, ... , \\, \\rho$} ,\n",
    "\\end{aligned}\n",
    "$$"
   ]
  },
  {
   "cell_type": "markdown",
   "metadata": {},
   "source": [
    "#### Symplecticity Conditions\n",
    "\n",
    "$$\n",
    "\\begin{aligned}\n",
    "b^{p}_{i} b^{q}_{j} &= b^{p}_{i} a^{q}_{ij} + b^{q}_{j} a^{p}_{ji} && \\text{for $i = 1, \\, ... , \\, s$, $j = 1, \\, ... , \\, s$} ,\n",
    "\\\\\n",
    "\\beta^{p}_{i} \\beta^{q}_{j} &= \\beta^{p}_{i} \\tilde{\\alpha}^{q}_{ij} + \\beta^{q}_{j} \\tilde{\\alpha}^{p}_{ji}  && \\text{for $i = 1, \\, ... , \\, \\tilde{s}$, $j = 1, \\, ... , \\, \\tilde{s}$} ,\n",
    "\\\\\n",
    "b^{p}_{i} \\beta^{q}_{j} &= b^{p}_{i} \\alpha^{q}_{ij} + \\beta^{q}_{j} \\tilde{a}^{p}_{ji}  && \\text{for $i = 1, \\, ... , \\, s$, $j = 1, \\, ... , \\, \\tilde{s}$} ,\n",
    "\\\\\n",
    "b^{q}_{i} \\beta^{p}_{j} &= b^{q}_{i} \\alpha^{p}_{ij} + \\beta^{p}_{j} \\tilde{a}^{q}_{ji} && \\text{for $i = 1, \\, ... , \\, s$, $j = 1, \\, ... , \\, \\tilde{s}$} ,\n",
    "\\\\\n",
    "b^{q}_{i} &= b^{p}_{i}  && \\text{for $i = 1, \\, ... , \\, s$} ,\n",
    "\\\\\n",
    "\\beta^{q}_{i} &= \\beta^{p}_{i}  && \\text{for $i = 1, \\, ... , \\, \\tilde{s}$} ,\n",
    "\\\\\n",
    "0 &= \\mathrm{d} \\sum \\limits_{i=1}^{\\tilde{s}} ( \\beta^{q}_{i} \\, \\tilde{P}_{n,i} - \\beta^{p}_{i} \\, \\vartheta (\\tilde{Q}_{n,i}) ) \\wedge \\mathrm{d} \\Lambda_{n,i} .\n",
    "\\end{aligned}\n",
    "$$"
   ]
  },
  {
   "cell_type": "markdown",
   "metadata": {},
   "source": [
    "#### Construction\n",
    "\n",
    "- choose symplectic conjugate tableaus for $(a^q, a^p, b^q, b^p)$ and $(\\tilde{\\alpha}^q, \\tilde{\\alpha}^p, \\beta^q, \\beta^p)$\n",
    "- either\n",
    "  - choose $(\\alpha^q, \\alpha^p)$ and compute $(\\tilde{a}^q, \\tilde{a}^p)$, or\n",
    "  - choose $(\\tilde{a}^q, \\tilde{a}^p)$ and compute $(\\alpha^q, \\alpha^p)$"
   ]
  },
  {
   "cell_type": "code",
   "execution_count": 2,
   "metadata": {},
   "outputs": [
    {
     "data": {
      "text/plain": [
       "compute_conjugate (generic function with 1 method)"
      ]
     },
     "execution_count": 2,
     "metadata": {},
     "output_type": "execute_result"
    }
   ],
   "source": [
    "function compute_conjugate(a, b, b̄)\n",
    "    ā = zero(a)\n",
    "    for i in axes(ā,1)\n",
    "        for j in axes(ā,2)\n",
    "            ā[i,j] = b̄[j] / b[i] * ( b[i] - a[j,i] )\n",
    "        end\n",
    "    end\n",
    "    return ā\n",
    "end"
   ]
  },
  {
   "cell_type": "code",
   "execution_count": 3,
   "metadata": {},
   "outputs": [
    {
     "data": {
      "text/plain": [
       "compute_ã (generic function with 1 method)"
      ]
     },
     "execution_count": 3,
     "metadata": {},
     "output_type": "execute_result"
    }
   ],
   "source": [
    "function compute_ã(α, β, b)\n",
    "    s = length(b)\n",
    "    s̃ = length(β)\n",
    "    ã = zeros(eltype(α), s̃, s)\n",
    "    for i in 1:s̃\n",
    "        for j in 1:s\n",
    "            ã[i,j] = b[j] / β[i] * ( β[i] - α[j,i] )\n",
    "        end\n",
    "    end\n",
    "    return ã\n",
    "end"
   ]
  },
  {
   "cell_type": "code",
   "execution_count": 4,
   "metadata": {},
   "outputs": [
    {
     "data": {
      "text/plain": [
       "get_ã (generic function with 1 method)"
      ]
     },
     "execution_count": 4,
     "metadata": {},
     "output_type": "execute_result"
    }
   ],
   "source": [
    "function get_ã(α_q, β_q, b_q, α_p, β_p, b_p)\n",
    "    ã_q = compute_ã(α_p, β_p, b_q)\n",
    "    ã_p = compute_ã(α_q, β_q, b_p)\n",
    "    return (ã_q, ã_p)\n",
    "end"
   ]
  },
  {
   "cell_type": "code",
   "execution_count": 5,
   "metadata": {},
   "outputs": [
    {
     "data": {
      "text/plain": [
       "compute_α (generic function with 1 method)"
      ]
     },
     "execution_count": 5,
     "metadata": {},
     "output_type": "execute_result"
    }
   ],
   "source": [
    "function compute_α(ã, b, β)\n",
    "    s = length(b)\n",
    "    s̃ = length(β)\n",
    "    α = zeros(eltype(ã), s, s̃)\n",
    "    for i in 1:q.s\n",
    "        for j in 1:s̃\n",
    "            α[i,j] = β[j] / b[i] * ( b[i] - ã[j,i] )\n",
    "        end\n",
    "    end\n",
    "    return α\n",
    "end"
   ]
  },
  {
   "cell_type": "code",
   "execution_count": 6,
   "metadata": {},
   "outputs": [
    {
     "data": {
      "text/plain": [
       "get_α (generic function with 1 method)"
      ]
     },
     "execution_count": 6,
     "metadata": {},
     "output_type": "execute_result"
    }
   ],
   "source": [
    "function get_α(ã_q, b_q, β_q, ã_p, b_p, β_p)\n",
    "    α_q = compute_α(ã_p, b_p, β_q)\n",
    "    α_p = compute_α(ã_q, b_q, β_p)\n",
    "    return (α_q, α_p)\n",
    "end"
   ]
  },
  {
   "cell_type": "code",
   "execution_count": 7,
   "metadata": {},
   "outputs": [
    {
     "data": {
      "text/plain": [
       "check_symplecticity (generic function with 1 method)"
      ]
     },
     "execution_count": 7,
     "metadata": {},
     "output_type": "execute_result"
    }
   ],
   "source": [
    "function check_symplecticity(a_q, a_p, α_q, α_p, a_q̃, a_p̃, α_q̃, α_p̃, b_q, b_p, β_q, β_p; atol=1E-14, rtol=1E-14)\n",
    "    s_a_qp  = isapprox.(a_p, compute_conjugate(a_q, b_q, b_p); atol=atol, rtol=rtol)\n",
    "    s_α_q̃p̃  = isapprox.(α_p̃, compute_conjugate(α_q̃, β_q, β_p); atol=atol, rtol=rtol)\n",
    "    s_αa_q̃p = isapprox.(a_q̃, compute_ã(α_p, β_p, b_q); atol=atol, rtol=rtol)\n",
    "    s_αa_qp̃ = isapprox.(a_p̃, compute_ã(α_q, β_q, b_p); atol=atol, rtol=rtol)\n",
    "    s_b_qp  = isapprox.(b_q, b_p; atol=atol, rtol=rtol)\n",
    "    s_β_qp  = isapprox.(β_q, β_p; atol=atol, rtol=rtol)\n",
    "    return (s_a_qp, s_α_q̃p̃, s_αa_q̃p, s_αa_qp̃, s_b_qp, s_β_qp)\n",
    "end"
   ]
  },
  {
   "cell_type": "code",
   "execution_count": 8,
   "metadata": {},
   "outputs": [
    {
     "data": {
      "text/plain": [
       "check_symplecticity (generic function with 2 methods)"
      ]
     },
     "execution_count": 8,
     "metadata": {},
     "output_type": "execute_result"
    }
   ],
   "source": [
    "function check_symplecticity(tab::AbstractTableauSPARK; kwargs...)\n",
    "    check_symplecticity(tab.q.a, tab.p.a,\n",
    "                        tab.q.α, tab.p.α,\n",
    "                        tab.q̃.a, tab.p̃.a,\n",
    "                        tab.q̃.α, tab.p̃.α,\n",
    "                        tab.q.b, tab.p.b,\n",
    "                        tab.q.β, tab.p.β;\n",
    "                        kwargs...)\n",
    "end"
   ]
  },
  {
   "cell_type": "code",
   "execution_count": 9,
   "metadata": {},
   "outputs": [
    {
     "data": {
      "text/plain": [
       "(Bool[1], Bool[0], Bool[0], Bool[0], Bool[1], Bool[1])"
      ]
     },
     "execution_count": 9,
     "metadata": {},
     "output_type": "execute_result"
    }
   ],
   "source": [
    "check_symplecticity(getTableauVSPARKGLRKpInternal(1))"
   ]
  },
  {
   "cell_type": "code",
   "execution_count": 10,
   "metadata": {},
   "outputs": [
    {
     "data": {
      "text/plain": [
       "(Bool[1 1; 1 1], Bool[1 1; 1 1], Bool[1 0; 0 1], Bool[1 0; 0 1], Bool[1, 1], Bool[1, 1])"
      ]
     },
     "execution_count": 10,
     "metadata": {},
     "output_type": "execute_result"
    }
   ],
   "source": [
    "check_symplecticity(getTableauVSPARKGLRKpInternal(2))"
   ]
  },
  {
   "cell_type": "code",
   "execution_count": 11,
   "metadata": {},
   "outputs": [
    {
     "data": {
      "text/plain": [
       "(Bool[1 1 1; 1 1 1; 1 1 1], Bool[0 0 0; 0 0 0; 0 0 0], Bool[0 0 0; 0 0 0; 0 0 0], Bool[0 0 0; 0 0 0; 0 0 0], Bool[1, 1, 1], Bool[1, 1, 1])"
      ]
     },
     "execution_count": 11,
     "metadata": {},
     "output_type": "execute_result"
    }
   ],
   "source": [
    "check_symplecticity(getTableauVSPARKGLRKpInternal(3))"
   ]
  },
  {
   "cell_type": "code",
   "execution_count": 12,
   "metadata": {},
   "outputs": [
    {
     "data": {
      "text/plain": [
       "(Bool[1 1 1 1; 1 1 1 1; 1 1 1 1; 1 1 1 1], Bool[1 1 1 1; 1 1 1 1; 1 1 1 1; 1 1 1 1], Bool[1 0 0 0; 0 1 0 0; 0 0 1 0; 0 0 0 1], Bool[1 0 0 0; 0 1 0 0; 0 0 1 0; 0 0 0 1], Bool[1, 1, 1, 1], Bool[1, 1, 1, 1])"
      ]
     },
     "execution_count": 12,
     "metadata": {},
     "output_type": "execute_result"
    }
   ],
   "source": [
    "check_symplecticity(getTableauVSPARKGLRKpInternal(4))"
   ]
  },
  {
   "cell_type": "code",
   "execution_count": 36,
   "metadata": {},
   "outputs": [
    {
     "data": {
      "text/plain": [
       "myTableauVSPARKGLRKpInternal"
      ]
     },
     "execution_count": 36,
     "metadata": {},
     "output_type": "execute_result"
    }
   ],
   "source": [
    "function myTableauVSPARKInternalProjection(name, q, p, d=[]; R∞=1)\n",
    "    T = eltype(q.a)\n",
    "\n",
    "    @assert q.s == p.s\n",
    "\n",
    "    s = q.s\n",
    "    o = min(q.o, p.o)\n",
    "\n",
    "    β_q = q.b .* (1 + R∞) / 2\n",
    "    β_p = p.b .* (1 + R∞) / 2\n",
    "\n",
    "    α_q = zeros(T, s, s)\n",
    "    α_p = zeros(T, s, s)\n",
    "\n",
    "    for i in 1:s\n",
    "        α_q[i,:] .= q.b ./ 2\n",
    "        α_p[i,:] .= p.b ./ 2\n",
    "    end\n",
    "    \n",
    "    a_q̃, a_p̃ = get_ã(α_q, β_q, q.b, α_p, β_p, p.b)\n",
    "\n",
    "    c_λ = q.c\n",
    "    d_λ = q.b\n",
    "    ω_λ = zeros(T, 1, s+1)\n",
    "    δ_λ = zeros(T, s-1, s)\n",
    "    \n",
    "    ω_λ[1,s+1] = 1\n",
    "    \n",
    "    for i in 1:s-1\n",
    "        δ_λ[i,i] = +1\n",
    "        δ_λ[i,s] = -1\n",
    "    end\n",
    "\n",
    "\n",
    "    if length(d) == 0\n",
    "        return TableauVSPARKprimary(name, o,\n",
    "                            q.a, p.a, α_q, α_p,\n",
    "                            a_q̃, a_p̃, q.a, p.a,\n",
    "                            q.b, p.b, β_q, β_p,\n",
    "                            q.c, p.c, c_λ, d_λ,\n",
    "                            ω_λ, δ_λ)\n",
    "    else\n",
    "        @assert length(d) == q.s == p.s\n",
    "\n",
    "        return TableauVSPARKprimary(name, o,\n",
    "                            q.a, p.a, α_q, α_p,\n",
    "                            a_q̃, a_p̃, q.a, p.a,\n",
    "                            q.b, p.b, β_q, β_p,\n",
    "                            q.c, p.c, c_λ, d_λ,\n",
    "                            ω_λ, δ_λ, d)\n",
    "    end\n",
    "\n",
    "end\n",
    "\n",
    "\"Tableau for Gauss-Legendre method with s stages and symplectic projection.\"\n",
    "function myTableauVSPARKGLRKpInternal(s)\n",
    "    glrk = getCoefficientsGLRK(s)\n",
    "    myTableauVSPARKInternalProjection(Symbol(\"vpglrk\", s, \"pInternal\"), glrk, glrk; R∞=(-1)^s)\n",
    "end"
   ]
  },
  {
   "cell_type": "code",
   "execution_count": 37,
   "metadata": {},
   "outputs": [
    {
     "data": {
      "text/plain": [
       "(Bool[1], Bool[0], Bool[1], Bool[1], Bool[1], Bool[1])"
      ]
     },
     "execution_count": 37,
     "metadata": {},
     "output_type": "execute_result"
    }
   ],
   "source": [
    "check_symplecticity(myTableauVSPARKGLRKpInternal(1))"
   ]
  },
  {
   "cell_type": "code",
   "execution_count": 38,
   "metadata": {},
   "outputs": [
    {
     "data": {
      "text/plain": [
       "(Bool[1 1; 1 1], Bool[1 1; 1 1], Bool[1 1; 1 1], Bool[1 1; 1 1], Bool[1, 1], Bool[1, 1])"
      ]
     },
     "execution_count": 38,
     "metadata": {},
     "output_type": "execute_result"
    }
   ],
   "source": [
    "check_symplecticity(myTableauVSPARKGLRKpInternal(2))"
   ]
  },
  {
   "cell_type": "code",
   "execution_count": 39,
   "metadata": {},
   "outputs": [
    {
     "data": {
      "text/plain": [
       "(Bool[1 1 1; 1 1 1; 1 1 1], Bool[0 0 0; 0 0 0; 0 0 0], Bool[1 1 1; 1 1 1; 1 1 1], Bool[1 1 1; 1 1 1; 1 1 1], Bool[1, 1, 1], Bool[1, 1, 1])"
      ]
     },
     "execution_count": 39,
     "metadata": {},
     "output_type": "execute_result"
    }
   ],
   "source": [
    "check_symplecticity(myTableauVSPARKGLRKpInternal(3))"
   ]
  },
  {
   "cell_type": "code",
   "execution_count": 40,
   "metadata": {},
   "outputs": [
    {
     "data": {
      "text/plain": [
       "(Bool[1 1 1 1; 1 1 1 1; 1 1 1 1; 1 1 1 1], Bool[1 1 1 1; 1 1 1 1; 1 1 1 1; 1 1 1 1], Bool[1 1 1 1; 1 1 1 1; 1 1 1 1; 1 1 1 1], Bool[1 1 1 1; 1 1 1 1; 1 1 1 1; 1 1 1 1], Bool[1, 1, 1, 1], Bool[1, 1, 1, 1])"
      ]
     },
     "execution_count": 40,
     "metadata": {},
     "output_type": "execute_result"
    }
   ],
   "source": [
    "check_symplecticity(myTableauVSPARKGLRKpInternal(4))"
   ]
  },
  {
   "cell_type": "code",
   "execution_count": null,
   "metadata": {},
   "outputs": [],
   "source": []
  }
 ],
 "metadata": {
  "@webio": {
   "lastCommId": null,
   "lastKernelId": null
  },
  "kernelspec": {
   "display_name": "Julia 1.5.2",
   "language": "julia",
   "name": "julia-1.5"
  },
  "language_info": {
   "file_extension": ".jl",
   "mimetype": "application/julia",
   "name": "julia",
   "version": "1.5.2"
  }
 },
 "nbformat": 4,
 "nbformat_minor": 4
}
