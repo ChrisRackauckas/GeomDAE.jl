{
 "cells": [
  {
   "cell_type": "code",
   "execution_count": 1,
   "metadata": {},
   "outputs": [],
   "source": [
    "using SymPy"
   ]
  },
  {
   "cell_type": "code",
   "execution_count": 2,
   "metadata": {},
   "outputs": [
    {
     "data": {
      "text/plain": [
       "@sym (macro with 1 method)"
      ]
     },
     "execution_count": 2,
     "metadata": {},
     "output_type": "execute_result"
    }
   ],
   "source": [
    "function _sym(x::Expr)\n",
    "    y = x\n",
    "    y.args .= _sym.(y.args)\n",
    "    return  y\n",
    "end\n",
    "\n",
    "_sym(x::Number) = Sym(x)\n",
    "_sym(x) = x\n",
    "\n",
    "macro sym(x)\n",
    "    return esc(_sym(x))\n",
    "end"
   ]
  },
  {
   "cell_type": "code",
   "execution_count": 3,
   "metadata": {},
   "outputs": [
    {
     "data": {
      "text/plain": [
       "get_glrk_nodes (generic function with 1 method)"
      ]
     },
     "execution_count": 3,
     "metadata": {},
     "output_type": "execute_result"
    }
   ],
   "source": [
    "function get_glrk_nodes(s)\n",
    "    if s == 1\n",
    "        c = @sym Vector([1//2])\n",
    "    elseif s == 2\n",
    "        c = @sym [1/2-√3/6, 1/2+√3/6]\n",
    "    elseif s == 3\n",
    "        c = @sym [1/2-√15/10,  1/2,        1/2+√15/10 ]\n",
    "    elseif s == 4\n",
    "        c = @sym [\n",
    "          1/2-√(3/7+2*√30/35)/2,\n",
    "          1/2-√(3/7-2*√30/35)/2,\n",
    "          1/2+√(3/7-2*√30/35)/2,\n",
    "          1/2+√(3/7+2*√30/35)/2\n",
    "        ]\n",
    "    else\n",
    "        @error \"GLRK nodes for \" * string(s) * \" stages not implemented.\"\n",
    "    end\n",
    "\n",
    "    return c\n",
    "end"
   ]
  },
  {
   "cell_type": "code",
   "execution_count": 4,
   "metadata": {},
   "outputs": [
    {
     "data": {
      "text/plain": [
       "get_lobatto_nodes (generic function with 1 method)"
      ]
     },
     "execution_count": 4,
     "metadata": {},
     "output_type": "execute_result"
    }
   ],
   "source": [
    "function get_lobatto_nodes(s)\n",
    "    if s == 2\n",
    "        c = @sym [0, 1]\n",
    "    elseif s == 3\n",
    "        c = @sym [0, 1//2, 1]\n",
    "    elseif s == 4\n",
    "        c = @sym [0,  (5-√5)/10,   (5+√5)/10,  1]\n",
    "    elseif s == 5\n",
    "        c = @sym [0,  1//2-√21/14,  1//2,  1//2+√21/14,  1]\n",
    "    else\n",
    "        @error \"Lobatto nodes for \" * string(s) * \" stages not implemented.\"\n",
    "    end\n",
    "\n",
    "    return c\n",
    "end"
   ]
  },
  {
   "cell_type": "code",
   "execution_count": 5,
   "metadata": {},
   "outputs": [
    {
     "data": {
      "text/plain": [
       "get_glrk_lobatto_tableau (generic function with 1 method)"
      ]
     },
     "execution_count": 5,
     "metadata": {},
     "output_type": "execute_result"
    }
   ],
   "source": [
    "function get_glrk_lobatto_tableau(s)\n",
    "    c = get_glrk_nodes(s)\n",
    "    c̄ = get_lobatto_nodes(s+1)\n",
    "    a = [Sym(\"a_\" * string(i) * string(j)) for i in 0:s, j in 1:s]\n",
    "    \n",
    "    eqs = []\n",
    "    for i in 0:s, k in 1:s\n",
    "        eq = - c̄[i+1]^k / k\n",
    "        for j in 1:s\n",
    "            eq += a[i+1,j] * c[j]^(k-1)\n",
    "        end\n",
    "        push!(eqs, eq)\n",
    "    end\n",
    "    \n",
    "    eqs = Sym.(eqs)\n",
    "    sol = solve(eqs, a[:])\n",
    "    \n",
    "    A = [sol[a[i,j]] for i in axes(a,1), j in axes(a,2)]\n",
    "end"
   ]
  },
  {
   "cell_type": "code",
   "execution_count": 6,
   "metadata": {},
   "outputs": [
    {
     "data": {
      "text/latex": [
       "\\[\\left[ \\begin{array}{r}0\\\\1\\end{array}\\right]\\]"
      ],
      "text/plain": [
       "2×1 Array{Sym,2}:\n",
       " 0\n",
       " 1"
      ]
     },
     "execution_count": 6,
     "metadata": {},
     "output_type": "execute_result"
    }
   ],
   "source": [
    "get_glrk_lobatto_tableau(1)"
   ]
  },
  {
   "cell_type": "code",
   "execution_count": 7,
   "metadata": {},
   "outputs": [
    {
     "data": {
      "text/latex": [
       "\\[\\left[ \\begin{array}{rr}0&0\\\\\\frac{\\sqrt{3}}{8} + \\frac{1}{4}&- \\frac{\\sqrt{3}}{8} + \\frac{1}{4}\\\\\\frac{1}{2}&\\frac{1}{2}\\end{array}\\right]\\]"
      ],
      "text/plain": [
       "3×2 Array{Sym,2}:\n",
       "               0                 0\n",
       " sqrt(3)/8 + 1/4  -sqrt(3)/8 + 1/4\n",
       "             1/2               1/2"
      ]
     },
     "execution_count": 7,
     "metadata": {},
     "output_type": "execute_result"
    }
   ],
   "source": [
    "get_glrk_lobatto_tableau(2)"
   ]
  },
  {
   "cell_type": "code",
   "execution_count": 8,
   "metadata": {},
   "outputs": [
    {
     "data": {
      "text/latex": [
       "\\[\\left[ \\begin{array}{rrr}0&0&0\\\\- \\frac{\\sqrt{5}}{180} + \\frac{\\sqrt{15}}{30} + \\frac{5}{36}&- \\frac{4 \\sqrt{5}}{45} + \\frac{2}{9}&- \\frac{\\sqrt{15}}{30} - \\frac{\\sqrt{5}}{180} + \\frac{5}{36}\\\\\\frac{\\sqrt{5}}{180} + \\frac{\\sqrt{15}}{30} + \\frac{5}{36}&\\frac{4 \\sqrt{5}}{45} + \\frac{2}{9}&- \\frac{\\sqrt{15}}{30} + \\frac{\\sqrt{5}}{180} + \\frac{5}{36}\\\\\\frac{5}{18}&\\frac{4}{9}&\\frac{5}{18}\\end{array}\\right]\\]"
      ],
      "text/plain": [
       "4×3 Array{Sym,2}:\n",
       "                                 0  …                                  0\n",
       " -sqrt(5)/180 + sqrt(15)/30 + 5/36     -sqrt(15)/30 - sqrt(5)/180 + 5/36\n",
       "  sqrt(5)/180 + sqrt(15)/30 + 5/36     -sqrt(15)/30 + sqrt(5)/180 + 5/36\n",
       "                              5/18                                  5/18"
      ]
     },
     "execution_count": 8,
     "metadata": {},
     "output_type": "execute_result"
    }
   ],
   "source": [
    "get_glrk_lobatto_tableau(3)"
   ]
  },
  {
   "cell_type": "code",
   "execution_count": 9,
   "metadata": {},
   "outputs": [],
   "source": [
    "#get_glrk_lobatto_tableau(4)"
   ]
  },
  {
   "cell_type": "code",
   "execution_count": null,
   "metadata": {},
   "outputs": [],
   "source": []
  }
 ],
 "metadata": {
  "@webio": {
   "lastCommId": null,
   "lastKernelId": null
  },
  "kernelspec": {
   "display_name": "Julia 1.5.2",
   "language": "julia",
   "name": "julia-1.5"
  },
  "language_info": {
   "file_extension": ".jl",
   "mimetype": "application/julia",
   "name": "julia",
   "version": "1.5.2"
  }
 },
 "nbformat": 4,
 "nbformat_minor": 2
}
