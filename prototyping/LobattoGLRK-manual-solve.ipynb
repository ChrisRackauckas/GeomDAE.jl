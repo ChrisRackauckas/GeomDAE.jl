{
 "cells": [
  {
   "cell_type": "code",
   "execution_count": 1,
   "metadata": {},
   "outputs": [],
   "source": [
    "using SymPy"
   ]
  },
  {
   "cell_type": "code",
   "execution_count": 2,
   "metadata": {},
   "outputs": [
    {
     "data": {
      "text/plain": [
       "@sym (macro with 1 method)"
      ]
     },
     "execution_count": 2,
     "metadata": {},
     "output_type": "execute_result"
    }
   ],
   "source": [
    "function _sym(x::Expr)\n",
    "    y = x\n",
    "    y.args .= _sym.(y.args)\n",
    "    return  y\n",
    "end\n",
    "\n",
    "_sym(x::Number) = Sym(x)\n",
    "_sym(x) = x\n",
    "\n",
    "macro sym(x)\n",
    "    return esc(_sym(x))\n",
    "end"
   ]
  },
  {
   "cell_type": "code",
   "execution_count": 3,
   "metadata": {},
   "outputs": [
    {
     "data": {
      "text/plain": [
       "get_glrk_nodes (generic function with 1 method)"
      ]
     },
     "execution_count": 3,
     "metadata": {},
     "output_type": "execute_result"
    }
   ],
   "source": [
    "function get_glrk_nodes(s)\n",
    "    if s == 1\n",
    "        c = @sym Vector([1//2])\n",
    "    elseif s == 2\n",
    "        c = @sym [1/2-√3/6, 1/2+√3/6]\n",
    "    elseif s == 3\n",
    "        c = @sym [1/2-√15/10,  1/2,        1/2+√15/10 ]\n",
    "    elseif s == 4\n",
    "        c = @sym [\n",
    "          1/2-√(3/7+2*√30/35)/2,\n",
    "          1/2-√(3/7-2*√30/35)/2,\n",
    "          1/2+√(3/7-2*√30/35)/2,\n",
    "          1/2+√(3/7+2*√30/35)/2\n",
    "        ]\n",
    "    else\n",
    "        @error \"GLRK nodes for \" * string(s) * \" stages not implemented.\"\n",
    "    end\n",
    "\n",
    "    return c\n",
    "end"
   ]
  },
  {
   "cell_type": "code",
   "execution_count": 4,
   "metadata": {},
   "outputs": [
    {
     "data": {
      "text/plain": [
       "get_lobatto_nodes (generic function with 1 method)"
      ]
     },
     "execution_count": 4,
     "metadata": {},
     "output_type": "execute_result"
    }
   ],
   "source": [
    "function get_lobatto_nodes(s)\n",
    "    if s == 2\n",
    "        c = @sym [0, 1]\n",
    "    elseif s == 3\n",
    "        c = @sym [0, 1//2, 1]\n",
    "    elseif s == 4\n",
    "        c = @sym [0,  (5-√5)/10,   (5+√5)/10,  1]\n",
    "    elseif s == 5\n",
    "        c = @sym [0,  1//2-√21/14,  1//2,  1//2+√21/14,  1]\n",
    "    else\n",
    "        @error \"Lobatto nodes for \" * string(s) * \" stages not implemented.\"\n",
    "    end\n",
    "\n",
    "    return c\n",
    "end"
   ]
  },
  {
   "cell_type": "code",
   "execution_count": 27,
   "metadata": {},
   "outputs": [
    {
     "data": {
      "text/plain": [
       "get_glrk_lobatto_tableau (generic function with 1 method)"
      ]
     },
     "execution_count": 27,
     "metadata": {},
     "output_type": "execute_result"
    }
   ],
   "source": [
    "function get_glrk_lobatto_tableau(s)\n",
    "    c = get_glrk_nodes(s)\n",
    "    c̄ = get_lobatto_nodes(s+1)\n",
    "    a = [Sym(\"a_\" * string(i) * string(j)) for i in 0:s, j in 1:s]\n",
    "    A = [Sym(0) for i in 0:s, j in 1:s]\n",
    "    \n",
    "    sol = Dict()\n",
    "\n",
    "    for i in 0:s\n",
    "        eqs = Sym[]\n",
    "        for k in 1:s\n",
    "            eq = - c̄[i+1]^k / k\n",
    "            for j in 1:s\n",
    "                eq += a[i+1,j] * c[j]^(k-1)\n",
    "            end\n",
    "            push!(eqs, eq)\n",
    "        end\n",
    "\n",
    "        for k in 1:s\n",
    "            A[i+1,k] = solve(eqs[k], a[i+1,k])[1]            \n",
    "            for l in k+1:s\n",
    "                eqs[l] = simplify(subs(eqs[l], a[i+1,k], A[i+1,k]))\n",
    "            end\n",
    "        end\n",
    "        \n",
    "        for k in s-1:-1:1\n",
    "            for l in k+1:s\n",
    "                A[i+1,k] = subs(A[i+1,k], a[i+1,l], A[i+1,l])\n",
    "            end\n",
    "#            A[i+1,k] = simplify(A[i+1,k])\n",
    "        end\n",
    "    end\n",
    "    \n",
    "    return A\n",
    "end"
   ]
  },
  {
   "cell_type": "code",
   "execution_count": 28,
   "metadata": {},
   "outputs": [
    {
     "data": {
      "text/latex": [
       "\\[\\left[ \\begin{array}{r}0\\\\1\\end{array}\\right]\\]"
      ],
      "text/plain": [
       "2×1 Array{Sym,2}:\n",
       " 0\n",
       " 1"
      ]
     },
     "execution_count": 28,
     "metadata": {},
     "output_type": "execute_result"
    }
   ],
   "source": [
    "get_glrk_lobatto_tableau(1)"
   ]
  },
  {
   "cell_type": "code",
   "execution_count": 29,
   "metadata": {},
   "outputs": [
    {
     "data": {
      "text/latex": [
       "\\[\\left[ \\begin{array}{rr}0&0\\\\\\frac{\\sqrt{3}}{8} + \\frac{1}{4}&- \\frac{\\sqrt{3}}{8} + \\frac{1}{4}\\\\\\frac{1}{2}&\\frac{1}{2}\\end{array}\\right]\\]"
      ],
      "text/plain": [
       "3×2 Array{Sym,2}:\n",
       "               0                 0\n",
       " sqrt(3)/8 + 1/4  -sqrt(3)/8 + 1/4\n",
       "             1/2               1/2"
      ]
     },
     "execution_count": 29,
     "metadata": {},
     "output_type": "execute_result"
    }
   ],
   "source": [
    "get_glrk_lobatto_tableau(2)"
   ]
  },
  {
   "cell_type": "code",
   "execution_count": 30,
   "metadata": {},
   "outputs": [
    {
     "data": {
      "text/latex": [
       "\\[\\left[ \\begin{array}{rrr}0&0&0\\\\- \\frac{\\sqrt{5}}{180} + \\frac{\\sqrt{15}}{30} + \\frac{5}{36}&- \\frac{4 \\sqrt{5}}{45} + \\frac{2}{9}&- \\frac{\\sqrt{15}}{30} - \\frac{\\sqrt{5}}{180} + \\frac{5}{36}\\\\\\frac{\\sqrt{5}}{180} + \\frac{\\sqrt{15}}{30} + \\frac{5}{36}&\\frac{4 \\sqrt{5}}{45} + \\frac{2}{9}&- \\frac{\\sqrt{15}}{30} + \\frac{\\sqrt{5}}{180} + \\frac{5}{36}\\\\\\frac{5}{18}&\\frac{4}{9}&\\frac{5}{18}\\end{array}\\right]\\]"
      ],
      "text/plain": [
       "4×3 Array{Sym,2}:\n",
       "                                 0  …                                  0\n",
       " -sqrt(5)/180 + sqrt(15)/30 + 5/36     -sqrt(15)/30 - sqrt(5)/180 + 5/36\n",
       "  sqrt(5)/180 + sqrt(15)/30 + 5/36     -sqrt(15)/30 + sqrt(5)/180 + 5/36\n",
       "                              5/18                                  5/18"
      ]
     },
     "execution_count": 30,
     "metadata": {},
     "output_type": "execute_result"
    }
   ],
   "source": [
    "get_glrk_lobatto_tableau(3)"
   ]
  },
  {
   "cell_type": "code",
   "execution_count": 39,
   "metadata": {},
   "outputs": [
    {
     "data": {
      "text/plain": [
       "5×4 Array{Real,2}:\n",
       " 0         0           0            0\n",
       " 0.159167  0.0156555  -0.00264993   0.000500452\n",
       " 0.176106  0.304916    0.0211566   -0.00217852\n",
       " 0.173427  0.328723    0.310417     0.0147603\n",
       " 0.173927  0.326073    0.326073     0.173927"
      ]
     },
     "execution_count": 39,
     "metadata": {},
     "output_type": "execute_result"
    }
   ],
   "source": [
    "a = get_glrk_lobatto_tableau(4)\n",
    "b = N.(a)"
   ]
  },
  {
   "cell_type": "code",
   "execution_count": 50,
   "metadata": {},
   "outputs": [
    {
     "data": {
      "text/plain": [
       "array_to_code (generic function with 1 method)"
      ]
     },
     "execution_count": 50,
     "metadata": {},
     "output_type": "execute_result"
    }
   ],
   "source": [
    "function array_to_code(name, x::Matrix)\n",
    "    s = string(name) * \" = [\\n\"\n",
    "    \n",
    "    for i in axes(x,1)\n",
    "        s *= \"[\"\n",
    "        for j in axes(x,2)\n",
    "            s *= \" \"\n",
    "            s *= string(x[i,j])\n",
    "            s *= \" \"\n",
    "        end\n",
    "        s *= \"]\\n\"\n",
    "    end\n",
    "    \n",
    "    s *= \"]\\n\"\n",
    "end"
   ]
  },
  {
   "cell_type": "code",
   "execution_count": 52,
   "metadata": {},
   "outputs": [
    {
     "data": {
      "text/plain": [
       "\"x = [\\n[ 0  0  0  0 ]\\n[ 0.1591671294900345358547852036503968244037099929876660089701433805420016628303049  0.01565551541810189985834126767767053597372403599533987485875443079743596295789264  -0.002649931830622319490548503812025451589560291885905677307276227674989121280824921  0.0005004515684973118782758043605289134275222217051875147207182646279180365249293946 ]\\n[ 0.176105937938662021225385981377510389121610166295011341406551070207182545793024  0.3049159394838621526624258370570061164298248408582482915516281042450345033436905  0.02115663794741091865104218833199417995250081122480493820210723599558956292335403  -0.002178515369935092538854006766510685503935818378064571160286410447806612060067542 ]\\n[ 0.1734269710002296168082561702504707901901521262117592555255463951314578972080256  0.3287225092618953908040165292010257479718859439689589070610115679156131875478712  0.3104170620131711714551267577113297604086016160877133548949809094431881033091524  0.01476029307869239283174677096060287921396435492928076127612127921737427090265032 ]\\n[ 0.1739274225687269286865319746109997036176743479169467702462646597593759337329541  0.3260725774312730713134680253890002963823256520830532297537353402406240662670459  0.3260725774312730713134680253890002963823256520830532297537353402406240662670459  0.1739274225687269286865319746109997036176743479169467702462646597593759337329541 ]\\n]\\n\""
      ]
     },
     "execution_count": 52,
     "metadata": {},
     "output_type": "execute_result"
    }
   ],
   "source": [
    "array_to_code(:x, b)"
   ]
  },
  {
   "cell_type": "code",
   "execution_count": 53,
   "metadata": {},
   "outputs": [
    {
     "name": "stdout",
     "output_type": "stream",
     "text": [
      "x = [\n",
      "[ 0  0  0  0 ]\n",
      "[ 0.1591671294900345358547852036503968244037099929876660089701433805420016628303049  0.01565551541810189985834126767767053597372403599533987485875443079743596295789264  -0.002649931830622319490548503812025451589560291885905677307276227674989121280824921  0.0005004515684973118782758043605289134275222217051875147207182646279180365249293946 ]\n",
      "[ 0.176105937938662021225385981377510389121610166295011341406551070207182545793024  0.3049159394838621526624258370570061164298248408582482915516281042450345033436905  0.02115663794741091865104218833199417995250081122480493820210723599558956292335403  -0.002178515369935092538854006766510685503935818378064571160286410447806612060067542 ]\n",
      "[ 0.1734269710002296168082561702504707901901521262117592555255463951314578972080256  0.3287225092618953908040165292010257479718859439689589070610115679156131875478712  0.3104170620131711714551267577113297604086016160877133548949809094431881033091524  0.01476029307869239283174677096060287921396435492928076127612127921737427090265032 ]\n",
      "[ 0.1739274225687269286865319746109997036176743479169467702462646597593759337329541  0.3260725774312730713134680253890002963823256520830532297537353402406240662670459  0.3260725774312730713134680253890002963823256520830532297537353402406240662670459  0.1739274225687269286865319746109997036176743479169467702462646597593759337329541 ]\n",
      "]\n",
      "\n"
     ]
    }
   ],
   "source": [
    "println(array_to_code(:x, b))"
   ]
  },
  {
   "cell_type": "code",
   "execution_count": null,
   "metadata": {},
   "outputs": [],
   "source": []
  }
 ],
 "metadata": {
  "kernelspec": {
   "display_name": "Julia 1.5.3",
   "language": "julia",
   "name": "julia-1.5"
  },
  "language_info": {
   "file_extension": ".jl",
   "mimetype": "application/julia",
   "name": "julia",
   "version": "1.5.3"
  }
 },
 "nbformat": 4,
 "nbformat_minor": 2
}
