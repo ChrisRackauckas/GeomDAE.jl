{
 "cells": [
  {
   "cell_type": "markdown",
   "metadata": {},
   "source": [
    "# Symbolic Computation of Lobatto Tableaus"
   ]
  },
  {
   "cell_type": "code",
   "execution_count": 7,
   "metadata": {},
   "outputs": [
    {
     "name": "stderr",
     "output_type": "stream",
     "text": [
      "WARNING: using CommonFunctions.derivative in module Main conflicts with an existing identifier.\n"
     ]
    }
   ],
   "source": [
    "using GeometricIntegrators.CommonFunctions\n",
    "using GeometricIntegrators.Quadratures\n",
    "using GeometricIntegrators.Utils\n",
    "using Polynomials\n",
    "using Test"
   ]
  },
  {
   "cell_type": "markdown",
   "metadata": {},
   "source": [
    "## Nodes"
   ]
  },
  {
   "cell_type": "code",
   "execution_count": 8,
   "metadata": {},
   "outputs": [
    {
     "data": {
      "text/plain": [
       "get_lobatto_nodes_legacy (generic function with 1 method)"
      ]
     },
     "execution_count": 8,
     "metadata": {},
     "output_type": "execute_result"
    }
   ],
   "source": [
    "function get_lobatto_nodes_legacy(s)\n",
    "    if s == 1\n",
    "        @error \"Lobatto nodes for one stages not defined.\"\n",
    "    elseif s == 2\n",
    "        c = @dec128 [0, 1]\n",
    "    elseif s == 3\n",
    "        c = @dec128 [0,    1/2,    1]\n",
    "    elseif s == 4\n",
    "        c = @dec128 [0,    (5-√5)/10,    (5+√5)/10,    1]\n",
    "    elseif s == 5\n",
    "        c = @dec128 [0,    1/2-√21/14,    1/2,    1/2+√21/14,    1]\n",
    "    else\n",
    "        c = nodes(LobattoLegendreQuadrature(s))\n",
    "    end\n",
    "\n",
    "    return c\n",
    "end"
   ]
  },
  {
   "cell_type": "code",
   "execution_count": 9,
   "metadata": {},
   "outputs": [
    {
     "data": {
      "text/plain": [
       "get_lobatto_nodes (generic function with 1 method)"
      ]
     },
     "execution_count": 9,
     "metadata": {},
     "output_type": "execute_result"
    }
   ],
   "source": [
    "function get_lobatto_nodes(s)\n",
    "    if s == 1\n",
    "        @error \"Lobatto nodes for one stages not defined.\"\n",
    "    end\n",
    "\n",
    "    D(k) = derivative(Polynomial(BigFloat[0, 1, -1])^(k-1), k-2)\n",
    "    c = sort(real.(roots(D(s))))\n",
    "    c[begin] = 0; c[end] = 1; c\n",
    "end"
   ]
  },
  {
   "cell_type": "code",
   "execution_count": 10,
   "metadata": {},
   "outputs": [],
   "source": [
    "for s in 2:10\n",
    "    @test Float64.(get_lobatto_nodes_legacy(s)) ≈ Float64.(get_lobatto_nodes(s))\n",
    "end"
   ]
  },
  {
   "cell_type": "code",
   "execution_count": 11,
   "metadata": {},
   "outputs": [
    {
     "data": {
      "text/plain": [
       "2-element Array{BigFloat,1}:\n",
       " 0.0\n",
       " 1.0"
      ]
     },
     "execution_count": 11,
     "metadata": {},
     "output_type": "execute_result"
    }
   ],
   "source": [
    "get_lobatto_nodes(2)"
   ]
  },
  {
   "cell_type": "code",
   "execution_count": 12,
   "metadata": {},
   "outputs": [
    {
     "data": {
      "text/plain": [
       "3-element Array{BigFloat,1}:\n",
       " 0.0\n",
       " 0.50\n",
       " 1.0"
      ]
     },
     "execution_count": 12,
     "metadata": {},
     "output_type": "execute_result"
    }
   ],
   "source": [
    "get_lobatto_nodes(3)"
   ]
  },
  {
   "cell_type": "code",
   "execution_count": 13,
   "metadata": {},
   "outputs": [
    {
     "data": {
      "text/plain": [
       "4-element Array{BigFloat,1}:\n",
       " 0.0\n",
       " 0.2763932022500210303590826331268723764559381640388474275729102754589479074362396\n",
       " 0.723606797749978969640917366873127623544061835961152572427089724541052092563782\n",
       " 1.0"
      ]
     },
     "execution_count": 13,
     "metadata": {},
     "output_type": "execute_result"
    }
   ],
   "source": [
    "get_lobatto_nodes(4)"
   ]
  },
  {
   "cell_type": "code",
   "execution_count": 14,
   "metadata": {},
   "outputs": [
    {
     "data": {
      "text/plain": [
       "5-element Array{BigFloat,1}:\n",
       " 0.0\n",
       " 0.1726731646460114281008537718765708222153959588022877212423398482923665410323274\n",
       " 0.4999999999999999999999999999999999999999999999999999999999999999999999999998834\n",
       " 0.8273268353539885718991462281234291777846040411977122787576601517076334589676855\n",
       " 1.0"
      ]
     },
     "execution_count": 14,
     "metadata": {},
     "output_type": "execute_result"
    }
   ],
   "source": [
    "get_lobatto_nodes(5)"
   ]
  },
  {
   "cell_type": "code",
   "execution_count": 15,
   "metadata": {},
   "outputs": [
    {
     "data": {
      "text/plain": [
       "6-element Array{BigFloat,1}:\n",
       " 0.0\n",
       " 0.1174723380352676535744985130203309248171321557319478803362088220814723414805943\n",
       " 0.35738424175967745184292450297956046404049826363678730409012479173615103454306\n",
       " 0.6426157582403225481570754970204395359595017363632126959098752082638489654567069\n",
       " 0.8825276619647323464255014869796690751828678442680521196637911779185276585199088\n",
       " 1.0"
      ]
     },
     "execution_count": 15,
     "metadata": {},
     "output_type": "execute_result"
    }
   ],
   "source": [
    "get_lobatto_nodes(6)"
   ]
  },
  {
   "cell_type": "code",
   "execution_count": 16,
   "metadata": {},
   "outputs": [
    {
     "data": {
      "text/plain": [
       "7-element Array{BigFloat,1}:\n",
       " 0.0\n",
       " 0.08488805186071653506398389301626743020641481756400195420459339398355773991364278\n",
       " 0.2655756032646428930981140590456168352972012641640776214486652703185222349413414\n",
       " 0.5000000000000000000000000000000000000000000000000000000000000000000000000023749\n",
       " 0.7344243967353571069018859409543831647027987358359223785513347296814777650474359\n",
       " 0.9151119481392834649360161069837325697935851824359980457954066060164422601075838\n",
       " 1.0"
      ]
     },
     "execution_count": 16,
     "metadata": {},
     "output_type": "execute_result"
    }
   ],
   "source": [
    "get_lobatto_nodes(7)"
   ]
  },
  {
   "cell_type": "code",
   "execution_count": 17,
   "metadata": {},
   "outputs": [
    {
     "data": {
      "text/plain": [
       "8-element Array{BigFloat,1}:\n",
       " 0.0\n",
       " 0.06412992574519669233127711938966828094810966516150832254029235721305050295352852\n",
       " 0.2041499092834288489277446343010234050271495052413337516288702042649259099752277\n",
       " 0.3953503910487605656156713698273243723522272974566594505545766538389345381780476\n",
       " 0.6046496089512394343843286301726756276477727025433405494454233461610654618169866\n",
       " 0.7958500907165711510722553656989765949728504947586662483711297957350740900454063\n",
       " 0.9358700742548033076687228806103317190518903348384916774597076427869494970095886\n",
       " 1.0"
      ]
     },
     "execution_count": 17,
     "metadata": {},
     "output_type": "execute_result"
    }
   ],
   "source": [
    "get_lobatto_nodes(8)"
   ]
  },
  {
   "cell_type": "code",
   "execution_count": 18,
   "metadata": {},
   "outputs": [
    {
     "data": {
      "text/plain": [
       "9-element Array{BigFloat,1}:\n",
       " 0.0\n",
       " 0.05012100229426992134382737779083102097425985221694778878534366575759336271684139\n",
       " 0.1614068602446311232770572864543287746444851761930467102295183122514507360078053\n",
       " 0.3184412680869109206446239656456703934896788611995609248398631346141947861835702\n",
       " 0.4999999999999999999999999999999999999999999999999999999999999999999999999924261\n",
       " 0.6815587319130890793553760343543296065103211388004390751601368653858052138495797\n",
       " 0.8385931397553688767229427135456712253555148238069532897704816877485492639250917\n",
       " 0.9498789977057300786561726222091689790257401477830522112146563342424066373564187\n",
       " 1.0"
      ]
     },
     "execution_count": 18,
     "metadata": {},
     "output_type": "execute_result"
    }
   ],
   "source": [
    "get_lobatto_nodes(9)"
   ]
  },
  {
   "cell_type": "code",
   "execution_count": 19,
   "metadata": {},
   "outputs": [
    {
     "data": {
      "text/plain": [
       "10-element Array{BigFloat,1}:\n",
       " 0.0\n",
       " 0.04023304591677059308553366958883093292322846227686206425518692770786627926104315\n",
       " 0.1306130674472474624984469125700846374919074493115366572674455034724233421300869\n",
       " 0.2610375250947777521694124536343710010566135533347167655428715801541887244572744\n",
       " 0.4173605211668064876868901170209132333844248282252581344335502139476058517342122\n",
       " 0.5826394788331935123131098829790867666155751717747418655664497860523941485414154\n",
       " 0.738962474905222247830587546365628998943386446665283234457128419845811274261537\n",
       " 0.8693869325527525375015530874299153625080925506884633427325544965275766608982374\n",
       " 0.9597669540832294069144663304111690670767715377231379357448130722921337165088503\n",
       " 1.0"
      ]
     },
     "execution_count": 19,
     "metadata": {},
     "output_type": "execute_result"
    }
   ],
   "source": [
    "get_lobatto_nodes(10)"
   ]
  },
  {
   "cell_type": "markdown",
   "metadata": {},
   "source": [
    "## Weights"
   ]
  },
  {
   "cell_type": "code",
   "execution_count": 20,
   "metadata": {},
   "outputs": [
    {
     "data": {
      "text/plain": [
       "get_lobatto_weights_legacy (generic function with 1 method)"
      ]
     },
     "execution_count": 20,
     "metadata": {},
     "output_type": "execute_result"
    }
   ],
   "source": [
    "function get_lobatto_weights_legacy(s)\n",
    "    if s == 1\n",
    "        @error \"Lobatto weights for one stages not defined.\"\n",
    "    elseif s == 2\n",
    "        b = @dec128 [1/2, 1/2]\n",
    "    elseif s == 3\n",
    "        b = @dec128 [1/6,  2/3,  1/6]\n",
    "    elseif s == 4\n",
    "        b = @dec128 [1/12,   5/12,   5/12,   1/12]\n",
    "    elseif s == 5\n",
    "        b = @dec128 [1/20,   49/180,   16/45,   49/180,   1/20]\n",
    "    else\n",
    "        b = weights(LobattoLegendreQuadrature(s))\n",
    "    end\n",
    "\n",
    "    return b\n",
    "end"
   ]
  },
  {
   "cell_type": "code",
   "execution_count": 21,
   "metadata": {},
   "outputs": [
    {
     "data": {
      "text/plain": [
       "get_lobatto_weights (generic function with 1 method)"
      ]
     },
     "execution_count": 21,
     "metadata": {},
     "output_type": "execute_result"
    }
   ],
   "source": [
    "function get_lobatto_weights(s)\n",
    "    if s == 1\n",
    "        @error \"Lobatto weights for one stages not defined.\"\n",
    "    end\n",
    "\n",
    "    P(k,x) = derivative(Polynomial([-1, 0, 1])^k, k)(x) / factorial(k) / 2^k\n",
    "    c = get_lobatto_nodes(s)\n",
    "    b = [ 1 / ( s*(s-1) * P(s-1, 2c[i] - 1)^2 ) for i in 1:s ]\n",
    "end"
   ]
  },
  {
   "cell_type": "code",
   "execution_count": 22,
   "metadata": {},
   "outputs": [],
   "source": [
    "for s in 2:10\n",
    "    @test Float64.(get_lobatto_weights_legacy(s)) ≈ Float64.(get_lobatto_weights(s))\n",
    "end"
   ]
  },
  {
   "cell_type": "code",
   "execution_count": 23,
   "metadata": {},
   "outputs": [
    {
     "data": {
      "text/plain": [
       "2-element Array{BigFloat,1}:\n",
       " 0.50\n",
       " 0.50"
      ]
     },
     "execution_count": 23,
     "metadata": {},
     "output_type": "execute_result"
    }
   ],
   "source": [
    "get_lobatto_weights(2)"
   ]
  },
  {
   "cell_type": "code",
   "execution_count": 24,
   "metadata": {},
   "outputs": [
    {
     "data": {
      "text/plain": [
       "3-element Array{BigFloat,1}:\n",
       " 0.1666666666666666666666666666666666666666666666666666666666666666666666666666674\n",
       " 0.6666666666666666666666666666666666666666666666666666666666666666666666666666695\n",
       " 0.1666666666666666666666666666666666666666666666666666666666666666666666666666674"
      ]
     },
     "execution_count": 24,
     "metadata": {},
     "output_type": "execute_result"
    }
   ],
   "source": [
    "get_lobatto_weights(3)"
   ]
  },
  {
   "cell_type": "code",
   "execution_count": 25,
   "metadata": {},
   "outputs": [
    {
     "data": {
      "text/plain": [
       "4-element Array{BigFloat,1}:\n",
       " 0.08333333333333333333333333333333333333333333333333333333333333333333333333333369\n",
       " 0.4166666666666666666666666666666666666666666666666666666666666666666666666666652\n",
       " 0.4166666666666666666666666666666666666666666666666666666666666666666666666666652\n",
       " 0.08333333333333333333333333333333333333333333333333333333333333333333333333333369"
      ]
     },
     "execution_count": 25,
     "metadata": {},
     "output_type": "execute_result"
    }
   ],
   "source": [
    "get_lobatto_weights(4)"
   ]
  },
  {
   "cell_type": "code",
   "execution_count": 26,
   "metadata": {},
   "outputs": [
    {
     "data": {
      "text/plain": [
       "5-element Array{BigFloat,1}:\n",
       " 0.05000000000000000000000000000000000000000000000000000000000000000000000000000011\n",
       " 0.2722222222222222222222222222222222222222222222222222222222222222222222222222364\n",
       " 0.3555555555555555555555555555555555555555555555555555555555555555555555555555539\n",
       " 0.2722222222222222222222222222222222222222222222222222222222222222222222222222235\n",
       " 0.05000000000000000000000000000000000000000000000000000000000000000000000000000011"
      ]
     },
     "execution_count": 26,
     "metadata": {},
     "output_type": "execute_result"
    }
   ],
   "source": [
    "get_lobatto_weights(5)"
   ]
  },
  {
   "cell_type": "code",
   "execution_count": 27,
   "metadata": {},
   "outputs": [
    {
     "data": {
      "text/plain": [
       "6-element Array{BigFloat,1}:\n",
       " 0.03333333333333333333333333333333333333333333333333333333333333333333333333333359\n",
       " 0.1892374781489234901583064041060123262381623469486258303271944256799821862795071\n",
       " 0.2774291885177431765083602625606543404285043197180408363394722409866844803871771\n",
       " 0.2774291885177431765083602625606543404285043197180408363394722409866844803871771\n",
       " 0.1892374781489234901583064041060123262381623469486258303271944256799821862794942\n",
       " 0.03333333333333333333333333333333333333333333333333333333333333333333333333333359"
      ]
     },
     "execution_count": 27,
     "metadata": {},
     "output_type": "execute_result"
    }
   ],
   "source": [
    "get_lobatto_weights(6)"
   ]
  },
  {
   "cell_type": "code",
   "execution_count": 28,
   "metadata": {},
   "outputs": [
    {
     "data": {
      "text/plain": [
       "7-element Array{BigFloat,1}:\n",
       " 0.02380952380952380952380952380952380952380952380952380952380952380952380952380947\n",
       " 0.1384130236807829740053502031450331467488136400899412345912671194817223119378067\n",
       " 0.2158726906049313117089355111406811389654720741957730511230185948039919737765138\n",
       " 0.2438095238095238095238095238095238095238095238095238095238095238095238095238091\n",
       " 0.2158726906049313117089355111406811389654720741957730511230185948039919737765095\n",
       " 0.1384130236807829740053502031450331467488136400899412345912671194817223119377851\n",
       " 0.02380952380952380952380952380952380952380952380952380952380952380952380952380947"
      ]
     },
     "execution_count": 28,
     "metadata": {},
     "output_type": "execute_result"
    }
   ],
   "source": [
    "get_lobatto_weights(7)"
   ]
  },
  {
   "cell_type": "code",
   "execution_count": 29,
   "metadata": {},
   "outputs": [
    {
     "data": {
      "text/plain": [
       "8-element Array{BigFloat,1}:\n",
       " 0.0178571428571428571428571428571428571428571428571428571428571428571428571428571\n",
       " 0.1053521135717530196914960328878781622276730830805238840416702908213176249782087\n",
       " 0.1705613462417521823821203385538740858875554878027908047375010369442754416180841\n",
       " 0.2062293973293519407835264857011048947419142862595424540779715293772640762608029\n",
       " 0.2062293973293519407835264857011048947419142862595424540779715293772640762608029\n",
       " 0.1705613462417521823821203385538740858875554878027908047375010369442754416181122\n",
       " 0.105352113571753019691496032887878162227673083080523884041670290821317624978227\n",
       " 0.0178571428571428571428571428571428571428571428571428571428571428571428571428571"
      ]
     },
     "execution_count": 29,
     "metadata": {},
     "output_type": "execute_result"
    }
   ],
   "source": [
    "get_lobatto_weights(8)"
   ]
  },
  {
   "cell_type": "code",
   "execution_count": 30,
   "metadata": {},
   "outputs": [
    {
     "data": {
      "text/plain": [
       "9-element Array{BigFloat,1}:\n",
       " 0.01388888888888888888888888888888888888888888888888888888888888888888888888888886\n",
       " 0.08274768078040276252316986001460415291955361461257967072311179727342770476087284\n",
       " 0.1372693562500808676403528092896863629706256104932546432683968144564555261002949\n",
       " 0.1732142554865231725575657660698591439737663531254582030152941093585521432884773\n",
       " 0.1857596371882086167800453514739229024943310657596371882086167800453514739229014\n",
       " 0.1732142554865231725575657660698591439737663531254582030152941093585521432884773\n",
       " 0.1372693562500808676403528092896863629706256104932546432683968144564555261002345\n",
       " 0.08274768078040276252316986001460415291955361461257967072311179727342770476097323\n",
       " 0.01388888888888888888888888888888888888888888888888888888888888888888888888888886"
      ]
     },
     "execution_count": 30,
     "metadata": {},
     "output_type": "execute_result"
    }
   ],
   "source": [
    "get_lobatto_weights(9)"
   ]
  },
  {
   "cell_type": "code",
   "execution_count": 31,
   "metadata": {},
   "outputs": [
    {
     "data": {
      "text/plain": [
       "10-element Array{BigFloat,1}:\n",
       " 0.01111111111111111111111111111111111111111111111111111111111111111111111111111106\n",
       " 0.06665299542553505556311358537769644905481293749889870744394545177223272630306645\n",
       " 0.1124446710315632260597289108655239213769564569808753205698293668550268429720931\n",
       " 0.1460213418398418789377911286872219461037441948438537722956863552702313819943145\n",
       " 0.1637698805919487283282552639584465723533752995652610885794277149913979376192512\n",
       " 0.1637698805919487283282552639584465723533752995652610885794277149913979376192512\n",
       " 0.1460213418398418789377911286872219461037441948438537722956863552702313819943145\n",
       " 0.1124446710315632260597289108655239213769564569808753205698293668550268429721601\n",
       " 0.06665299542553505556311358537769644905481293749889870744394545177223272630305782\n",
       " 0.01111111111111111111111111111111111111111111111111111111111111111111111111111106"
      ]
     },
     "execution_count": 31,
     "metadata": {},
     "output_type": "execute_result"
    }
   ],
   "source": [
    "get_lobatto_weights(10)"
   ]
  },
  {
   "cell_type": "markdown",
   "metadata": {},
   "source": [
    "## Coefficients"
   ]
  },
  {
   "cell_type": "code",
   "execution_count": 94,
   "metadata": {},
   "outputs": [
    {
     "data": {
      "text/plain": [
       "get_lobatto_coefficients_a (generic function with 1 method)"
      ]
     },
     "execution_count": 94,
     "metadata": {},
     "output_type": "execute_result"
    }
   ],
   "source": [
    "function get_lobatto_coefficients_a(s)\n",
    "    c = get_lobatto_nodes(s)\n",
    "    M = [ c[j]^(k-1) for k in 1:s, j in 1:s ]\n",
    "    \n",
    "    row(i) = begin\n",
    "        r = [ c[i]^k / k for k in 1:s ]\n",
    "        M \\ r\n",
    "    end\n",
    "    \n",
    "    vcat([row(i)' for i in 1:s]...)\n",
    "end"
   ]
  },
  {
   "cell_type": "code",
   "execution_count": 33,
   "metadata": {},
   "outputs": [
    {
     "data": {
      "text/plain": [
       "2×2 Array{BigFloat,2}:\n",
       " 0.0   0.0\n",
       " 0.50  0.50"
      ]
     },
     "execution_count": 33,
     "metadata": {},
     "output_type": "execute_result"
    }
   ],
   "source": [
    "get_lobatto_coefficients_a(2)"
   ]
  },
  {
   "cell_type": "code",
   "execution_count": 34,
   "metadata": {},
   "outputs": [
    {
     "data": {
      "text/plain": [
       "3×3 Array{BigFloat,2}:\n",
       " 0.0       0.0        0.0\n",
       " 0.208333  0.333333  -0.0416667\n",
       " 0.166667  0.666667   0.166667"
      ]
     },
     "execution_count": 34,
     "metadata": {},
     "output_type": "execute_result"
    }
   ],
   "source": [
    "get_lobatto_coefficients_a(3)"
   ]
  },
  {
   "cell_type": "code",
   "execution_count": 35,
   "metadata": {},
   "outputs": [
    {
     "data": {
      "text/plain": [
       "4×4 Array{BigFloat,2}:\n",
       " 0.0        0.0        0.0        -0.0\n",
       " 0.110301   0.189699  -0.0339074   0.0103006\n",
       " 0.0730328  0.450574   0.226967   -0.0269672\n",
       " 0.0833333  0.416667   0.416667    0.0833333"
      ]
     },
     "execution_count": 35,
     "metadata": {},
     "output_type": "execute_result"
    }
   ],
   "source": [
    "get_lobatto_coefficients_a(4)"
   ]
  },
  {
   "cell_type": "code",
   "execution_count": 36,
   "metadata": {},
   "outputs": [
    {
     "data": {
      "text/plain": [
       "5×5 Array{BigFloat,2}:\n",
       " 0.0        0.0        0.0         0.0        -0.0\n",
       " 0.0677284  0.119745  -0.0217357   0.0106358  -0.00370014\n",
       " 0.040625   0.303184   0.177778   -0.030962    0.009375\n",
       " 0.0537001  0.261586   0.377291    0.152477   -0.0177284\n",
       " 0.050      0.272222   0.355556    0.272222    0.050"
      ]
     },
     "execution_count": 36,
     "metadata": {},
     "output_type": "execute_result"
    }
   ],
   "source": [
    "get_lobatto_coefficients_a(5)"
   ]
  },
  {
   "cell_type": "code",
   "execution_count": 37,
   "metadata": {},
   "outputs": [
    {
     "data": {
      "text/plain": [
       "6×6 Array{BigFloat,2}:\n",
       " 0.0        0.0         0.0         0.0          0.0          0.0\n",
       " 0.0456798  0.0818678  -0.0148746   0.00762768  -0.00447178   0.00164343\n",
       " 0.0259084  0.213841    0.133961   -0.0240041    0.0118077   -0.00412931\n",
       " 0.0374626  0.17743     0.301433    0.143468    -0.0246033    0.00742495\n",
       " 0.0316899  0.193709    0.269802    0.292304     0.10737     -0.0123465\n",
       " 0.0333333  0.189237    0.277429    0.277429     0.189237     0.0333333"
      ]
     },
     "execution_count": 37,
     "metadata": {},
     "output_type": "execute_result"
    }
   ],
   "source": [
    "get_lobatto_coefficients_a(6)"
   ]
  },
  {
   "cell_type": "code",
   "execution_count": 38,
   "metadata": {},
   "outputs": [
    {
     "data": {
      "text/plain": [
       "7×7 Array{BigFloat,2}:\n",
       " 0.0        0.0         0.0         0.0         …  -0.0         -0.0\n",
       " 0.0328463  0.0593229  -0.0107686   0.00559759      0.0022171   -0.00083827\n",
       " 0.0180022  0.157701    0.102355   -0.0184783      -0.00568186   0.00209998\n",
       " 0.0275298  0.127788    0.237486    0.121905        0.0106248   -0.00372024\n",
       " 0.0217095  0.144095    0.206295    0.262288       -0.0192881    0.0058073\n",
       " 0.0246478  0.136196    0.219362    0.238212    …   0.0790901   -0.00903674\n",
       " 0.0238095  0.138413    0.215873    0.24381         0.138413     0.0238095"
      ]
     },
     "execution_count": 38,
     "metadata": {},
     "output_type": "execute_result"
    }
   ],
   "source": [
    "get_lobatto_coefficients_a(7)"
   ]
  },
  {
   "cell_type": "code",
   "execution_count": 39,
   "metadata": {},
   "outputs": [
    {
     "data": {
      "text/plain": [
       "8×8 Array{BigFloat,2}:\n",
       " 0.0        0.0         0.0          0.0         …   0.0         -0.0\n",
       " 0.0247375  0.0448927  -0.00814077   0.00425408     -0.00122622   0.000471473\n",
       " 0.0132587  0.12065     0.0799976   -0.0144808       0.00310495  -0.00117958\n",
       " 0.0210344  0.0962802   0.189042     0.101246       -0.00560886   0.00207742\n",
       " 0.0157797  0.110961    0.161144     0.224367        0.00907194  -0.00317721\n",
       " 0.0190367  0.102247    0.175394     0.198597    …  -0.0152976    0.00459842\n",
       " 0.0173857  0.106578    0.168716     0.208934        0.0604595   -0.00688037\n",
       " 0.0178571  0.105352    0.170561     0.206229        0.105352     0.0178571"
      ]
     },
     "execution_count": 39,
     "metadata": {},
     "output_type": "execute_result"
    }
   ],
   "source": [
    "get_lobatto_coefficients_a(8)"
   ]
  },
  {
   "cell_type": "code",
   "execution_count": 40,
   "metadata": {},
   "outputs": [
    {
     "data": {
      "text/plain": [
       "9×9 Array{BigFloat,2}:\n",
       " 0.0        0.0         0.0         0.0         …  -0.0           0.0\n",
       " 0.0192938  0.0351255  -0.0063641   0.00333378      0.000733773  -0.000285196\n",
       " 0.0101841  0.0950865   0.063932   -0.0115857      -0.00184751    0.000713077\n",
       " 0.0165694  0.0750935   0.152882    0.0840855       0.00328962   -0.00125239\n",
       " 0.01199    0.0878698   0.128682    0.189758       -0.00512215    0.00189887\n",
       " 0.0151413  0.0794581   0.142366    0.165214    …   0.00765416   -0.00268048\n",
       " 0.0131758  0.0845952   0.134514    0.177195       -0.0123388     0.00370481\n",
       " 0.0141741  0.0820139   0.138343    0.17172         0.0476222    -0.00540495\n",
       " 0.0138889  0.0827477   0.137269    0.173214        0.0827477     0.0138889"
      ]
     },
     "execution_count": 40,
     "metadata": {},
     "output_type": "execute_result"
    }
   ],
   "source": [
    "get_lobatto_coefficients_a(9)"
   ]
  },
  {
   "cell_type": "code",
   "execution_count": 41,
   "metadata": {},
   "outputs": [
    {
     "data": {
      "text/plain": [
       "10×10 Array{BigFloat,2}:\n",
       " 0.0         0.0         0.0         …  -0.0          -0.0\n",
       " 0.0154651   0.028218   -0.00510908     -0.000466142   0.00018252\n",
       " 0.00807456  0.0767745   0.052118        0.00117017   -0.000456198\n",
       " 0.013376    0.0601845   0.125653       -0.00206901    0.000800076\n",
       " 0.00942487  0.0711997   0.104826        0.00316944   -0.0012079\n",
       " 0.012319    0.0634836   0.117344    …  -0.00454672    0.00168624\n",
       " 0.010311    0.068722    0.109372        0.00646845   -0.00226491\n",
       " 0.0115673   0.0654828   0.114145       -0.0101215     0.00303655\n",
       " 0.0109286   0.0671191   0.111775        0.038435     -0.00435404\n",
       " 0.0111111   0.066653    0.112445        0.066653      0.0111111"
      ]
     },
     "execution_count": 41,
     "metadata": {},
     "output_type": "execute_result"
    }
   ],
   "source": [
    "get_lobatto_coefficients_a(10)"
   ]
  },
  {
   "cell_type": "code",
   "execution_count": 95,
   "metadata": {},
   "outputs": [
    {
     "data": {
      "text/plain": [
       "get_lobatto_coefficients_b (generic function with 1 method)"
      ]
     },
     "execution_count": 95,
     "metadata": {},
     "output_type": "execute_result"
    }
   ],
   "source": [
    "function get_lobatto_coefficients_b(s)\n",
    "    if s == 1\n",
    "        @error \"Lobatto IIIB coefficients for one stage are not defined.\"\n",
    "    end\n",
    "\n",
    "    b = get_lobatto_weights(s)\n",
    "    c = get_lobatto_nodes(s)\n",
    "    \n",
    "    M = [ b[i] * c[i]^(k-1) for k in 1:s, i in 1:s ]\n",
    "    \n",
    "    column(j) = begin\n",
    "        r = [ b[j] / k * (1 - c[j]^k) for k in 1:s ]\n",
    "        M \\ r\n",
    "    end\n",
    "    \n",
    "    hcat([column(j) for j in 1:s]...)\n",
    "end"
   ]
  },
  {
   "cell_type": "code",
   "execution_count": 96,
   "metadata": {},
   "outputs": [
    {
     "data": {
      "text/plain": [
       "2×2 Array{BigFloat,2}:\n",
       " 0.50  0.0\n",
       " 0.50  0.0"
      ]
     },
     "execution_count": 96,
     "metadata": {},
     "output_type": "execute_result"
    }
   ],
   "source": [
    "get_lobatto_coefficients_b(2)"
   ]
  },
  {
   "cell_type": "code",
   "execution_count": 97,
   "metadata": {},
   "outputs": [
    {
     "data": {
      "text/plain": [
       "3×3 Array{BigFloat,2}:\n",
       " 0.166667  -0.166667  0.0\n",
       " 0.166667   0.333333  0.0\n",
       " 0.166667   0.833333  0.0"
      ]
     },
     "execution_count": 97,
     "metadata": {},
     "output_type": "execute_result"
    }
   ],
   "source": [
    "get_lobatto_coefficients_b(3)"
   ]
  },
  {
   "cell_type": "code",
   "execution_count": 98,
   "metadata": {},
   "outputs": [
    {
     "data": {
      "text/plain": [
       "4×4 Array{BigFloat,2}:\n",
       " 0.0833333  -0.134836   0.0515028  0.0\n",
       " 0.0833333   0.226967  -0.0339074  0.0\n",
       " 0.0833333   0.450574   0.189699   0.0\n",
       " 0.0833333   0.365164   0.551503   0.0"
      ]
     },
     "execution_count": 98,
     "metadata": {},
     "output_type": "execute_result"
    }
   ],
   "source": [
    "get_lobatto_coefficients_b(4)"
   ]
  },
  {
   "cell_type": "code",
   "execution_count": 99,
   "metadata": {},
   "outputs": [
    {
     "data": {
      "text/plain": [
       "5×5 Array{BigFloat,2}:\n",
       " 0.050  -0.0965215   0.0666667  -0.0201452   0.0\n",
       " 0.050   0.152477   -0.0404401   0.0106358   0.0\n",
       " 0.050   0.288864    0.177778   -0.0166414   0.0\n",
       " 0.050   0.261586    0.395996    0.119745    0.0\n",
       " 0.050   0.292367    0.288889    0.368744   -0.0"
      ]
     },
     "execution_count": 99,
     "metadata": {},
     "output_type": "execute_result"
    }
   ],
   "source": [
    "get_lobatto_coefficients_b(5)"
   ]
  },
  {
   "cell_type": "code",
   "execution_count": 100,
   "metadata": {},
   "outputs": [
    {
     "data": {
      "text/plain": [
       "6×6 Array{BigFloat,2}:\n",
       " 0.0333333  -0.0700925   0.0617969  -0.0343677   0.00932993  0.0\n",
       " 0.0333333   0.10737    -0.0360694   0.0173105  -0.00447178  0.0\n",
       " 0.0333333   0.199384    0.143468   -0.0240041   0.00520292  0.0\n",
       " 0.0333333   0.184035    0.301433    0.133961   -0.0101461   0.0\n",
       " 0.0333333   0.193709    0.260119    0.313499    0.0818678   0.0\n",
       " 0.0333333   0.179908    0.311797    0.215632    0.25933     0.0"
      ]
     },
     "execution_count": 100,
     "metadata": {},
     "output_type": "execute_result"
    }
   ],
   "source": [
    "get_lobatto_coefficients_b(6)"
   ]
  },
  {
   "cell_type": "code",
   "execution_count": 101,
   "metadata": {},
   "outputs": [
    {
     "data": {
      "text/plain": [
       "7×7 Array{BigFloat,2}:\n",
       " 0.0238095  -0.0525337   0.0526528  …   0.0190398   -0.00487316   0.0\n",
       " 0.0238095   0.0790901  -0.0300823     -0.00886159   0.0022171    0.0\n",
       " 0.0238095   0.145318    0.113518       0.00957758  -0.00223703   0.0\n",
       " 0.0238095   0.135235    0.232234      -0.0163609    0.00317781   0.0\n",
       " 0.0238095   0.14065     0.206295       0.102355    -0.0069046    0.0\n",
       " 0.0238095   0.136196    0.224734   …   0.245955     0.0593229   -0.0\n",
       " 0.0238095   0.143286    0.196833       0.16322      0.190947    -0.0"
      ]
     },
     "execution_count": 101,
     "metadata": {},
     "output_type": "execute_result"
    }
   ],
   "source": [
    "get_lobatto_coefficients_b(7)"
   ]
  },
  {
   "cell_type": "code",
   "execution_count": 102,
   "metadata": {},
   "outputs": [
    {
     "data": {
      "text/plain": [
       "8×8 Array{BigFloat,2}:\n",
       " 0.0178571  -0.0405923   0.0439215  …  -0.0112667    0.00278156   0.0\n",
       " 0.0178571   0.0604595  -0.0247663      0.0050268   -0.00122622   0.0\n",
       " 0.0178571   0.11038     0.0905637     -0.00483267   0.00113986   0.0\n",
       " 0.0178571   0.103179    0.182538       0.00631198  -0.00138144   0.0\n",
       " 0.0178571   0.106734    0.164249      -0.0119763    0.00217319   0.0\n",
       " 0.0178571   0.104212    0.175394   …   0.0799976   -0.00502838   0.0\n",
       " 0.0178571   0.106578    0.165535       0.195328     0.0448927    0.0\n",
       " 0.0178571   0.102571    0.181828       0.12664      0.145944    -0.0"
      ]
     },
     "execution_count": 102,
     "metadata": {},
     "output_type": "execute_result"
    }
   ],
   "source": [
    "get_lobatto_coefficients_b(8)"
   ]
  },
  {
   "cell_type": "code",
   "execution_count": 103,
   "metadata": {},
   "outputs": [
    {
     "data": {
      "text/plain": [
       "9×9 Array{BigFloat,2}:\n",
       " 0.0138889  -0.0322018   0.0366161  …   0.00704762  -0.00169915    0.0\n",
       " 0.0138889   0.0476222  -0.0204688     -0.00306481   0.000733773   0.0\n",
       " 0.0138889   0.086584    0.0733374      0.00275532  -0.000647457   0.0\n",
       " 0.0138889   0.0811551   0.146451      -0.00315474   0.000713855   0.0\n",
       " 0.0138889   0.0836996   0.132725       0.00454457  -0.000951871   0.0\n",
       " 0.0138889   0.0820338   0.140424   …  -0.0091815    0.00159261    0.0\n",
       " 0.0138889   0.0833951   0.134514       0.063932    -0.00383636    0.0\n",
       " 0.0138889   0.0820139   0.140334       0.157738     0.0351255    -0.0\n",
       " 0.0138889   0.0844468   0.130222       0.100653     0.114949      0.0"
      ]
     },
     "execution_count": 103,
     "metadata": {},
     "output_type": "execute_result"
    }
   ],
   "source": [
    "get_lobatto_coefficients_b(9)"
   ]
  },
  {
   "cell_type": "code",
   "execution_count": 104,
   "metadata": {},
   "outputs": [
    {
     "data": {
      "text/plain": [
       "10×10 Array{BigFloat,2}:\n",
       " 0.0111111  -0.0261189   0.0307299  …  -0.00461673   0.00109489    0.0\n",
       " 0.0111111   0.038435   -0.0170752      0.0019741   -0.000466142   0.0\n",
       " 0.0111111   0.0696815   0.0603266     -0.00170044   0.000397009   0.0\n",
       " 0.0111111   0.0654298   0.119721       0.00180066  -0.000411458   0.0\n",
       " 0.0111111   0.0673549   0.108988      -0.00225923   0.0004962     0.0\n",
       " 0.0111111   0.0661568   0.114704   …   0.00345651  -0.000701908   0.0\n",
       " 0.0111111   0.0670645   0.110644      -0.00727681   0.00122318    0.0\n",
       " 0.0111111   0.066256    0.114145       0.052118    -0.00302847   -0.0\n",
       " 0.0111111   0.0671191   0.110471       0.12952      0.028218     -0.0\n",
       " 0.0111111   0.0655581   0.117061       0.0817148    0.0927719    -0.0"
      ]
     },
     "execution_count": 104,
     "metadata": {},
     "output_type": "execute_result"
    }
   ],
   "source": [
    "get_lobatto_coefficients_b(10)"
   ]
  },
  {
   "cell_type": "markdown",
   "metadata": {},
   "source": [
    "### Lobatto-IIIC"
   ]
  },
  {
   "cell_type": "code",
   "execution_count": 186,
   "metadata": {},
   "outputs": [
    {
     "data": {
      "text/plain": [
       "1×1 Array{BigFloat,2}:\n",
       " 1.0"
      ]
     },
     "execution_count": 186,
     "metadata": {},
     "output_type": "execute_result"
    }
   ],
   "source": [
    "s = 2\n",
    "b = get_lobatto_weights(s)\n",
    "c = get_lobatto_nodes(s)\n",
    "M = [ c[j]^(k-1) for k in 1:s-1, j in 2:s ]"
   ]
  },
  {
   "cell_type": "code",
   "execution_count": 187,
   "metadata": {},
   "outputs": [
    {
     "data": {
      "text/plain": [
       "1-element Array{BigFloat,1}:\n",
       " -0.50"
      ]
     },
     "execution_count": 187,
     "metadata": {},
     "output_type": "execute_result"
    }
   ],
   "source": [
    "i = 1\n",
    "r = [ c[i]^k / k - c[1]^(k-1) * b[1] for k in 1:s-1 ]"
   ]
  },
  {
   "cell_type": "code",
   "execution_count": 188,
   "metadata": {},
   "outputs": [
    {
     "data": {
      "text/plain": [
       "1-element Array{BigFloat,1}:\n",
       " -0.50"
      ]
     },
     "execution_count": 188,
     "metadata": {},
     "output_type": "execute_result"
    }
   ],
   "source": [
    "M \\ r"
   ]
  },
  {
   "cell_type": "code",
   "execution_count": 191,
   "metadata": {},
   "outputs": [
    {
     "data": {
      "text/plain": [
       "1-element Array{BigFloat,1}:\n",
       " 0.50"
      ]
     },
     "execution_count": 191,
     "metadata": {},
     "output_type": "execute_result"
    }
   ],
   "source": [
    "i = 2\n",
    "r = [ c[i]^k / k - c[1]^(k-1) * b[1] for k in 1:s-1 ]"
   ]
  },
  {
   "cell_type": "code",
   "execution_count": 192,
   "metadata": {},
   "outputs": [
    {
     "data": {
      "text/plain": [
       "1-element Array{BigFloat,1}:\n",
       " 0.50"
      ]
     },
     "execution_count": 192,
     "metadata": {},
     "output_type": "execute_result"
    }
   ],
   "source": [
    "M \\ r"
   ]
  },
  {
   "cell_type": "code",
   "execution_count": 197,
   "metadata": {},
   "outputs": [
    {
     "data": {
      "text/plain": [
       "get_lobatto_coefficients_c (generic function with 1 method)"
      ]
     },
     "execution_count": 197,
     "metadata": {},
     "output_type": "execute_result"
    }
   ],
   "source": [
    "function get_lobatto_coefficients_c(s)\n",
    "    if s == 1\n",
    "        @error \"Lobatto IIIC coefficients for one stage are not defined.\"\n",
    "    end\n",
    "\n",
    "    b = get_lobatto_weights(s)\n",
    "    c = get_lobatto_nodes(s)\n",
    "    M = [ c[j]^(k-1) for k in 1:s-1, j in 2:s ]\n",
    "    \n",
    "    row(i) = begin\n",
    "        r = [ c[i]^k / k - c[1]^(k-1) * b[1] for k in 1:s-1 ]\n",
    "        M \\ r\n",
    "    end\n",
    "    \n",
    "    hcat(b[1] * ones(s), vcat([row(i)' for i in 1:s]...))\n",
    "end"
   ]
  },
  {
   "cell_type": "code",
   "execution_count": 198,
   "metadata": {},
   "outputs": [
    {
     "data": {
      "text/plain": [
       "2×2 Array{BigFloat,2}:\n",
       " 0.50  -0.50\n",
       " 0.50   0.50"
      ]
     },
     "execution_count": 198,
     "metadata": {},
     "output_type": "execute_result"
    }
   ],
   "source": [
    "get_lobatto_coefficients_c(2)"
   ]
  },
  {
   "cell_type": "code",
   "execution_count": 199,
   "metadata": {},
   "outputs": [
    {
     "data": {
      "text/plain": [
       "3×3 Array{BigFloat,2}:\n",
       " 0.166667  -0.333333   0.166667\n",
       " 0.166667   0.416667  -0.0833333\n",
       " 0.166667   0.666667   0.166667"
      ]
     },
     "execution_count": 199,
     "metadata": {},
     "output_type": "execute_result"
    }
   ],
   "source": [
    "get_lobatto_coefficients_c(3)"
   ]
  },
  {
   "cell_type": "code",
   "execution_count": 202,
   "metadata": {},
   "outputs": [
    {
     "data": {
      "text/plain": [
       "4×4 Array{BigFloat,2}:\n",
       " 0.0833333  -0.186339   0.186339   -0.0833333\n",
       " 0.0833333   0.25      -0.0942079   0.0372678\n",
       " 0.0833333   0.427541   0.25       -0.0372678\n",
       " 0.0833333   0.416667   0.416667    0.0833333"
      ]
     },
     "execution_count": 202,
     "metadata": {},
     "output_type": "execute_result"
    }
   ],
   "source": [
    "get_lobatto_coefficients_c(4)"
   ]
  },
  {
   "cell_type": "code",
   "execution_count": 203,
   "metadata": {},
   "outputs": [
    {
     "data": {
      "text/plain": [
       "5×5 Array{BigFloat,2}:\n",
       " 0.050  -0.116667   0.133333   -0.116667    0.050\n",
       " 0.050   0.161111  -0.0690115   0.0520022  -0.0214286\n",
       " 0.050   0.281309   0.202778   -0.052837    0.01875\n",
       " 0.050   0.27022    0.367424    0.161111   -0.0214286\n",
       " 0.050   0.272222   0.355556    0.272222    0.050"
      ]
     },
     "execution_count": 203,
     "metadata": {},
     "output_type": "execute_result"
    }
   ],
   "source": [
    "get_lobatto_coefficients_c(5)"
   ]
  },
  {
   "cell_type": "code",
   "execution_count": 204,
   "metadata": {},
   "outputs": [
    {
     "data": {
      "text/plain": [
       "6×6 Array{BigFloat,2}:\n",
       " 0.0333333  -0.0794224   0.0961646  -0.0961646   0.0794224  -0.0333333\n",
       " 0.0333333   0.111285   -0.0504934   0.0432465  -0.0338894   0.0139899\n",
       " 0.0333333   0.19615     0.155381   -0.0454246   0.0294989  -0.0115543\n",
       " 0.0333333   0.187269    0.28952     0.155381   -0.0344421   0.0115543\n",
       " 0.0333333   0.189794    0.274543    0.287563    0.111285   -0.0139899\n",
       " 0.0333333   0.189237    0.277429    0.277429    0.189237    0.0333333"
      ]
     },
     "execution_count": 204,
     "metadata": {},
     "output_type": "execute_result"
    }
   ],
   "source": [
    "get_lobatto_coefficients_c(6)"
   ]
  },
  {
   "cell_type": "code",
   "execution_count": 205,
   "metadata": {},
   "outputs": [
    {
     "data": {
      "text/plain": [
       "7×7 Array{BigFloat,2}:\n",
       " 0.0238095  -0.0574069   0.0716926  …   0.0716926  -0.0574069   0.0238095\n",
       " 0.0238095   0.0811113  -0.037979      -0.0306994   0.0240055  -0.00987501\n",
       " 0.0238095   0.143699    0.119841       0.0270639  -0.0196838   0.00790728\n",
       " 0.0238095   0.136758    0.226284      -0.0328149   0.0195946  -0.00744048\n",
       " 0.0238095   0.139032    0.212618       0.119841   -0.0243513   0.00790728\n",
       " 0.0238095   0.138217    0.216838   …   0.224117    0.0811113  -0.00987501\n",
       " 0.0238095   0.138413    0.215873       0.215873    0.138413    0.0238095"
      ]
     },
     "execution_count": 205,
     "metadata": {},
     "output_type": "execute_result"
    }
   ],
   "source": [
    "get_lobatto_coefficients_c(7)"
   ]
  },
  {
   "cell_type": "code",
   "execution_count": 206,
   "metadata": {},
   "outputs": [
    {
     "data": {
      "text/plain": [
       "get_lobatto_coefficients_c̄ (generic function with 1 method)"
      ]
     },
     "execution_count": 206,
     "metadata": {},
     "output_type": "execute_result"
    }
   ],
   "source": [
    "function get_lobatto_coefficients_c̄(s)\n",
    "    if s == 1\n",
    "        @error \"Lobatto IIIC coefficients for one stage are not defined.\"\n",
    "    end\n",
    "\n",
    "    b = get_lobatto_weights(s)\n",
    "    c = get_lobatto_nodes(s)\n",
    "    M = [ c[j]^(k-1) for k in 1:s-1, j in 1:s-1 ]\n",
    "    \n",
    "    row(i) = begin\n",
    "        r = [ c[i]^k / k for k in 1:s-1 ]\n",
    "        M \\ r\n",
    "    end\n",
    "    \n",
    "    hcat(vcat([row(i)' for i in 1:s]...), zeros(s))\n",
    "end"
   ]
  },
  {
   "cell_type": "code",
   "execution_count": 208,
   "metadata": {},
   "outputs": [
    {
     "data": {
      "text/plain": [
       "2×2 Array{BigFloat,2}:\n",
       " 0.0  0.0\n",
       " 1.0  0.0"
      ]
     },
     "execution_count": 208,
     "metadata": {},
     "output_type": "execute_result"
    }
   ],
   "source": [
    "get_lobatto_coefficients_c̄(2)"
   ]
  },
  {
   "cell_type": "code",
   "execution_count": 209,
   "metadata": {},
   "outputs": [
    {
     "data": {
      "text/plain": [
       "3×3 Array{BigFloat,2}:\n",
       " 0.0   0.0   0.0\n",
       " 0.25  0.25  0.0\n",
       " 0.0   1.0   0.0"
      ]
     },
     "execution_count": 209,
     "metadata": {},
     "output_type": "execute_result"
    }
   ],
   "source": [
    "get_lobatto_coefficients_c̄(3)"
   ]
  },
  {
   "cell_type": "code",
   "execution_count": 210,
   "metadata": {},
   "outputs": [
    {
     "data": {
      "text/plain": [
       "4×4 Array{BigFloat,2}:\n",
       " 0.0        0.0        0.0        0.0\n",
       " 0.120601   0.166667  -0.0108746  0.0\n",
       " 0.0460655  0.510875   0.166667   0.0\n",
       " 0.166667   0.230328   0.603006   0.0"
      ]
     },
     "execution_count": 210,
     "metadata": {},
     "output_type": "execute_result"
    }
   ],
   "source": [
    "get_lobatto_coefficients_c̄(4)"
   ]
  },
  {
   "cell_type": "code",
   "execution_count": 211,
   "metadata": {},
   "outputs": [
    {
     "data": {
      "text/plain": [
       "5×5 Array{BigFloat,2}:\n",
       " 0.0          0.0        0.0         0.0         0.0\n",
       " 0.0714286    0.111111  -0.0118687   0.00200217  0.0\n",
       " 0.03125      0.325059   0.152778   -0.00908696  0.0\n",
       " 0.0714286    0.22022    0.424567    0.111111    0.0\n",
       " 1.03634e-76  0.388889   0.222222    0.388889    0.0"
      ]
     },
     "execution_count": 211,
     "metadata": {},
     "output_type": "execute_result"
    }
   ],
   "source": [
    "get_lobatto_coefficients_c̄(5)"
   ]
  },
  {
   "cell_type": "markdown",
   "metadata": {},
   "source": [
    "### Lobatto-IIIF"
   ]
  },
  {
   "cell_type": "code",
   "execution_count": 258,
   "metadata": {},
   "outputs": [
    {
     "data": {
      "text/plain": [
       "get_lobatto_coefficients_f (generic function with 1 method)"
      ]
     },
     "execution_count": 258,
     "metadata": {},
     "output_type": "execute_result"
    }
   ],
   "source": [
    "function get_lobatto_coefficients_f(s)\n",
    "    c = get_lobatto_nodes(s)\n",
    "    M = [ 1 / (k + j - 1) for k in big.(1:s), j in big.(1:s) ]\n",
    "    r = [ 1 / s / (s + k) for k in big.(1:s) ]\n",
    "    α = M \\ r\n",
    "    \n",
    "    Vₛ = [ c[i]^(j-1) for i in big.(1:s), j in big.(1:s) ]\n",
    "    Aₛ = zeros(BigFloat, s, s)\n",
    "    for i in big.(2:s)\n",
    "       Aₛ[i,i-1] = 1 / (i-1)\n",
    "    end\n",
    "    Aₛ[:,s] = α\n",
    "    \n",
    "    Vₛ * Aₛ * inv(Vₛ)\n",
    "end"
   ]
  },
  {
   "cell_type": "code",
   "execution_count": 259,
   "metadata": {},
   "outputs": [
    {
     "data": {
      "text/plain": [
       "2×2 Array{BigFloat,2}:\n",
       " 0.0833333  -0.0833333\n",
       " 0.583333    0.416667"
      ]
     },
     "execution_count": 259,
     "metadata": {},
     "output_type": "execute_result"
    }
   ],
   "source": [
    "get_lobatto_coefficients_f(2)"
   ]
  },
  {
   "cell_type": "code",
   "execution_count": 260,
   "metadata": {},
   "outputs": [
    {
     "data": {
      "text/plain": [
       "3×3 Array{BigFloat,2}:\n",
       " 0.0333333  -0.0666667   0.0333333\n",
       " 0.208333    0.333333   -0.0416667\n",
       " 0.133333    0.733333    0.133333"
      ]
     },
     "execution_count": 260,
     "metadata": {},
     "output_type": "execute_result"
    }
   ],
   "source": [
    "get_lobatto_coefficients_f(3)"
   ]
  },
  {
   "cell_type": "code",
   "execution_count": 261,
   "metadata": {},
   "outputs": [
    {
     "data": {
      "text/plain": [
       "4×4 Array{BigFloat,2}:\n",
       " 0.0178571  -0.0399298   0.0399298  -0.0178571\n",
       " 0.106729    0.197685   -0.0418933   0.013872\n",
       " 0.0694613   0.45856     0.218981   -0.0233958\n",
       " 0.10119     0.376737    0.456596    0.0654762"
      ]
     },
     "execution_count": 261,
     "metadata": {},
     "output_type": "execute_result"
    }
   ],
   "source": [
    "get_lobatto_coefficients_f(4)"
   ]
  },
  {
   "cell_type": "code",
   "execution_count": 262,
   "metadata": {},
   "outputs": [
    {
     "data": {
      "text/plain": [
       "5×5 Array{BigFloat,2}:\n",
       " 0.0111111  -0.0259259   0.0296296  -0.0259259   0.0111111\n",
       " 0.064611    0.127019   -0.0300488   0.0179098  -0.00681754\n",
       " 0.040625    0.303184    0.177778   -0.030962    0.009375\n",
       " 0.0568175   0.254312    0.385604    0.145204   -0.014611\n",
       " 0.0388889   0.298148    0.325926    0.298148    0.0388889"
      ]
     },
     "execution_count": 262,
     "metadata": {},
     "output_type": "execute_result"
    }
   ],
   "source": [
    "get_lobatto_coefficients_f(5)"
   ]
  },
  {
   "cell_type": "code",
   "execution_count": 264,
   "metadata": {},
   "outputs": [
    {
     "data": {
      "text/plain": [
       "6×6 Array{BigFloat,2}:\n",
       " 0.00757576  -0.0180505   0.0218556  -0.0218556   0.0180505  -0.00757576\n",
       " 0.0432473    0.0876637  -0.0218923   0.0146453  -0.0102677   0.00407594\n",
       " 0.0266574    0.212056    0.136122   -0.0261649   0.0135923  -0.00487832\n",
       " 0.0382117    0.175645    0.303594    0.141308   -0.0228187   0.00667594\n",
       " 0.0292574    0.199505    0.262784    0.299321    0.101574   -0.00991396\n",
       " 0.0409091    0.171187    0.299285    0.255574    0.207288    0.0257576"
      ]
     },
     "execution_count": 264,
     "metadata": {},
     "output_type": "execute_result"
    }
   ],
   "source": [
    "get_lobatto_coefficients_f(6)"
   ]
  },
  {
   "cell_type": "code",
   "execution_count": null,
   "metadata": {},
   "outputs": [],
   "source": []
  }
 ],
 "metadata": {
  "@webio": {
   "lastCommId": null,
   "lastKernelId": null
  },
  "kernelspec": {
   "display_name": "Julia 1.5.3",
   "language": "julia",
   "name": "julia-1.5"
  },
  "language_info": {
   "file_extension": ".jl",
   "mimetype": "application/julia",
   "name": "julia",
   "version": "1.5.3"
  }
 },
 "nbformat": 4,
 "nbformat_minor": 4
}
