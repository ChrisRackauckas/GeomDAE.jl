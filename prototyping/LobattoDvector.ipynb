{
 "cells": [
  {
   "cell_type": "code",
   "execution_count": 1,
   "metadata": {},
   "outputs": [],
   "source": [
    "using SymPy"
   ]
  },
  {
   "cell_type": "code",
   "execution_count": 33,
   "metadata": {},
   "outputs": [
    {
     "data": {
      "text/plain": [
       "@sym (macro with 1 method)"
      ]
     },
     "execution_count": 33,
     "metadata": {},
     "output_type": "execute_result"
    }
   ],
   "source": [
    "function _sym(x::Expr)\n",
    "    y = x\n",
    "    y.args .= _sym.(y.args)\n",
    "    return  y\n",
    "end\n",
    "\n",
    "_sym(x::Number) = Sym(x)\n",
    "_sym(x) = x\n",
    "\n",
    "macro sym(x)\n",
    "    return esc(_sym(x))\n",
    "end"
   ]
  },
  {
   "cell_type": "code",
   "execution_count": 16,
   "metadata": {},
   "outputs": [
    {
     "data": {
      "text/plain": [
       "deriv_basis (generic function with 2 methods)"
      ]
     },
     "execution_count": 16,
     "metadata": {},
     "output_type": "execute_result"
    }
   ],
   "source": [
    "struct LagrangeBasis{T,N}\n",
    "    x::Vector{T}\n",
    "\n",
    "    denom::Vector{T}\n",
    "    diffs::Matrix{T}\n",
    "\n",
    "    function LagrangeBasis{T,N}(x) where {T,N}\n",
    "        @assert length(x) == N\n",
    "\n",
    "        local p::T\n",
    "\n",
    "        denom = zeros(T,N)\n",
    "        diffs = zeros(T,N,N)\n",
    "\n",
    "        for i in eachindex(x)\n",
    "            p = 1\n",
    "            for j in eachindex(x)\n",
    "                diffs[i,j] = x[i] - x[j]\n",
    "                if i ≠ j\n",
    "                    p *= diffs[i,j]\n",
    "                end\n",
    "            end\n",
    "            denom[i] = 1/p\n",
    "        end\n",
    "\n",
    "        new(x, denom, diffs)\n",
    "    end\n",
    "end\n",
    "\n",
    "function LagrangeBasis(x::Vector{T}) where {T}\n",
    "    LagrangeBasis{T, length(x)}(x)\n",
    "end\n",
    "\n",
    "nbasis(b::LagrangeBasis{T,N}) where {T,N} = N\n",
    "nnodes(b::LagrangeBasis{T,N}) where {T,N} = N\n",
    "degree(b::LagrangeBasis{T,N}) where {T,N} = N-1\n",
    "\n",
    "function eval_basis(b::LagrangeBasis{T,N}, j::Int, x::T) where {T,N}\n",
    "    local y::T = 1\n",
    "\n",
    "    for i in 1:nnodes(b)\n",
    "        i ≠ j ? y *= (x - b.x[i]) : nothing\n",
    "    end\n",
    "    y * b.denom[j]\n",
    "end\n",
    "\n",
    "function deriv_basis(b::LagrangeBasis{T,N}, j::Int, x::T) where {T,N}\n",
    "    local y::T = 0\n",
    "    local z::T\n",
    "\n",
    "    for l in 1:nnodes(b)\n",
    "        if l ≠ j\n",
    "            z = 1 / b.diffs[j,l]\n",
    "            for i in 1:nnodes(b)\n",
    "                i ≠ j && i ≠ l ? z *= (x - b.x[i]) / b.diffs[j,i] : nothing\n",
    "            end\n",
    "            y += z\n",
    "        end\n",
    "    end\n",
    "    y\n",
    "end\n",
    "\n",
    "deriv_basis(b::LagrangeBasis, j::Int, i::Int) = deriv_basis(b, j, b.x[i])"
   ]
  },
  {
   "cell_type": "code",
   "execution_count": 40,
   "metadata": {},
   "outputs": [
    {
     "data": {
      "text/plain": [
       "get_lobatto_nodes (generic function with 1 method)"
      ]
     },
     "execution_count": 40,
     "metadata": {},
     "output_type": "execute_result"
    }
   ],
   "source": [
    "function get_lobatto_nodes(s)\n",
    "    if s == 2\n",
    "        c = @sym [0, 1]\n",
    "    elseif s == 3\n",
    "        c = @sym [0, 1//2, 1]\n",
    "    elseif s == 4\n",
    "        c = @sym [0,  (5-√5)/10,   (5+√5)/10,  1]\n",
    "    elseif s == 5\n",
    "        c = @sym [0,  1//2-√21/14,  1//2,  1//2+√21/14,  1]\n",
    "    else\n",
    "        @error \"Lobatto nodes for \" * string(s) * \" stages not implemented.\"\n",
    "    end\n",
    "\n",
    "    return c\n",
    "end"
   ]
  },
  {
   "cell_type": "code",
   "execution_count": 35,
   "metadata": {},
   "outputs": [
    {
     "data": {
      "text/plain": [
       "get_deriv_matrix (generic function with 1 method)"
      ]
     },
     "execution_count": 35,
     "metadata": {},
     "output_type": "execute_result"
    }
   ],
   "source": [
    "function get_deriv_matrix(s)\n",
    "    q = (get_lobatto_nodes(s))\n",
    "    l = LagrangeBasis(q)\n",
    "    simplify.([deriv_basis(l, j, i) for i in 1:s, j in 1:s])\n",
    "end"
   ]
  },
  {
   "cell_type": "code",
   "execution_count": 36,
   "metadata": {},
   "outputs": [
    {
     "data": {
      "text/latex": [
       "\\[\\left[ \\begin{array}{rr}-1&1\\\\-1&1\\end{array}\\right]\\]"
      ],
      "text/plain": [
       "2×2 Array{Sym,2}:\n",
       " -1  1\n",
       " -1  1"
      ]
     },
     "execution_count": 36,
     "metadata": {},
     "output_type": "execute_result"
    }
   ],
   "source": [
    "get_deriv_matrix(2)"
   ]
  },
  {
   "cell_type": "code",
   "execution_count": 37,
   "metadata": {},
   "outputs": [
    {
     "data": {
      "text/latex": [
       "\\[\\left[ \\begin{array}{rrr}-3&4&-1\\\\-1&0&1\\\\1&-4&3\\end{array}\\right]\\]"
      ],
      "text/plain": [
       "3×3 Array{Sym,2}:\n",
       " -3   4  -1\n",
       " -1   0   1\n",
       "  1  -4   3"
      ]
     },
     "execution_count": 37,
     "metadata": {},
     "output_type": "execute_result"
    }
   ],
   "source": [
    "get_deriv_matrix(3)"
   ]
  },
  {
   "cell_type": "code",
   "execution_count": 38,
   "metadata": {},
   "outputs": [
    {
     "data": {
      "text/latex": [
       "\\[\\left[ \\begin{array}{rrrr}-6&\\frac{5}{2} + \\frac{5 \\sqrt{5}}{2}&- \\frac{5 \\sqrt{5}}{2} + \\frac{5}{2}&1\\\\- \\frac{\\sqrt{5}}{2} - \\frac{1}{2}&0&\\sqrt{5}&- \\frac{\\sqrt{5}}{2} + \\frac{1}{2}\\\\- \\frac{1}{2} + \\frac{\\sqrt{5}}{2}&- \\sqrt{5}&0&\\frac{1}{2} + \\frac{\\sqrt{5}}{2}\\\\-1&- \\frac{5}{2} + \\frac{5 \\sqrt{5}}{2}&- \\frac{5 \\sqrt{5}}{2} - \\frac{5}{2}&6\\end{array}\\right]\\]"
      ],
      "text/plain": [
       "4×4 Array{Sym,2}:\n",
       "               -6   5/2 + 5*sqrt(5)/2  -5*sqrt(5)/2 + 5/2                 1\n",
       " -sqrt(5)/2 - 1/2                   0             √5  -sqrt(5)/2 + 1/2\n",
       " -1/2 + sqrt(5)/2            -√5                   0   1/2 + sqrt(5)/2\n",
       "               -1  -5/2 + 5*sqrt(5)/2  -5*sqrt(5)/2 - 5/2                 6"
      ]
     },
     "execution_count": 38,
     "metadata": {},
     "output_type": "execute_result"
    }
   ],
   "source": [
    "get_deriv_matrix(4)"
   ]
  },
  {
   "cell_type": "code",
   "execution_count": 41,
   "metadata": {},
   "outputs": [
    {
     "data": {
      "text/latex": [
       "\\[\\left[ \\begin{array}{rrrrr}-10&\\frac{7 \\sqrt{21}}{6} + \\frac{49}{6}&- \\frac{16}{3}&- \\frac{7 \\sqrt{21}}{6} + \\frac{49}{6}&-1\\\\- \\frac{3}{2} - \\frac{3 \\sqrt{21}}{14}&0&\\frac{16 \\sqrt{21}}{21}&- \\frac{\\sqrt{21}}{3}&- \\frac{3 \\sqrt{21}}{14} + \\frac{3}{2}\\\\\\frac{3}{4}&- \\frac{7 \\sqrt{21}}{12}&0&\\frac{7 \\sqrt{21}}{12}&- \\frac{3}{4}\\\\- \\frac{3}{2} + \\frac{3 \\sqrt{21}}{14}&\\frac{\\sqrt{21}}{3}&- \\frac{16 \\sqrt{21}}{21}&0&\\frac{3 \\sqrt{21}}{14} + \\frac{3}{2}\\\\1&- \\frac{49}{6} + \\frac{7 \\sqrt{21}}{6}&\\frac{16}{3}&- \\frac{49}{6} - \\frac{7 \\sqrt{21}}{6}&10\\end{array}\\right]\\]"
      ],
      "text/plain": [
       "5×5 Array{Sym,2}:\n",
       "                  -10   7*sqrt(21)/6 + 49/6  …                    -1\n",
       " -3/2 - 3*sqrt(21)/14                     0     -3*sqrt(21)/14 + 3/2\n",
       "                  3/4        -7*sqrt(21)/12                     -3/4\n",
       " -3/2 + 3*sqrt(21)/14            sqrt(21)/3      3*sqrt(21)/14 + 3/2\n",
       "                    1  -49/6 + 7*sqrt(21)/6                       10"
      ]
     },
     "execution_count": 41,
     "metadata": {},
     "output_type": "execute_result"
    }
   ],
   "source": [
    "get_deriv_matrix(5)"
   ]
  },
  {
   "cell_type": "code",
   "execution_count": 104,
   "metadata": {},
   "outputs": [
    {
     "data": {
      "text/plain": [
       "get_velocities (generic function with 1 method)"
      ]
     },
     "execution_count": 104,
     "metadata": {},
     "output_type": "execute_result"
    }
   ],
   "source": [
    "function get_velocities(s)\n",
    "    a = get_deriv_matrix(s)\n",
    "    q = [symbols(\"Q$i\", real=true) for i in 1:s]\n",
    "    v = simplify.(a * q)\n",
    "end"
   ]
  },
  {
   "cell_type": "code",
   "execution_count": 59,
   "metadata": {},
   "outputs": [
    {
     "data": {
      "text/latex": [
       "\\begin{equation*}c\\end{equation*}"
      ],
      "text/plain": [
       "c"
      ]
     },
     "execution_count": 59,
     "metadata": {},
     "output_type": "execute_result"
    }
   ],
   "source": [
    "c = symbols(\"c\")"
   ]
  },
  {
   "cell_type": "code",
   "execution_count": 54,
   "metadata": {},
   "outputs": [
    {
     "data": {
      "text/latex": [
       "\\[ \\left[ \\begin{array}{r}- Q_{1} + Q_{2}\\\\- Q_{1} + Q_{2}\\end{array} \\right] \\]"
      ],
      "text/plain": [
       "2-element Array{Sym,1}:\n",
       " -Q₁ + Q₂\n",
       " -Q₁ + Q₂"
      ]
     },
     "execution_count": 54,
     "metadata": {},
     "output_type": "execute_result"
    }
   ],
   "source": [
    "v2 = get_velocities(2)"
   ]
  },
  {
   "cell_type": "code",
   "execution_count": 55,
   "metadata": {},
   "outputs": [
    {
     "data": {
      "text/latex": [
       "\\begin{equation*}0\\end{equation*}"
      ],
      "text/plain": [
       "0"
      ]
     },
     "execution_count": 55,
     "metadata": {},
     "output_type": "execute_result"
    }
   ],
   "source": [
    "d2 = @sym [+1, -1]\n",
    "v2' * d2"
   ]
  },
  {
   "cell_type": "code",
   "execution_count": 56,
   "metadata": {},
   "outputs": [
    {
     "data": {
      "text/latex": [
       "\\[ \\left[ \\begin{array}{r}- 3 Q_{1} + 4 Q_{2} - Q_{3}\\\\- Q_{1} + Q_{3}\\\\Q_{1} - 4 Q_{2} + 3 Q_{3}\\end{array} \\right] \\]"
      ],
      "text/plain": [
       "3-element Array{Sym,1}:\n",
       " -3⋅Q₁ + 4⋅Q₂ - Q₃\n",
       "          -Q₁ + Q₃\n",
       "  Q₁ - 4⋅Q₂ + 3⋅Q₃"
      ]
     },
     "execution_count": 56,
     "metadata": {},
     "output_type": "execute_result"
    }
   ],
   "source": [
    "v3 = get_velocities(3)"
   ]
  },
  {
   "cell_type": "code",
   "execution_count": 60,
   "metadata": {},
   "outputs": [
    {
     "data": {
      "text/latex": [
       "\\[ \\left[ \\begin{array}{r}-2\\end{array} \\right] \\]"
      ],
      "text/plain": [
       "1-element Array{Sym,1}:\n",
       " -2"
      ]
     },
     "execution_count": 60,
     "metadata": {},
     "output_type": "execute_result"
    }
   ],
   "source": [
    "d3 = @sym [+1, c, +1]\n",
    "solve(v3' * d3, c)"
   ]
  },
  {
   "cell_type": "code",
   "execution_count": 48,
   "metadata": {},
   "outputs": [
    {
     "data": {
      "text/latex": [
       "\\[ \\left[ \\begin{array}{r}- 6 Q_{1} + Q_{2} \\left(\\frac{5}{2} + \\frac{5 \\sqrt{5}}{2}\\right) + Q_{3} \\left(- \\frac{5 \\sqrt{5}}{2} + \\frac{5}{2}\\right) + Q_{4}\\\\Q_{1} \\left(- \\frac{\\sqrt{5}}{2} - \\frac{1}{2}\\right) + \\sqrt{5} Q_{3} + Q_{4} \\left(- \\frac{\\sqrt{5}}{2} + \\frac{1}{2}\\right)\\\\Q_{1} \\left(- \\frac{1}{2} + \\frac{\\sqrt{5}}{2}\\right) - \\sqrt{5} Q_{2} + Q_{4} \\left(\\frac{1}{2} + \\frac{\\sqrt{5}}{2}\\right)\\\\- Q_{1} + Q_{2} \\left(- \\frac{5}{2} + \\frac{5 \\sqrt{5}}{2}\\right) + Q_{3} \\left(- \\frac{5 \\sqrt{5}}{2} - \\frac{5}{2}\\right) + 6 Q_{4}\\end{array} \\right] \\]"
      ],
      "text/plain": [
       "4-element Array{Sym,1}:\n",
       "  -6*Q1 + Q2*(5/2 + 5*sqrt(5)/2) + Q3*(-5*sqrt(5)/2 + 5/2) + Q4\n",
       "     Q1*(-sqrt(5)/2 - 1/2) + sqrt(5)*Q3 + Q4*(-sqrt(5)/2 + 1/2)\n",
       "      Q1*(-1/2 + sqrt(5)/2) - sqrt(5)*Q2 + Q4*(1/2 + sqrt(5)/2)\n",
       " -Q1 + Q2*(-5/2 + 5*sqrt(5)/2) + Q3*(-5*sqrt(5)/2 - 5/2) + 6*Q4"
      ]
     },
     "execution_count": 48,
     "metadata": {},
     "output_type": "execute_result"
    }
   ],
   "source": [
    "v4 = get_velocities(4)"
   ]
  },
  {
   "cell_type": "code",
   "execution_count": 61,
   "metadata": {},
   "outputs": [
    {
     "data": {
      "text/latex": [
       "\\[ \\left[ \\begin{array}{r}\\sqrt{5}\\end{array} \\right] \\]"
      ],
      "text/plain": [
       "1-element Array{Sym,1}:\n",
       " √5"
      ]
     },
     "execution_count": 61,
     "metadata": {},
     "output_type": "execute_result"
    }
   ],
   "source": [
    "d4 = @sym [+1, -c, +c, -1]\n",
    "solve(v4' * d4, c)"
   ]
  },
  {
   "cell_type": "code",
   "execution_count": 121,
   "metadata": {},
   "outputs": [
    {
     "data": {
      "text/latex": [
       "\\[ \\left[ \\begin{array}{r}- 10 Q_{1} + \\frac{7 Q_{2} \\left(\\sqrt{21} + 7\\right)}{6} - \\frac{16 Q_{3}}{3} + \\frac{7 Q_{4} \\left(- \\sqrt{21} + 7\\right)}{6} - Q_{5}\\\\- \\frac{3 Q_{1} \\left(\\sqrt{21} + 7\\right)}{14} + \\frac{16 \\sqrt{21} Q_{3}}{21} - \\frac{\\sqrt{21} Q_{4}}{3} + \\frac{3 Q_{5} \\left(- \\sqrt{21} + 7\\right)}{14}\\\\\\frac{3 Q_{1}}{4} - \\frac{7 \\sqrt{21} Q_{2}}{12} + \\frac{7 \\sqrt{21} Q_{4}}{12} - \\frac{3 Q_{5}}{4}\\\\- \\frac{3 Q_{1} \\left(- \\sqrt{21} + 7\\right)}{14} + \\frac{\\sqrt{21} Q_{2}}{3} - \\frac{16 \\sqrt{21} Q_{3}}{21} + \\frac{3 Q_{5} \\left(\\sqrt{21} + 7\\right)}{14}\\\\Q_{1} - \\frac{7 Q_{2} \\left(- \\sqrt{21} + 7\\right)}{6} + \\frac{16 Q_{3}}{3} - \\frac{7 Q_{4} \\left(\\sqrt{21} + 7\\right)}{6} + 10 Q_{5}\\end{array} \\right] \\]"
      ],
      "text/plain": [
       "5-element Array{Sym,1}:\n",
       "                -10*Q1 + 7*Q2*(sqrt(21) + 7)/6 - 16*Q3/3 + 7*Q4*(-sqrt(21) + 7)/6 - Q5\n",
       " -3*Q1*(sqrt(21) + 7)/14 + 16*sqrt(21)*Q3/21 - sqrt(21)*Q4/3 + 3*Q5*(-sqrt(21) + 7)/14\n",
       "                                 3*Q1/4 - 7*sqrt(21)*Q2/12 + 7*sqrt(21)*Q4/12 - 3*Q5/4\n",
       " -3*Q1*(-sqrt(21) + 7)/14 + sqrt(21)*Q2/3 - 16*sqrt(21)*Q3/21 + 3*Q5*(sqrt(21) + 7)/14\n",
       "                 Q1 - 7*Q2*(-sqrt(21) + 7)/6 + 16*Q3/3 - 7*Q4*(sqrt(21) + 7)/6 + 10*Q5"
      ]
     },
     "execution_count": 121,
     "metadata": {},
     "output_type": "execute_result"
    }
   ],
   "source": [
    "v5 = get_velocities(5)"
   ]
  },
  {
   "cell_type": "code",
   "execution_count": 157,
   "metadata": {},
   "outputs": [
    {
     "data": {
      "text/latex": [
       "\\[ \\left[ \\begin{array}{r}- 10 Q_{1} + \\frac{7 Q_{2} \\left(\\sqrt{21} + 7\\right)}{6} - \\frac{16 Q_{3}}{3} + \\frac{7 Q_{4} \\left(- \\sqrt{21} + 7\\right)}{6} - Q_{5} - V_{1}\\\\- \\frac{3 Q_{1} \\left(\\sqrt{21} + 7\\right)}{14} + \\frac{16 \\sqrt{21} Q_{3}}{21} - \\frac{\\sqrt{21} Q_{4}}{3} + \\frac{3 Q_{5} \\left(- \\sqrt{21} + 7\\right)}{14} - V_{2}\\\\\\frac{3 Q_{1}}{4} - \\frac{7 \\sqrt{21} Q_{2}}{12} + \\frac{7 \\sqrt{21} Q_{4}}{12} - \\frac{3 Q_{5}}{4} - V_{3}\\\\- \\frac{3 Q_{1} \\left(- \\sqrt{21} + 7\\right)}{14} + \\frac{\\sqrt{21} Q_{2}}{3} - \\frac{16 \\sqrt{21} Q_{3}}{21} + \\frac{3 Q_{5} \\left(\\sqrt{21} + 7\\right)}{14} - V_{4}\\\\Q_{1} - \\frac{7 Q_{2} \\left(- \\sqrt{21} + 7\\right)}{6} + \\frac{16 Q_{3}}{3} - \\frac{7 Q_{4} \\left(\\sqrt{21} + 7\\right)}{6} + 10 Q_{5} - V_{5}\\end{array} \\right] \\]"
      ],
      "text/plain": [
       "5-element Array{Sym,1}:\n",
       "                -10*Q1 + 7*Q2*(sqrt(21) + 7)/6 - 16*Q3/3 + 7*Q4*(-sqrt(21) + 7)/6 - Q5 - V1\n",
       " -3*Q1*(sqrt(21) + 7)/14 + 16*sqrt(21)*Q3/21 - sqrt(21)*Q4/3 + 3*Q5*(-sqrt(21) + 7)/14 - V2\n",
       "                                 3*Q1/4 - 7*sqrt(21)*Q2/12 + 7*sqrt(21)*Q4/12 - 3*Q5/4 - V3\n",
       " -3*Q1*(-sqrt(21) + 7)/14 + sqrt(21)*Q2/3 - 16*sqrt(21)*Q3/21 + 3*Q5*(sqrt(21) + 7)/14 - V4\n",
       "                 Q1 - 7*Q2*(-sqrt(21) + 7)/6 + 16*Q3/3 - 7*Q4*(sqrt(21) + 7)/6 + 10*Q5 - V5"
      ]
     },
     "execution_count": 157,
     "metadata": {},
     "output_type": "execute_result"
    }
   ],
   "source": [
    "s = 5\n",
    "Q5 = [symbols(\"Q$i\", real=true) for i in 1:s]\n",
    "V5 = [symbols(\"V$i\", real=true) for i in 1:s]\n",
    "v5 = simplify.(get_deriv_matrix(s) * Q5)\n",
    "equs = v5 .- V5"
   ]
  },
  {
   "cell_type": "code",
   "execution_count": 158,
   "metadata": {},
   "outputs": [
    {
     "data": {
      "text/latex": [
       "\\begin{equation*}\\frac{7 \\sqrt{21} Q_{2}}{60} + \\frac{49 Q_{2}}{60} - \\frac{8 Q_{3}}{15} - \\frac{7 \\sqrt{21} Q_{4}}{60} + \\frac{49 Q_{4}}{60} - \\frac{Q_{5}}{10} - \\frac{V_{1}}{10}\\end{equation*}"
      ],
      "text/plain": [
       "7⋅√21⋅Q₂   49⋅Q₂   8⋅Q₃   7⋅√21⋅Q₄   49⋅Q₄   Q₅   V₁\n",
       "──────── + ───── - ──── - ──────── + ───── - ── - ──\n",
       "   60        60     15       60        60    10   10"
      ]
     },
     "execution_count": 158,
     "metadata": {},
     "output_type": "execute_result"
    }
   ],
   "source": [
    "Q51 = solve(equs[1], Q5[1])[1]"
   ]
  },
  {
   "cell_type": "code",
   "execution_count": 159,
   "metadata": {},
   "outputs": [
    {
     "data": {
      "text/latex": [
       "\\[ \\left[ \\begin{array}{r}0\\\\- \\frac{7 Q_{2}}{4} - \\frac{7 \\sqrt{21} Q_{2}}{20} + \\frac{4 Q_{3}}{5} + \\frac{92 \\sqrt{21} Q_{3}}{105} - \\frac{\\sqrt{21} Q_{4}}{3} - \\frac{7 Q_{4}}{10} - \\frac{27 \\sqrt{21} Q_{5}}{140} + \\frac{33 Q_{5}}{20} + \\frac{3 \\sqrt{21} V_{1}}{140} + \\frac{3 V_{1}}{20} - V_{2}\\\\- \\frac{119 \\sqrt{21} Q_{2}}{240} + \\frac{49 Q_{2}}{80} - \\frac{2 Q_{3}}{5} + \\frac{49 Q_{4}}{80} + \\frac{119 \\sqrt{21} Q_{4}}{240} - \\frac{33 Q_{5}}{40} - \\frac{3 V_{1}}{40} - V_{3}\\\\- \\frac{7 Q_{2}}{10} + \\frac{\\sqrt{21} Q_{2}}{3} - \\frac{92 \\sqrt{21} Q_{3}}{105} + \\frac{4 Q_{3}}{5} - \\frac{7 Q_{4}}{4} + \\frac{7 \\sqrt{21} Q_{4}}{20} + \\frac{27 \\sqrt{21} Q_{5}}{140} + \\frac{33 Q_{5}}{20} - \\frac{3 \\sqrt{21} V_{1}}{140} + \\frac{3 V_{1}}{20} - V_{4}\\\\- \\frac{147 Q_{2}}{20} + \\frac{77 \\sqrt{21} Q_{2}}{60} + \\frac{24 Q_{3}}{5} - \\frac{147 Q_{4}}{20} - \\frac{77 \\sqrt{21} Q_{4}}{60} + \\frac{99 Q_{5}}{10} - \\frac{V_{1}}{10} - V_{5}\\end{array} \\right] \\]"
      ],
      "text/plain": [
       "5-element Array{Sym,1}:\n",
       "                                                                                                                                                     0\n",
       " -7*Q2/4 - 7*sqrt(21)*Q2/20 + 4*Q3/5 + 92*sqrt(21)*Q3/105 - sqrt(21)*Q4/3 - 7*Q4/10 - 27*sqrt(21)*Q5/140 + 33*Q5/20 + 3*sqrt(21)*V1/140 + 3*V1/20 - V2\n",
       "                                                   -119*sqrt(21)*Q2/240 + 49*Q2/80 - 2*Q3/5 + 49*Q4/80 + 119*sqrt(21)*Q4/240 - 33*Q5/40 - 3*V1/40 - V3\n",
       " -7*Q2/10 + sqrt(21)*Q2/3 - 92*sqrt(21)*Q3/105 + 4*Q3/5 - 7*Q4/4 + 7*sqrt(21)*Q4/20 + 27*sqrt(21)*Q5/140 + 33*Q5/20 - 3*sqrt(21)*V1/140 + 3*V1/20 - V4\n",
       "                                                      -147*Q2/20 + 77*sqrt(21)*Q2/60 + 24*Q3/5 - 147*Q4/20 - 77*sqrt(21)*Q4/60 + 99*Q5/10 - V1/10 - V5"
      ]
     },
     "execution_count": 159,
     "metadata": {},
     "output_type": "execute_result"
    }
   ],
   "source": [
    "equs = [simplify(subs(equs[i], Q5[1], Q51)) for i in 1:s]"
   ]
  },
  {
   "cell_type": "code",
   "execution_count": 160,
   "metadata": {},
   "outputs": [
    {
     "data": {
      "text/latex": [
       "\\begin{equation*}- \\frac{7 \\sqrt{21} Q_{2}}{54} + \\frac{49 Q_{2}}{66} - \\frac{16 Q_{3}}{33} + \\frac{7 \\sqrt{21} Q_{4}}{54} + \\frac{49 Q_{4}}{66} + \\frac{V_{1}}{99} + \\frac{10 V_{5}}{99}\\end{equation*}"
      ],
      "text/plain": [
       "  7⋅√21⋅Q₂   49⋅Q₂   16⋅Q₃   7⋅√21⋅Q₄   49⋅Q₄   V₁   10⋅V₅\n",
       "- ──────── + ───── - ───── + ──────── + ───── + ── + ─────\n",
       "     54        66      33       54        66    99     99 "
      ]
     },
     "execution_count": 160,
     "metadata": {},
     "output_type": "execute_result"
    }
   ],
   "source": [
    "Q55 = solve(equs[5], Q5[5])[1]"
   ]
  },
  {
   "cell_type": "code",
   "execution_count": 161,
   "metadata": {},
   "outputs": [
    {
     "data": {
      "text/latex": [
       "\\[ \\left[ \\begin{array}{r}0\\\\- \\frac{70 \\sqrt{21} Q_{2}}{99} + \\frac{32 \\sqrt{21} Q_{3}}{33} - \\frac{26 \\sqrt{21} Q_{4}}{99} + \\frac{3 \\sqrt{21} V_{1}}{154} + \\frac{V_{1}}{6} - V_{2} - \\frac{3 \\sqrt{21} V_{5}}{154} + \\frac{V_{5}}{6}\\\\- \\frac{7 \\sqrt{21} Q_{2}}{18} + \\frac{7 \\sqrt{21} Q_{4}}{18} - \\frac{V_{1}}{12} - V_{3} - \\frac{V_{5}}{12}\\\\\\frac{26 \\sqrt{21} Q_{2}}{99} - \\frac{32 \\sqrt{21} Q_{3}}{33} + \\frac{70 \\sqrt{21} Q_{4}}{99} - \\frac{3 \\sqrt{21} V_{1}}{154} + \\frac{V_{1}}{6} - V_{4} + \\frac{3 \\sqrt{21} V_{5}}{154} + \\frac{V_{5}}{6}\\\\0\\end{array} \\right] \\]"
      ],
      "text/plain": [
       "5-element Array{Sym,1}:\n",
       "                                                                                                                     0\n",
       " -70*sqrt(21)*Q2/99 + 32*sqrt(21)*Q3/33 - 26*sqrt(21)*Q4/99 + 3*sqrt(21)*V1/154 + V1/6 - V2 - 3*sqrt(21)*V5/154 + V5/6\n",
       "                                                             -7*sqrt(21)*Q2/18 + 7*sqrt(21)*Q4/18 - V1/12 - V3 - V5/12\n",
       "  26*sqrt(21)*Q2/99 - 32*sqrt(21)*Q3/33 + 70*sqrt(21)*Q4/99 - 3*sqrt(21)*V1/154 + V1/6 - V4 + 3*sqrt(21)*V5/154 + V5/6\n",
       "                                                                                                                     0"
      ]
     },
     "execution_count": 161,
     "metadata": {},
     "output_type": "execute_result"
    }
   ],
   "source": [
    "equs = [simplify(subs(equs[i], Q5[5], Q55)) for i in 1:s]"
   ]
  },
  {
   "cell_type": "code",
   "execution_count": 162,
   "metadata": {},
   "outputs": [
    {
     "data": {
      "text/latex": [
       "\\begin{equation*}\\frac{48 Q_{3}}{35} - \\frac{13 Q_{4}}{35} + \\frac{27 V_{1}}{980} + \\frac{11 \\sqrt{21} V_{1}}{980} - \\frac{33 \\sqrt{21} V_{2}}{490} - \\frac{27 V_{5}}{980} + \\frac{11 \\sqrt{21} V_{5}}{980}\\end{equation*}"
      ],
      "text/plain": [
       "48⋅Q₃   13⋅Q₄   27⋅V₁   11⋅√21⋅V₁   33⋅√21⋅V₂   27⋅V₅   11⋅√21⋅V₅\n",
       "───── - ───── + ───── + ───────── - ───────── - ───── + ─────────\n",
       "  35      35     980       980         490       980       980   "
      ]
     },
     "execution_count": 162,
     "metadata": {},
     "output_type": "execute_result"
    }
   ],
   "source": [
    "Q52 = solve(equs[2], Q5[2])[1]"
   ]
  },
  {
   "cell_type": "code",
   "execution_count": 163,
   "metadata": {},
   "outputs": [
    {
     "data": {
      "text/latex": [
       "\\[ \\left[ \\begin{array}{r}0\\\\0\\\\- \\frac{8 \\sqrt{21} Q_{3}}{15} + \\frac{8 \\sqrt{21} Q_{4}}{15} - \\frac{7 V_{1}}{40} - \\frac{3 \\sqrt{21} V_{1}}{280} + \\frac{11 V_{2}}{20} - V_{3} - \\frac{7 V_{5}}{40} + \\frac{3 \\sqrt{21} V_{5}}{280}\\\\- \\frac{64 \\sqrt{21} Q_{3}}{105} + \\frac{64 \\sqrt{21} Q_{4}}{105} - \\frac{3 \\sqrt{21} V_{1}}{245} + \\frac{8 V_{1}}{35} - \\frac{13 V_{2}}{35} - V_{4} + \\frac{3 \\sqrt{21} V_{5}}{245} + \\frac{8 V_{5}}{35}\\\\0\\end{array} \\right] \\]"
      ],
      "text/plain": [
       "5-element Array{Sym,1}:\n",
       "                                                                                                                    0\n",
       "                                                                                                                    0\n",
       "     -8*sqrt(21)*Q3/15 + 8*sqrt(21)*Q4/15 - 7*V1/40 - 3*sqrt(21)*V1/280 + 11*V2/20 - V3 - 7*V5/40 + 3*sqrt(21)*V5/280\n",
       " -64*sqrt(21)*Q3/105 + 64*sqrt(21)*Q4/105 - 3*sqrt(21)*V1/245 + 8*V1/35 - 13*V2/35 - V4 + 3*sqrt(21)*V5/245 + 8*V5/35\n",
       "                                                                                                                    0"
      ]
     },
     "execution_count": 163,
     "metadata": {},
     "output_type": "execute_result"
    }
   ],
   "source": [
    "equs = [simplify(subs(equs[i], Q5[2], Q52)) for i in 1:s]"
   ]
  },
  {
   "cell_type": "code",
   "execution_count": 164,
   "metadata": {},
   "outputs": [
    {
     "data": {
      "text/latex": [
       "\\begin{equation*}Q_{3} - \\frac{\\sqrt{21} V_{1}}{56} + \\frac{9 V_{1}}{448} + \\frac{13 \\sqrt{21} V_{2}}{448} + \\frac{5 \\sqrt{21} V_{4}}{64} - \\frac{\\sqrt{21} V_{5}}{56} - \\frac{9 V_{5}}{448}\\end{equation*}"
      ],
      "text/plain": [
       "     √21⋅V₁   9⋅V₁   13⋅√21⋅V₂   5⋅√21⋅V₄   √21⋅V₅   9⋅V₅\n",
       "Q₃ - ────── + ──── + ───────── + ──────── - ────── - ────\n",
       "       56     448       448         64        56     448 "
      ]
     },
     "execution_count": 164,
     "metadata": {},
     "output_type": "execute_result"
    }
   ],
   "source": [
    "Q54 = solve(equs[4], Q5[4])[1]"
   ]
  },
  {
   "cell_type": "code",
   "execution_count": 165,
   "metadata": {},
   "outputs": [
    {
     "data": {
      "text/latex": [
       "\\[ \\left[ \\begin{array}{r}0\\\\0\\\\- \\frac{3 V_{1}}{8} + \\frac{7 V_{2}}{8} - V_{3} + \\frac{7 V_{4}}{8} - \\frac{3 V_{5}}{8}\\\\0\\\\0\\end{array} \\right] \\]"
      ],
      "text/plain": [
       "5-element Array{Sym,1}:\n",
       "                                       0\n",
       "                                       0\n",
       " -3*V1/8 + 7*V2/8 - V3 + 7*V4/8 - 3*V5/8\n",
       "                                       0\n",
       "                                       0"
      ]
     },
     "execution_count": 165,
     "metadata": {},
     "output_type": "execute_result"
    }
   ],
   "source": [
    "equs = [simplify(subs(equs[i], Q5[4], Q54)) for i in 1:s]"
   ]
  },
  {
   "cell_type": "code",
   "execution_count": 166,
   "metadata": {},
   "outputs": [
    {
     "data": {
      "text/latex": [
       "\\begin{equation*}- 3 V_{1} + 7 V_{2} - 8 V_{3} + 7 V_{4} - 3 V_{5}\\end{equation*}"
      ],
      "text/plain": [
       "-3⋅V₁ + 7⋅V₂ - 8⋅V₃ + 7⋅V₄ - 3⋅V₅"
      ]
     },
     "execution_count": 166,
     "metadata": {},
     "output_type": "execute_result"
    }
   ],
   "source": [
    "equs[3]*8"
   ]
  },
  {
   "cell_type": "code",
   "execution_count": 167,
   "metadata": {},
   "outputs": [
    {
     "data": {
      "text/latex": [
       "\\[ \\left[ \\begin{array}{r}-7\\end{array} \\right] \\]"
      ],
      "text/plain": [
       "1-element Array{Sym,1}:\n",
       " -7"
      ]
     },
     "execution_count": 167,
     "metadata": {},
     "output_type": "execute_result"
    }
   ],
   "source": [
    "d5 = @sym [+3, c, +8, c, +3]\n",
    "solve(v5' * d5, c)"
   ]
  },
  {
   "cell_type": "code",
   "execution_count": null,
   "metadata": {},
   "outputs": [],
   "source": []
  }
 ],
 "metadata": {
  "@webio": {
   "lastCommId": null,
   "lastKernelId": null
  },
  "kernelspec": {
   "display_name": "Julia 1.5.3",
   "language": "julia",
   "name": "julia-1.5"
  },
  "language_info": {
   "file_extension": ".jl",
   "mimetype": "application/julia",
   "name": "julia",
   "version": "1.5.3"
  }
 },
 "nbformat": 4,
 "nbformat_minor": 4
}
