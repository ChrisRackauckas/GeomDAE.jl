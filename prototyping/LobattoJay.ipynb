{
 "cells": [
  {
   "cell_type": "code",
   "execution_count": 1,
   "metadata": {},
   "outputs": [],
   "source": [
    "using SymPy"
   ]
  },
  {
   "cell_type": "code",
   "execution_count": 2,
   "metadata": {},
   "outputs": [
    {
     "data": {
      "text/latex": [
       "\\[ \\left[ \\begin{array}{r}- \\frac{\\sqrt{15}}{10} + \\frac{1}{2}\\\\\\frac{1}{2}\\\\\\frac{\\sqrt{15}}{10} + \\frac{1}{2}\\end{array} \\right] \\]"
      ],
      "text/plain": [
       "3-element Array{Sym,1}:\n",
       " -sqrt(15)/10 + 1/2\n",
       "                1/2\n",
       "  sqrt(15)/10 + 1/2"
      ]
     },
     "execution_count": 2,
     "metadata": {},
     "output_type": "execute_result"
    }
   ],
   "source": [
    "#c = [Sym(1)/2-√Sym(3)/6, Sym(1)/2+√Sym(3)/6]\n",
    "c = [Sym(1)/2-√Sym(15)/10, Sym(1)/2, Sym(1)/2+√Sym(15)/10]"
   ]
  },
  {
   "cell_type": "code",
   "execution_count": 3,
   "metadata": {},
   "outputs": [
    {
     "data": {
      "text/latex": [
       "\\[ \\left[ \\begin{array}{r}0\\\\- \\frac{\\sqrt{5}}{10} + \\frac{1}{2}\\\\\\frac{\\sqrt{5}}{10} + \\frac{1}{2}\\\\1\\end{array} \\right] \\]"
      ],
      "text/plain": [
       "4-element Array{Sym,1}:\n",
       "                 0\n",
       " -sqrt(5)/10 + 1/2\n",
       "  sqrt(5)/10 + 1/2\n",
       "                 1"
      ]
     },
     "execution_count": 3,
     "metadata": {},
     "output_type": "execute_result"
    }
   ],
   "source": [
    "#d = [Sym(0), Sym(1)/2, Sym(1)]\n",
    "d = [Sym(0), (5-√Sym(5))/10, (5+√Sym(5))/10, Sym(1)]"
   ]
  },
  {
   "cell_type": "code",
   "execution_count": 4,
   "metadata": {},
   "outputs": [
    {
     "data": {
      "text/plain": [
       "4"
      ]
     },
     "execution_count": 4,
     "metadata": {},
     "output_type": "execute_result"
    }
   ],
   "source": [
    "s = length(d)"
   ]
  },
  {
   "cell_type": "code",
   "execution_count": 5,
   "metadata": {},
   "outputs": [
    {
     "data": {
      "text/latex": [
       "\\[\\left[ \\begin{array}{rrr}a_{11}&a_{12}&a_{13}\\\\a_{21}&a_{22}&a_{23}\\\\a_{31}&a_{32}&a_{33}\\\\a_{41}&a_{42}&a_{43}\\end{array}\\right]\\]"
      ],
      "text/plain": [
       "4×3 Array{Sym,2}:\n",
       " a₁₁  a₁₂  a₁₃\n",
       " a₂₁  a₂₂  a₂₃\n",
       " a₃₁  a₃₂  a₃₃\n",
       " a₄₁  a₄₂  a₄₃"
      ]
     },
     "execution_count": 5,
     "metadata": {},
     "output_type": "execute_result"
    }
   ],
   "source": [
    "a = [Sym(\"a_\" * string(i) * string(j)) for i in 1:s, j in 1:s-1]"
   ]
  },
  {
   "cell_type": "code",
   "execution_count": 6,
   "metadata": {},
   "outputs": [
    {
     "data": {
      "text/latex": [
       "\\begin{equation*}\\left [ a_{11} + a_{12} + a_{13}, \\quad a_{11} \\left(- \\frac{\\sqrt{15}}{10} + \\frac{1}{2}\\right) + \\frac{a_{12}}{2} + a_{13} \\left(\\frac{\\sqrt{15}}{10} + \\frac{1}{2}\\right), \\quad a_{11} \\left(- \\frac{\\sqrt{15}}{10} + \\frac{1}{2}\\right)^{2} + \\frac{a_{12}}{4} + a_{13} \\left(\\frac{\\sqrt{15}}{10} + \\frac{1}{2}\\right)^{2}, \\quad a_{21} + a_{22} + a_{23} - \\frac{1}{2} + \\frac{\\sqrt{5}}{10}, \\quad a_{21} \\left(- \\frac{\\sqrt{15}}{10} + \\frac{1}{2}\\right) + \\frac{a_{22}}{2} + a_{23} \\left(\\frac{\\sqrt{15}}{10} + \\frac{1}{2}\\right) - \\frac{\\left(- \\frac{\\sqrt{5}}{10} + \\frac{1}{2}\\right)^{2}}{2}, \\quad a_{21} \\left(- \\frac{\\sqrt{15}}{10} + \\frac{1}{2}\\right)^{2} + \\frac{a_{22}}{4} + a_{23} \\left(\\frac{\\sqrt{15}}{10} + \\frac{1}{2}\\right)^{2} - \\frac{\\left(- \\frac{\\sqrt{5}}{10} + \\frac{1}{2}\\right)^{3}}{3}, \\quad a_{31} + a_{32} + a_{33} - \\frac{1}{2} - \\frac{\\sqrt{5}}{10}, \\quad a_{31} \\left(- \\frac{\\sqrt{15}}{10} + \\frac{1}{2}\\right) + \\frac{a_{32}}{2} + a_{33} \\left(\\frac{\\sqrt{15}}{10} + \\frac{1}{2}\\right) - \\frac{\\left(\\frac{\\sqrt{5}}{10} + \\frac{1}{2}\\right)^{2}}{2}, \\quad a_{31} \\left(- \\frac{\\sqrt{15}}{10} + \\frac{1}{2}\\right)^{2} + \\frac{a_{32}}{4} + a_{33} \\left(\\frac{\\sqrt{15}}{10} + \\frac{1}{2}\\right)^{2} - \\frac{\\left(\\frac{\\sqrt{5}}{10} + \\frac{1}{2}\\right)^{3}}{3}, \\quad a_{41} + a_{42} + a_{43} - 1, \\quad a_{41} \\left(- \\frac{\\sqrt{15}}{10} + \\frac{1}{2}\\right) + \\frac{a_{42}}{2} + a_{43} \\left(\\frac{\\sqrt{15}}{10} + \\frac{1}{2}\\right) - \\frac{1}{2}, \\quad a_{41} \\left(- \\frac{\\sqrt{15}}{10} + \\frac{1}{2}\\right)^{2} + \\frac{a_{42}}{4} + a_{43} \\left(\\frac{\\sqrt{15}}{10} + \\frac{1}{2}\\right)^{2} - \\frac{1}{3}\\right ]\\end{equation*}"
      ],
      "text/plain": [
       "⎡                                                                             \n",
       "⎢                                                                             \n",
       "⎢                                                                       2     \n",
       "⎢                     ⎛  √15   1⎞   a₁₂       ⎛√15   1⎞      ⎛  √15   1⎞    a₁\n",
       "⎢a₁₁ + a₁₂ + a₁₃, a₁₁⋅⎜- ─── + ─⎟ + ─── + a₁₃⋅⎜─── + ─⎟, a₁₁⋅⎜- ─── + ─⎟  + ──\n",
       "⎣                     ⎝   10   2⎠    2        ⎝ 10   2⎠      ⎝   10   2⎠     4\n",
       "\n",
       "                                                                              \n",
       "                                                                              \n",
       "                 2                                                            \n",
       "₂       ⎛√15   1⎞                     1   √5      ⎛  √15   1⎞   a₂₂       ⎛√15\n",
       "─ + a₁₃⋅⎜─── + ─⎟ , a₂₁ + a₂₂ + a₂₃ - ─ + ──, a₂₁⋅⎜- ─── + ─⎟ + ─── + a₂₃⋅⎜───\n",
       "        ⎝ 10   2⎠                     2   10      ⎝   10   2⎠    2        ⎝ 10\n",
       "\n",
       "                  2                                                      3    \n",
       "        ⎛  √5   1⎞                                             ⎛  √5   1⎞     \n",
       "        ⎜- ── + ─⎟                  2                      2   ⎜- ── + ─⎟     \n",
       "   1⎞   ⎝  10   2⎠       ⎛  √15   1⎞    a₂₂       ⎛√15   1⎞    ⎝  10   2⎠     \n",
       " + ─⎟ - ───────────, a₂₁⋅⎜- ─── + ─⎟  + ─── + a₂₃⋅⎜─── + ─⎟  - ───────────, a₃\n",
       "   2⎠        2           ⎝   10   2⎠     4        ⎝ 10   2⎠         3         \n",
       "\n",
       "                                                                        2     \n",
       "                                                                ⎛√5   1⎞      \n",
       "                                                                ⎜── + ─⎟      \n",
       "                1   √5      ⎛  √15   1⎞   a₃₂       ⎛√15   1⎞   ⎝10   2⎠      \n",
       "₁ + a₃₂ + a₃₃ - ─ - ──, a₃₁⋅⎜- ─── + ─⎟ + ─── + a₃₃⋅⎜─── + ─⎟ - ─────────, a₃₁\n",
       "                2   10      ⎝   10   2⎠    2        ⎝ 10   2⎠       2         \n",
       "\n",
       "                                               3                              \n",
       "                                       ⎛√5   1⎞                               \n",
       "            2                      2   ⎜── + ─⎟                               \n",
       " ⎛  √15   1⎞    a₃₂       ⎛√15   1⎞    ⎝10   2⎠                            ⎛  \n",
       "⋅⎜- ─── + ─⎟  + ─── + a₃₃⋅⎜─── + ─⎟  - ─────────, a₄₁ + a₄₂ + a₄₃ - 1, a₄₁⋅⎜- \n",
       " ⎝   10   2⎠     4        ⎝ 10   2⎠        3                               ⎝  \n",
       "\n",
       "                                                                              \n",
       "                                                                              \n",
       "                                                   2                      2   \n",
       "√15   1⎞   a₄₂       ⎛√15   1⎞   1      ⎛  √15   1⎞    a₄₂       ⎛√15   1⎞    \n",
       "─── + ─⎟ + ─── + a₄₃⋅⎜─── + ─⎟ - ─, a₄₁⋅⎜- ─── + ─⎟  + ─── + a₄₃⋅⎜─── + ─⎟  - \n",
       " 10   2⎠    2        ⎝ 10   2⎠   2      ⎝   10   2⎠     4        ⎝ 10   2⎠    \n",
       "\n",
       " ⎤\n",
       " ⎥\n",
       " ⎥\n",
       "1⎥\n",
       "─⎥\n",
       "3⎦"
      ]
     },
     "execution_count": 6,
     "metadata": {},
     "output_type": "execute_result"
    }
   ],
   "source": [
    "eqs = []\n",
    "for i in 1:s, k in 1:s-1\n",
    "    eq = - d[i]^k / k\n",
    "    for j in 1:s-1\n",
    "        eq += a[i,j] * c[j]^(k-1)\n",
    "    end\n",
    "    push!(eqs, eq)\n",
    "end\n",
    "eqs = Sym(eqs)"
   ]
  },
  {
   "cell_type": "code",
   "execution_count": 7,
   "metadata": {},
   "outputs": [
    {
     "data": {
      "text/plain": [
       "Dict{Any,Any} with 12 entries:\n",
       "  a_31 => sqrt(5)/180 + sqrt(15)/30 + 5/36\n",
       "  a_13 => 0\n",
       "  a_23 => -sqrt(15)/30 - sqrt(5)/180 + 5/36\n",
       "  a_33 => -sqrt(15)/30 + sqrt(5)/180 + 5/36\n",
       "  a_32 => 4*sqrt(5)/45 + 2/9\n",
       "  a_43 => 5/18\n",
       "  a_12 => 0\n",
       "  a_21 => -sqrt(5)/180 + sqrt(15)/30 + 5/36\n",
       "  a_41 => 5/18\n",
       "  a_42 => 4/9\n",
       "  a_11 => 0\n",
       "  a_22 => -4*sqrt(5)/45 + 2/9"
      ]
     },
     "execution_count": 7,
     "metadata": {},
     "output_type": "execute_result"
    }
   ],
   "source": [
    "solve(eqs, Sym(a[:]))"
   ]
  },
  {
   "cell_type": "code",
   "execution_count": null,
   "metadata": {},
   "outputs": [],
   "source": []
  },
  {
   "cell_type": "code",
   "execution_count": null,
   "metadata": {},
   "outputs": [],
   "source": []
  },
  {
   "cell_type": "code",
   "execution_count": null,
   "metadata": {},
   "outputs": [],
   "source": []
  },
  {
   "cell_type": "code",
   "execution_count": null,
   "metadata": {},
   "outputs": [],
   "source": []
  }
 ],
 "metadata": {
  "kernelspec": {
   "display_name": "Julia 1.5.2",
   "language": "julia",
   "name": "julia-1.5"
  },
  "language_info": {
   "file_extension": ".jl",
   "mimetype": "application/julia",
   "name": "julia",
   "version": "1.5.2"
  }
 },
 "nbformat": 4,
 "nbformat_minor": 2
}
