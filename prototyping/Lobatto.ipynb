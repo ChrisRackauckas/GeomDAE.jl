{
 "cells": [
  {
   "cell_type": "markdown",
   "metadata": {},
   "source": [
    "# Symbolic Computation of Lobatto Tableaus"
   ]
  },
  {
   "cell_type": "code",
   "execution_count": 1,
   "metadata": {},
   "outputs": [],
   "source": [
    "using SymPy"
   ]
  },
  {
   "cell_type": "code",
   "execution_count": 2,
   "metadata": {},
   "outputs": [
    {
     "data": {
      "text/plain": [
       "array_to_code (generic function with 1 method)"
      ]
     },
     "execution_count": 2,
     "metadata": {},
     "output_type": "execute_result"
    }
   ],
   "source": [
    "function array_to_code(name, x::Matrix)\n",
    "    s = string(name) * \" = [\\n\"\n",
    "    \n",
    "    for i in axes(x,1)\n",
    "        s *= \"[\"\n",
    "        for j in axes(x,2)\n",
    "            s *= \" \"\n",
    "            s *= string(x[i,j])\n",
    "            s *= \" \"\n",
    "        end\n",
    "        s *= \"]\\n\"\n",
    "    end\n",
    "    \n",
    "    s *= \"]\\n\"\n",
    "end"
   ]
  },
  {
   "cell_type": "markdown",
   "metadata": {},
   "source": [
    "## Nodes"
   ]
  },
  {
   "cell_type": "code",
   "execution_count": 3,
   "metadata": {},
   "outputs": [
    {
     "data": {
      "text/plain": [
       "get_lobatto_nodes (generic function with 1 method)"
      ]
     },
     "execution_count": 3,
     "metadata": {},
     "output_type": "execute_result"
    }
   ],
   "source": [
    "function get_lobatto_nodes(s)\n",
    "    D(k,x) = simplify( diff( x^(k-1) * (1-x)^(k-1), x, k-2) )\n",
    "    c = sort(solve(D(s, symbols(\"x\", real=True))))\n",
    "    if s ≥ 8\n",
    "        return N.(c)\n",
    "    else\n",
    "        return c\n",
    "    end\n",
    "end"
   ]
  },
  {
   "cell_type": "code",
   "execution_count": 4,
   "metadata": {},
   "outputs": [
    {
     "data": {
      "text/latex": [
       "\\[ \\left[ \\begin{array}{r}0\\\\1\\end{array} \\right] \\]"
      ],
      "text/plain": [
       "2-element Array{Sym,1}:\n",
       " 0\n",
       " 1"
      ]
     },
     "execution_count": 4,
     "metadata": {},
     "output_type": "execute_result"
    }
   ],
   "source": [
    "get_lobatto_nodes(2)"
   ]
  },
  {
   "cell_type": "code",
   "execution_count": 5,
   "metadata": {},
   "outputs": [
    {
     "data": {
      "text/latex": [
       "\\[ \\left[ \\begin{array}{r}0\\\\\\frac{1}{2}\\\\1\\end{array} \\right] \\]"
      ],
      "text/plain": [
       "3-element Array{Sym,1}:\n",
       "   0\n",
       " 1/2\n",
       "   1"
      ]
     },
     "execution_count": 5,
     "metadata": {},
     "output_type": "execute_result"
    }
   ],
   "source": [
    "get_lobatto_nodes(3)"
   ]
  },
  {
   "cell_type": "code",
   "execution_count": 6,
   "metadata": {},
   "outputs": [
    {
     "data": {
      "text/latex": [
       "\\[ \\left[ \\begin{array}{r}0\\\\- \\frac{\\sqrt{5}}{10} + \\frac{1}{2}\\\\\\frac{\\sqrt{5}}{10} + \\frac{1}{2}\\\\1\\end{array} \\right] \\]"
      ],
      "text/plain": [
       "4-element Array{Sym,1}:\n",
       "                 0\n",
       " -sqrt(5)/10 + 1/2\n",
       "  sqrt(5)/10 + 1/2\n",
       "                 1"
      ]
     },
     "execution_count": 6,
     "metadata": {},
     "output_type": "execute_result"
    }
   ],
   "source": [
    "get_lobatto_nodes(4)"
   ]
  },
  {
   "cell_type": "code",
   "execution_count": 7,
   "metadata": {},
   "outputs": [
    {
     "data": {
      "text/latex": [
       "\\[ \\left[ \\begin{array}{r}0\\\\- \\frac{\\sqrt{21}}{14} + \\frac{1}{2}\\\\\\frac{1}{2}\\\\\\frac{\\sqrt{21}}{14} + \\frac{1}{2}\\\\1\\end{array} \\right] \\]"
      ],
      "text/plain": [
       "5-element Array{Sym,1}:\n",
       "                  0\n",
       " -sqrt(21)/14 + 1/2\n",
       "                1/2\n",
       "  sqrt(21)/14 + 1/2\n",
       "                  1"
      ]
     },
     "execution_count": 7,
     "metadata": {},
     "output_type": "execute_result"
    }
   ],
   "source": [
    "get_lobatto_nodes(5)"
   ]
  },
  {
   "cell_type": "code",
   "execution_count": 8,
   "metadata": {},
   "outputs": [
    {
     "data": {
      "text/latex": [
       "\\[ \\left[ \\begin{array}{r}0\\\\- \\sqrt{\\frac{\\sqrt{7}}{42} + \\frac{1}{12}} + \\frac{1}{2}\\\\- \\sqrt{- \\frac{\\sqrt{7}}{42} + \\frac{1}{12}} + \\frac{1}{2}\\\\\\sqrt{- \\frac{\\sqrt{7}}{42} + \\frac{1}{12}} + \\frac{1}{2}\\\\\\sqrt{\\frac{\\sqrt{7}}{42} + \\frac{1}{12}} + \\frac{1}{2}\\\\1\\end{array} \\right] \\]"
      ],
      "text/plain": [
       "6-element Array{Sym,1}:\n",
       "                               0\n",
       "  -sqrt(sqrt(7)/42 + 1/12) + 1/2\n",
       " -sqrt(-sqrt(7)/42 + 1/12) + 1/2\n",
       "  sqrt(-sqrt(7)/42 + 1/12) + 1/2\n",
       "   sqrt(sqrt(7)/42 + 1/12) + 1/2\n",
       "                               1"
      ]
     },
     "execution_count": 8,
     "metadata": {},
     "output_type": "execute_result"
    }
   ],
   "source": [
    "get_lobatto_nodes(6)"
   ]
  },
  {
   "cell_type": "code",
   "execution_count": 9,
   "metadata": {},
   "outputs": [
    {
     "data": {
      "text/latex": [
       "\\[ \\left[ \\begin{array}{r}0\\\\- \\sqrt{\\frac{\\sqrt{15}}{66} + \\frac{5}{44}} + \\frac{1}{2}\\\\- \\sqrt{- \\frac{\\sqrt{15}}{66} + \\frac{5}{44}} + \\frac{1}{2}\\\\\\frac{1}{2}\\\\\\sqrt{- \\frac{\\sqrt{15}}{66} + \\frac{5}{44}} + \\frac{1}{2}\\\\\\sqrt{\\frac{\\sqrt{15}}{66} + \\frac{5}{44}} + \\frac{1}{2}\\\\1\\end{array} \\right] \\]"
      ],
      "text/plain": [
       "7-element Array{Sym,1}:\n",
       "                                0\n",
       "  -sqrt(sqrt(15)/66 + 5/44) + 1/2\n",
       " -sqrt(-sqrt(15)/66 + 5/44) + 1/2\n",
       "                              1/2\n",
       "  sqrt(-sqrt(15)/66 + 5/44) + 1/2\n",
       "   sqrt(sqrt(15)/66 + 5/44) + 1/2\n",
       "                                1"
      ]
     },
     "execution_count": 9,
     "metadata": {},
     "output_type": "execute_result"
    }
   ],
   "source": [
    "get_lobatto_nodes(7)"
   ]
  },
  {
   "cell_type": "code",
   "execution_count": 10,
   "metadata": {},
   "outputs": [
    {
     "data": {
      "text/plain": [
       "8-element Array{Real,1}:\n",
       " 0\n",
       " 0.06412992574519669233127711938966828094810966516150832254029235721305050295351557\n",
       " 0.2041499092834288489277446343010234050271495052413337516288702042649259099754349\n",
       " 0.3953503910487605656156713698273243723522272974566594505545766538389345381768601\n",
       " 0.6046496089512394343843286301726756276477727025433405494454233461610654618231442\n",
       " 0.7958500907165711510722553656989765949728504947586662483711297957350740900245672\n",
       " 0.9358700742548033076687228806103317190518903348384916774597076427869494970464823\n",
       " 1"
      ]
     },
     "execution_count": 10,
     "metadata": {},
     "output_type": "execute_result"
    }
   ],
   "source": [
    "get_lobatto_nodes(8)"
   ]
  },
  {
   "cell_type": "code",
   "execution_count": 11,
   "metadata": {},
   "outputs": [
    {
     "data": {
      "text/plain": [
       "9-element Array{Real,1}:\n",
       "  0\n",
       "  0.05012100229426992134382737779083102097425985221694778878534366575759336271684085\n",
       "  0.1614068602446311232770572864543287746444851761930467102295183122514507360076758\n",
       "  0.3184412680869109206446239656456703934896788611995609248398631346141947861830996\n",
       " 1//2\n",
       "  0.6815587319130890793553760343543296065103211388004390751601368653858052138169004\n",
       "  0.8385931397553688767229427135456712253555148238069532897704816877485492639923242\n",
       "  0.9498789977057300786561726222091689790257401477830522112146563342424066372831581\n",
       "  1"
      ]
     },
     "execution_count": 11,
     "metadata": {},
     "output_type": "execute_result"
    }
   ],
   "source": [
    "get_lobatto_nodes(9)"
   ]
  },
  {
   "cell_type": "markdown",
   "metadata": {},
   "source": [
    "## Weights"
   ]
  },
  {
   "cell_type": "code",
   "execution_count": 12,
   "metadata": {},
   "outputs": [
    {
     "data": {
      "text/plain": [
       "get_lobatto_weights (generic function with 1 method)"
      ]
     },
     "execution_count": 12,
     "metadata": {},
     "output_type": "execute_result"
    }
   ],
   "source": [
    "function get_lobatto_weights(s)\n",
    "    function P(k,y)\n",
    "        x = symbols(\"x\", real=True)\n",
    "        subs( diff( (x^2 - 1)^k, x, k ), x, y ) / factorial(k) / 2^k\n",
    "    end\n",
    "    c = get_lobatto_nodes(s)\n",
    "    b = [ simplify( 1 / ( s*(s-1) * P(s-1, 2c[i] - 1)^2 ) ) for i in 1:s ]\n",
    "end"
   ]
  },
  {
   "cell_type": "code",
   "execution_count": 13,
   "metadata": {},
   "outputs": [
    {
     "data": {
      "text/latex": [
       "\\[ \\left[ \\begin{array}{r}\\frac{1}{2}\\\\\\frac{1}{2}\\end{array} \\right] \\]"
      ],
      "text/plain": [
       "2-element Array{Sym,1}:\n",
       " 1/2\n",
       " 1/2"
      ]
     },
     "execution_count": 13,
     "metadata": {},
     "output_type": "execute_result"
    }
   ],
   "source": [
    "get_lobatto_weights(2)"
   ]
  },
  {
   "cell_type": "code",
   "execution_count": 14,
   "metadata": {},
   "outputs": [
    {
     "data": {
      "text/latex": [
       "\\[ \\left[ \\begin{array}{r}\\frac{1}{6}\\\\\\frac{2}{3}\\\\\\frac{1}{6}\\end{array} \\right] \\]"
      ],
      "text/plain": [
       "3-element Array{Sym,1}:\n",
       " 1/6\n",
       " 2/3\n",
       " 1/6"
      ]
     },
     "execution_count": 14,
     "metadata": {},
     "output_type": "execute_result"
    }
   ],
   "source": [
    "get_lobatto_weights(3)"
   ]
  },
  {
   "cell_type": "code",
   "execution_count": 15,
   "metadata": {},
   "outputs": [
    {
     "data": {
      "text/latex": [
       "\\[ \\left[ \\begin{array}{r}\\frac{1}{12}\\\\\\frac{5}{12}\\\\\\frac{5}{12}\\\\\\frac{1}{12}\\end{array} \\right] \\]"
      ],
      "text/plain": [
       "4-element Array{Sym,1}:\n",
       " 1/12\n",
       " 5/12\n",
       " 5/12\n",
       " 1/12"
      ]
     },
     "execution_count": 15,
     "metadata": {},
     "output_type": "execute_result"
    }
   ],
   "source": [
    "get_lobatto_weights(4)"
   ]
  },
  {
   "cell_type": "code",
   "execution_count": 16,
   "metadata": {},
   "outputs": [
    {
     "data": {
      "text/latex": [
       "\\[ \\left[ \\begin{array}{r}\\frac{1}{20}\\\\\\frac{49}{180}\\\\\\frac{16}{45}\\\\\\frac{49}{180}\\\\\\frac{1}{20}\\end{array} \\right] \\]"
      ],
      "text/plain": [
       "5-element Array{Sym,1}:\n",
       "   1/20\n",
       " 49/180\n",
       "  16/45\n",
       " 49/180\n",
       "   1/20"
      ]
     },
     "execution_count": 16,
     "metadata": {},
     "output_type": "execute_result"
    }
   ],
   "source": [
    "get_lobatto_weights(5)"
   ]
  },
  {
   "cell_type": "code",
   "execution_count": 17,
   "metadata": {},
   "outputs": [
    {
     "data": {
      "text/latex": [
       "\\[ \\left[ \\begin{array}{r}\\frac{1}{30}\\\\- \\frac{\\sqrt{7}}{60} + \\frac{7}{30}\\\\\\frac{\\sqrt{7}}{60} + \\frac{7}{30}\\\\\\frac{\\sqrt{7}}{60} + \\frac{7}{30}\\\\- \\frac{\\sqrt{7}}{60} + \\frac{7}{30}\\\\\\frac{1}{30}\\end{array} \\right] \\]"
      ],
      "text/plain": [
       "6-element Array{Sym,1}:\n",
       "               1/30\n",
       " -sqrt(7)/60 + 7/30\n",
       "  sqrt(7)/60 + 7/30\n",
       "  sqrt(7)/60 + 7/30\n",
       " -sqrt(7)/60 + 7/30\n",
       "               1/30"
      ]
     },
     "execution_count": 17,
     "metadata": {},
     "output_type": "execute_result"
    }
   ],
   "source": [
    "get_lobatto_weights(6)"
   ]
  },
  {
   "cell_type": "code",
   "execution_count": 18,
   "metadata": {},
   "outputs": [
    {
     "data": {
      "text/latex": [
       "\\[ \\left[ \\begin{array}{r}\\frac{1}{42}\\\\- \\frac{\\sqrt{15}}{100} + \\frac{31}{175}\\\\\\frac{\\sqrt{15}}{100} + \\frac{31}{175}\\\\\\frac{128}{525}\\\\\\frac{\\sqrt{15}}{100} + \\frac{31}{175}\\\\- \\frac{\\sqrt{15}}{100} + \\frac{31}{175}\\\\\\frac{1}{42}\\end{array} \\right] \\]"
      ],
      "text/plain": [
       "7-element Array{Sym,1}:\n",
       "                   1/42\n",
       " -sqrt(15)/100 + 31/175\n",
       "  sqrt(15)/100 + 31/175\n",
       "                128/525\n",
       "  sqrt(15)/100 + 31/175\n",
       " -sqrt(15)/100 + 31/175\n",
       "                   1/42"
      ]
     },
     "execution_count": 18,
     "metadata": {},
     "output_type": "execute_result"
    }
   ],
   "source": [
    "get_lobatto_weights(7)"
   ]
  },
  {
   "cell_type": "code",
   "execution_count": 19,
   "metadata": {},
   "outputs": [
    {
     "data": {
      "text/latex": [
       "\\[ \\left[ \\begin{array}{r}\\frac{1}{56}\\\\0.1053521135717530196914960328878781622276730830805238840416702908213176249782\\\\0.1705613462417521823821203385538740858875554878027908047375010369442754416181\\\\0.2062293973293519407835264857011048947419142862595424540779715293772640762608\\\\0.2062293973293519407835264857011048947419142862595424540779715293772640762608\\\\0.1705613462417521823821203385538740858875554878027908047375010369442754416181\\\\0.1053521135717530196914960328878781622276730830805238840416702908213176249782\\\\\\frac{1}{56}\\end{array} \\right] \\]"
      ],
      "text/plain": [
       "8-element Array{Sym,1}:\n",
       "                                                                           1/56\n",
       " 0.1053521135717530196914960328878781622276730830805238840416702908213176249782\n",
       " 0.1705613462417521823821203385538740858875554878027908047375010369442754416181\n",
       " 0.2062293973293519407835264857011048947419142862595424540779715293772640762608\n",
       " 0.2062293973293519407835264857011048947419142862595424540779715293772640762608\n",
       " 0.1705613462417521823821203385538740858875554878027908047375010369442754416181\n",
       " 0.1053521135717530196914960328878781622276730830805238840416702908213176249782\n",
       "                                                                           1/56"
      ]
     },
     "execution_count": 19,
     "metadata": {},
     "output_type": "execute_result"
    }
   ],
   "source": [
    "get_lobatto_weights(8)"
   ]
  },
  {
   "cell_type": "code",
   "execution_count": 20,
   "metadata": {},
   "outputs": [
    {
     "data": {
      "text/latex": [
       "\\[ \\left[ \\begin{array}{r}\\frac{1}{72}\\\\0.08274768078040276252316986001460415291955361461257967072311179727342770476091\\\\0.1372693562500808676403528092896863629706256104932546432683968144564555261003\\\\0.1732142554865231725575657660698591439737663531254582030152941093585521432885\\\\\\frac{2048}{11025}\\\\0.1732142554865231725575657660698591439737663531254582030152941093585521432885\\\\0.1372693562500808676403528092896863629706256104932546432683968144564555261003\\\\0.08274768078040276252316986001460415291955361461257967072311179727342770476091\\\\\\frac{1}{72}\\end{array} \\right] \\]"
      ],
      "text/plain": [
       "9-element Array{Sym,1}:\n",
       "                                                                            1/72\n",
       " 0.08274768078040276252316986001460415291955361461257967072311179727342770476091\n",
       "  0.1372693562500808676403528092896863629706256104932546432683968144564555261003\n",
       "  0.1732142554865231725575657660698591439737663531254582030152941093585521432885\n",
       "                                                                      2048/11025\n",
       "  0.1732142554865231725575657660698591439737663531254582030152941093585521432885\n",
       "  0.1372693562500808676403528092896863629706256104932546432683968144564555261003\n",
       " 0.08274768078040276252316986001460415291955361461257967072311179727342770476091\n",
       "                                                                            1/72"
      ]
     },
     "execution_count": 20,
     "metadata": {},
     "output_type": "execute_result"
    }
   ],
   "source": [
    "get_lobatto_weights(9)"
   ]
  },
  {
   "cell_type": "markdown",
   "metadata": {},
   "source": [
    "## Coefficients"
   ]
  },
  {
   "cell_type": "code",
   "execution_count": 21,
   "metadata": {},
   "outputs": [
    {
     "data": {
      "text/plain": [
       "get_lobatto_a_tableau (generic function with 1 method)"
      ]
     },
     "execution_count": 21,
     "metadata": {},
     "output_type": "execute_result"
    }
   ],
   "source": [
    "function get_lobatto_a_tableau(s)\n",
    "    c = get_lobatto_nodes(s)\n",
    "    a = [symbols(\"a_\" * string(i) * string(j), real=True) for i in 1:s, j in 1:s]\n",
    "    A = [Sym(0) for i in 1:s, j in 1:s]\n",
    "    \n",
    "    sol = Dict()\n",
    "\n",
    "    for i in 1:s\n",
    "        eqs = Sym[]\n",
    "        for k in 1:s\n",
    "            eq = - c[i]^k / k\n",
    "            for j in 1:s\n",
    "                eq += a[i,j] * c[j]^(k-1)\n",
    "            end\n",
    "            push!(eqs, eq)\n",
    "        end\n",
    "\n",
    "        for k in 1:s\n",
    "            A[i,k] = simplify(solve(eqs[k], a[i,k])[1])\n",
    "            for l in k+1:s\n",
    "                eqs[l] = simplify(subs(eqs[l], a[i,k], A[i,k]))\n",
    "            end\n",
    "        end\n",
    "        \n",
    "        for k in s-1:-1:1\n",
    "            for l in k+1:s\n",
    "                A[i,k] = subs(A[i,k], a[i,l], A[i,l])\n",
    "            end\n",
    "            A[i,k] = simplify(A[i,k])\n",
    "        end\n",
    "    end\n",
    "    \n",
    "    return A\n",
    "end"
   ]
  },
  {
   "cell_type": "code",
   "execution_count": 22,
   "metadata": {},
   "outputs": [
    {
     "data": {
      "text/latex": [
       "\\[\\left[ \\begin{array}{rr}0&0\\\\\\frac{1}{2}&\\frac{1}{2}\\end{array}\\right]\\]"
      ],
      "text/plain": [
       "2×2 Array{Sym,2}:\n",
       "   0    0\n",
       " 1/2  1/2"
      ]
     },
     "execution_count": 22,
     "metadata": {},
     "output_type": "execute_result"
    }
   ],
   "source": [
    "get_lobatto_a_tableau(2)"
   ]
  },
  {
   "cell_type": "code",
   "execution_count": 23,
   "metadata": {},
   "outputs": [
    {
     "data": {
      "text/latex": [
       "\\[\\left[ \\begin{array}{rrr}0&0&0\\\\\\frac{5}{24}&\\frac{1}{3}&- \\frac{1}{24}\\\\\\frac{1}{6}&\\frac{2}{3}&\\frac{1}{6}\\end{array}\\right]\\]"
      ],
      "text/plain": [
       "3×3 Array{Sym,2}:\n",
       "    0    0      0\n",
       " 5/24  1/3  -1/24\n",
       "  1/6  2/3    1/6"
      ]
     },
     "execution_count": 23,
     "metadata": {},
     "output_type": "execute_result"
    }
   ],
   "source": [
    "get_lobatto_a_tableau(3)"
   ]
  },
  {
   "cell_type": "code",
   "execution_count": 24,
   "metadata": {},
   "outputs": [
    {
     "data": {
      "text/latex": [
       "\\[\\left[ \\begin{array}{rrrr}0&0&0&0\\\\\\frac{\\sqrt{5}}{120} + \\frac{11}{120}&- \\frac{\\sqrt{5}}{120} + \\frac{5}{24}&- \\frac{13 \\sqrt{5}}{120} + \\frac{5}{24}&- \\frac{1}{120} + \\frac{\\sqrt{5}}{120}\\\\- \\frac{\\sqrt{5}}{120} + \\frac{11}{120}&\\frac{5}{24} + \\frac{13 \\sqrt{5}}{120}&\\frac{\\sqrt{5}}{120} + \\frac{5}{24}&- \\frac{\\sqrt{5}}{120} - \\frac{1}{120}\\\\\\frac{1}{12}&\\frac{5}{12}&\\frac{5}{12}&\\frac{1}{12}\\end{array}\\right]\\]"
      ],
      "text/plain": [
       "4×4 Array{Sym,2}:\n",
       "                     0                      0  …                     0\n",
       "  sqrt(5)/120 + 11/120    -sqrt(5)/120 + 5/24     -1/120 + sqrt(5)/120\n",
       " -sqrt(5)/120 + 11/120  5/24 + 13*sqrt(5)/120     -sqrt(5)/120 - 1/120\n",
       "                  1/12                   5/12                     1/12"
      ]
     },
     "execution_count": 24,
     "metadata": {},
     "output_type": "execute_result"
    }
   ],
   "source": [
    "get_lobatto_a_tableau(4)"
   ]
  },
  {
   "cell_type": "code",
   "execution_count": 25,
   "metadata": {},
   "outputs": [
    {
     "data": {
      "text/latex": [
       "\\[\\left[ \\begin{array}{rrrrr}0&0&0&0&0\\\\\\frac{3 \\sqrt{21}}{1960} + \\frac{17}{280}&- \\frac{\\sqrt{21}}{280} + \\frac{49}{360}&- \\frac{32 \\sqrt{21}}{735} + \\frac{8}{45}&- \\frac{23 \\sqrt{21}}{840} + \\frac{49}{360}&- \\frac{3}{280} + \\frac{3 \\sqrt{21}}{1960}\\\\\\frac{13}{320}&\\frac{49}{360} + \\frac{7 \\sqrt{21}}{192}&\\frac{8}{45}&- \\frac{7 \\sqrt{21}}{192} + \\frac{49}{360}&\\frac{3}{320}\\\\- \\frac{3 \\sqrt{21}}{1960} + \\frac{17}{280}&\\frac{23 \\sqrt{21}}{840} + \\frac{49}{360}&\\frac{8}{45} + \\frac{32 \\sqrt{21}}{735}&\\frac{\\sqrt{21}}{280} + \\frac{49}{360}&- \\frac{3}{280} - \\frac{3 \\sqrt{21}}{1960}\\\\\\frac{1}{20}&\\frac{49}{180}&\\frac{16}{45}&\\frac{49}{180}&\\frac{1}{20}\\end{array}\\right]\\]"
      ],
      "text/plain": [
       "5×5 Array{Sym,2}:\n",
       "                         0  …                         0\n",
       "  3*sqrt(21)/1960 + 17/280     -3/280 + 3*sqrt(21)/1960\n",
       "                    13/320                        3/320\n",
       " -3*sqrt(21)/1960 + 17/280     -3/280 - 3*sqrt(21)/1960\n",
       "                      1/20                         1/20"
      ]
     },
     "execution_count": 25,
     "metadata": {},
     "output_type": "execute_result"
    }
   ],
   "source": [
    "get_lobatto_a_tableau(5)"
   ]
  },
  {
   "cell_type": "raw",
   "metadata": {},
   "source": [
    "function get_lobatto_a_tableau_numerical(s)\n",
    "    c = get_lobatto_nodes(s)\n",
    "    a = [ symbols(\"a_\" * string(i) * string(j), real=True) for i in 1:s, j in 1:s ]\n",
    "    M = [ s ≥ 6 ? N(c[j]^(k-1)) : simplify(c[j]^(k-1)) for k in 1:s, j in 1:s ]\n",
    "    \n",
    "    row(i) = begin\n",
    "        b = [ s ≥ 6 ? N(c[i]^k / k) : simplify(c[i]^k / k) for k in 1:s ]\n",
    "        M \\ b\n",
    "    end\n",
    "    \n",
    "    vcat([row(i)' for i in 1:s]...)\n",
    "end"
   ]
  },
  {
   "cell_type": "code",
   "execution_count": 26,
   "metadata": {},
   "outputs": [
    {
     "data": {
      "text/plain": [
       "get_lobatto_a_tableau_numerical (generic function with 1 method)"
      ]
     },
     "execution_count": 26,
     "metadata": {},
     "output_type": "execute_result"
    }
   ],
   "source": [
    "function get_lobatto_a_tableau_numerical(s)\n",
    "    c = get_lobatto_nodes(s)\n",
    "    M = [ convert(BigFloat, N(c[j]^(k-1))) for k in 1:s, j in 1:s ]\n",
    "    \n",
    "    row(i) = begin\n",
    "        b = [ convert(BigFloat, N(c[i]^k) / k) for k in 1:s ]\n",
    "        M \\ b\n",
    "    end\n",
    "    \n",
    "    vcat([row(i)' for i in 1:s]...)\n",
    "end"
   ]
  },
  {
   "cell_type": "code",
   "execution_count": 27,
   "metadata": {},
   "outputs": [
    {
     "data": {
      "text/plain": [
       "2×2 Array{BigFloat,2}:\n",
       " 0.0   0.0\n",
       " 0.50  0.50"
      ]
     },
     "execution_count": 27,
     "metadata": {},
     "output_type": "execute_result"
    }
   ],
   "source": [
    "get_lobatto_a_tableau_numerical(2)"
   ]
  },
  {
   "cell_type": "code",
   "execution_count": 28,
   "metadata": {},
   "outputs": [
    {
     "data": {
      "text/plain": [
       "3×3 Array{BigFloat,2}:\n",
       " 0.0       0.0        0.0\n",
       " 0.208333  0.333333  -0.0416667\n",
       " 0.166667  0.666667   0.166667"
      ]
     },
     "execution_count": 28,
     "metadata": {},
     "output_type": "execute_result"
    }
   ],
   "source": [
    "get_lobatto_a_tableau_numerical(3)"
   ]
  },
  {
   "cell_type": "code",
   "execution_count": 29,
   "metadata": {},
   "outputs": [
    {
     "data": {
      "text/plain": [
       "4×4 Array{BigFloat,2}:\n",
       " 0.0        0.0        0.0         0.0\n",
       " 0.110301   0.189699  -0.0339074   0.0103006\n",
       " 0.0730328  0.450574   0.226967   -0.0269672\n",
       " 0.0833333  0.416667   0.416667    0.0833333"
      ]
     },
     "execution_count": 29,
     "metadata": {},
     "output_type": "execute_result"
    }
   ],
   "source": [
    "get_lobatto_a_tableau_numerical(4)"
   ]
  },
  {
   "cell_type": "code",
   "execution_count": 30,
   "metadata": {},
   "outputs": [
    {
     "data": {
      "text/plain": [
       "5×5 Array{BigFloat,2}:\n",
       " 0.0        0.0        0.0         0.0        -0.0\n",
       " 0.0677284  0.119745  -0.0217357   0.0106358  -0.00370014\n",
       " 0.040625   0.303184   0.177778   -0.030962    0.009375\n",
       " 0.0537001  0.261586   0.377291    0.152477   -0.0177284\n",
       " 0.050      0.272222   0.355556    0.272222    0.050"
      ]
     },
     "execution_count": 30,
     "metadata": {},
     "output_type": "execute_result"
    }
   ],
   "source": [
    "get_lobatto_a_tableau_numerical(5)"
   ]
  },
  {
   "cell_type": "code",
   "execution_count": 31,
   "metadata": {},
   "outputs": [
    {
     "data": {
      "text/plain": [
       "6×6 Array{BigFloat,2}:\n",
       " 0.0        0.0         0.0         0.0          0.0          0.0\n",
       " 0.0456798  0.0818678  -0.0148746   0.00762768  -0.00447178   0.00164343\n",
       " 0.0259084  0.213841    0.133961   -0.0240041    0.0118077   -0.00412931\n",
       " 0.0374626  0.17743     0.301433    0.143468    -0.0246033    0.00742495\n",
       " 0.0316899  0.193709    0.269802    0.292304     0.10737     -0.0123465\n",
       " 0.0333333  0.189237    0.277429    0.277429     0.189237     0.0333333"
      ]
     },
     "execution_count": 31,
     "metadata": {},
     "output_type": "execute_result"
    }
   ],
   "source": [
    "get_lobatto_a_tableau_numerical(6)"
   ]
  },
  {
   "cell_type": "code",
   "execution_count": 32,
   "metadata": {},
   "outputs": [
    {
     "data": {
      "text/plain": [
       "7×7 Array{BigFloat,2}:\n",
       " 0.0        0.0         0.0         0.0         …  -0.0         -0.0\n",
       " 0.0328463  0.0593229  -0.0107686   0.00559759      0.0022171   -0.00083827\n",
       " 0.0180022  0.157701    0.102355   -0.0184783      -0.00568186   0.00209998\n",
       " 0.0275298  0.127788    0.237486    0.121905        0.0106248   -0.00372024\n",
       " 0.0217095  0.144095    0.206295    0.262288       -0.0192881    0.0058073\n",
       " 0.0246478  0.136196    0.219362    0.238212    …   0.0790901   -0.00903674\n",
       " 0.0238095  0.138413    0.215873    0.24381         0.138413     0.0238095"
      ]
     },
     "execution_count": 32,
     "metadata": {},
     "output_type": "execute_result"
    }
   ],
   "source": [
    "get_lobatto_a_tableau_numerical(7)"
   ]
  },
  {
   "cell_type": "code",
   "execution_count": 33,
   "metadata": {},
   "outputs": [
    {
     "data": {
      "text/plain": [
       "8×8 Array{BigFloat,2}:\n",
       " 0.0        0.0         0.0          0.0         …   0.0         -0.0\n",
       " 0.0247375  0.0448927  -0.00814077   0.00425408     -0.00122622   0.000471473\n",
       " 0.0132587  0.12065     0.0799976   -0.0144808       0.00310495  -0.00117958\n",
       " 0.0210344  0.0962802   0.189042     0.101246       -0.00560886   0.00207742\n",
       " 0.0157797  0.110961    0.161144     0.224367        0.00907194  -0.00317721\n",
       " 0.0190367  0.102247    0.175394     0.198597    …  -0.0152976    0.00459842\n",
       " 0.0173857  0.106578    0.168716     0.208934        0.0604595   -0.00688037\n",
       " 0.0178571  0.105352    0.170561     0.206229        0.105352     0.0178571"
      ]
     },
     "execution_count": 33,
     "metadata": {},
     "output_type": "execute_result"
    }
   ],
   "source": [
    "get_lobatto_a_tableau_numerical(8)"
   ]
  },
  {
   "cell_type": "code",
   "execution_count": 34,
   "metadata": {},
   "outputs": [
    {
     "data": {
      "text/plain": [
       "9×9 Array{BigFloat,2}:\n",
       " 0.0        0.0         0.0         0.0         …  -0.0           0.0\n",
       " 0.0192938  0.0351255  -0.0063641   0.00333378      0.000733773  -0.000285196\n",
       " 0.0101841  0.0950865   0.063932   -0.0115857      -0.00184751    0.000713077\n",
       " 0.0165694  0.0750935   0.152882    0.0840855       0.00328962   -0.00125239\n",
       " 0.01199    0.0878698   0.128682    0.189758       -0.00512215    0.00189887\n",
       " 0.0151413  0.0794581   0.142366    0.165214    …   0.00765416   -0.00268048\n",
       " 0.0131758  0.0845952   0.134514    0.177195       -0.0123388     0.00370481\n",
       " 0.0141741  0.0820139   0.138343    0.17172         0.0476222    -0.00540495\n",
       " 0.0138889  0.0827477   0.137269    0.173214        0.0827477     0.0138889"
      ]
     },
     "execution_count": 34,
     "metadata": {},
     "output_type": "execute_result"
    }
   ],
   "source": [
    "get_lobatto_a_tableau_numerical(9)"
   ]
  },
  {
   "cell_type": "code",
   "execution_count": 35,
   "metadata": {},
   "outputs": [
    {
     "data": {
      "text/plain": [
       "10×10 Array{BigFloat,2}:\n",
       " 0.0         0.0         0.0         …  -0.0          -0.0\n",
       " 0.0154651   0.028218   -0.00510908     -0.000466142   0.00018252\n",
       " 0.00807456  0.0767745   0.052118        0.00117017   -0.000456198\n",
       " 0.013376    0.0601845   0.125653       -0.00206901    0.000800076\n",
       " 0.00942487  0.0711997   0.104826        0.00316944   -0.0012079\n",
       " 0.012319    0.0634836   0.117344    …  -0.00454672    0.00168624\n",
       " 0.010311    0.068722    0.109372        0.00646845   -0.00226491\n",
       " 0.0115673   0.0654828   0.114145       -0.0101215     0.00303655\n",
       " 0.0109286   0.0671191   0.111775        0.038435     -0.00435404\n",
       " 0.0111111   0.066653    0.112445        0.066653      0.0111111"
      ]
     },
     "execution_count": 35,
     "metadata": {},
     "output_type": "execute_result"
    }
   ],
   "source": [
    "get_lobatto_a_tableau_numerical(10)"
   ]
  },
  {
   "cell_type": "code",
   "execution_count": 36,
   "metadata": {},
   "outputs": [
    {
     "data": {
      "text/plain": [
       "\"test = [\\n[ 0.0  0.0  0.0  0.0  0.0  -0.0  -0.0 ]\\n[ 0.03284626432829264788154737738033142204056211382271818765773345362112394508092566  0.05932289402755140450419852759671341695075002998697066382431435483570776882396077  -0.01076859445118926710557338891627543126099920132050725108061010087516288257974051  0.005597591780569777230673126451578500755763573322067363257284721059937378578049972  -0.003488929970807462766480046045821455045072791338551490175731168468738477335654361  0.002217096588914539699731308057798901857155962063103260067054111241249907747143437  -0.0008382704426151043801130115080579250917448689717987793454519774305599004010304688 ]\\n[ 0.01800222320181516570397346016028456764360082556073147168526035705907484182205874  0.1577011306416890420477890624743705422351752114302323309506669174757988218502422  0.1023548120468619152139466617380933512755265433875074213102870419333893734344597  -0.01847825927345904398314051224751613137353282962364543985805906363799428343462566  0.009577580100741405954289676517471901653230056977905283316113898479679898992635081  -0.005681864566224377572973179968075360499483211428034116049008346788135518250510262  0.002099981113218785734228890370987964362684667859380670093404465796709100527172491 ]\\n[ 0.02752976190476190476190476190476190476190476190476190476190476190476190476197868  0.127788255559837469586668474354557474789698523420821944706000931874493820490723  0.2374856527216454435103362366286448200758649110760084971653997190249800113848314  0.1219047619047619047619047619047619047619047619047619047619047619047619047618635  -0.02161296211671413180140072548796368111039283688023544604238112422098803760822258  0.01062476812094550441868172879047567195911511666911928988526618760722849144692749  -0.003720238095238095238095238095238095238095238095238095238095238095238095238094724 ]\\n[ 0.02170954269630502378958063343853584516112485595014313943040505801281470899632311  0.1440948882470073515783233831131085072482968515179753506402754662698578301889088  0.2062951105041899057546458346232092373122420172178677678069046963243120747833611  0.2622877830829828535069500360570399408973423534331692493818685874475180929587869  0.1135178785580693964949888494025877876899455308082656298127315528706026003418263  -0.01928810696090606804243885932933739548636157134029109635939979799407650991232135  0.005807300607708643819836063649239241880208698248792337838549166750448967701688997 ]\\n[ 0.02464779425213891390392253531758173461555439278132258886926150124008370992572313  0.1361959270918684343056188950872342448916576780268379745242130082404724041888094  0.2193616205757387744754155571865025940105448655343245412987497632727304511138497  0.2382119320289540322931363973579453087680459504874564462665248027495864309445088  0.2266412850561205788145089000569565702264712755162803022036286956791548563571185  0.07909012965323156950115167554831972979806361010297057076695276464601454311324142  -0.009036740518768838357737853570807612516752590013194378133923929811600135556897722 ]\\n[ 0.02380952380953144098540974482602905482053756713867187499999999999999999999987262  0.1384130236807644477933617453171105475509000610222736441780458251579753304777119  0.2158726906049537082118078910331943811109942823083838770256042936139571944365761  0.2438095238095023375990422209724783897399902343750000000000000000000000000004033  0.2158726906049489377423343518986928657138327426286657688239845608474023366307715  0.1384130236807703512178934015021627229592109633570829599723653203806651384548092  0.02380952380952877645015064445033203810453414916992187499999999999999999999985453 ]\\n]\\n\""
      ]
     },
     "execution_count": 36,
     "metadata": {},
     "output_type": "execute_result"
    }
   ],
   "source": [
    "array_to_code(:test, get_lobatto_a_tableau_numerical(7))"
   ]
  },
  {
   "cell_type": "markdown",
   "metadata": {},
   "source": [
    "### Projective coefficients"
   ]
  },
  {
   "cell_type": "code",
   "execution_count": 50,
   "metadata": {},
   "outputs": [
    {
     "data": {
      "text/plain": [
       "@sym (macro with 1 method)"
      ]
     },
     "execution_count": 50,
     "metadata": {},
     "output_type": "execute_result"
    }
   ],
   "source": [
    "function _sym(x::Expr)\n",
    "    y = x\n",
    "    y.args .= _sym.(y.args)\n",
    "    return  y\n",
    "end\n",
    "\n",
    "_sym(x::Number) = Sym(x)\n",
    "_sym(x) = x\n",
    "\n",
    "macro sym(x)\n",
    "    return esc(_sym(x))\n",
    "end"
   ]
  },
  {
   "cell_type": "code",
   "execution_count": 51,
   "metadata": {},
   "outputs": [
    {
     "data": {
      "text/plain": [
       "get_glrk_nodes (generic function with 1 method)"
      ]
     },
     "execution_count": 51,
     "metadata": {},
     "output_type": "execute_result"
    }
   ],
   "source": [
    "function get_glrk_nodes(s)\n",
    "    if s == 1\n",
    "        c = @sym Vector([1//2])\n",
    "    elseif s == 2\n",
    "        c = @sym [1/2-√3/6, 1/2+√3/6]\n",
    "    elseif s == 3\n",
    "        c = @sym [1/2-√15/10,  1/2,        1/2+√15/10 ]\n",
    "    elseif s == 4\n",
    "        c = @sym [\n",
    "          1/2-√(3/7+2*√30/35)/2,\n",
    "          1/2-√(3/7-2*√30/35)/2,\n",
    "          1/2+√(3/7-2*√30/35)/2,\n",
    "          1/2+√(3/7+2*√30/35)/2\n",
    "        ]\n",
    "    else\n",
    "        @error \"GLRK nodes for \" * string(s) * \" stages not implemented.\"\n",
    "    end\n",
    "\n",
    "    return c\n",
    "end"
   ]
  },
  {
   "cell_type": "code",
   "execution_count": 52,
   "metadata": {},
   "outputs": [
    {
     "data": {
      "text/plain": [
       "get_lobatto_coefficients_glrk (generic function with 2 methods)"
      ]
     },
     "execution_count": 52,
     "metadata": {},
     "output_type": "execute_result"
    }
   ],
   "source": [
    "function get_lobatto_coefficients_glrk(s, σ=s+1)\n",
    "    if σ == 1\n",
    "        @error \"Lobatto IIIA coefficients for one stage are not defined.\"\n",
    "    end\n",
    "\n",
    "    c = get_glrk_nodes(s)\n",
    "    c̄ = get_lobatto_nodes(s+1)\n",
    "    M = [ c[j]^(k-1) for k in 1:s, j in 1:s ]\n",
    "    \n",
    "    row(i) = begin\n",
    "        r = [ c̄[i]^k / k for k in 1:s ]\n",
    "        M \\ r\n",
    "    end\n",
    "    \n",
    "    vcat([row(i)' for i in 1:σ]...)\n",
    "end"
   ]
  },
  {
   "cell_type": "code",
   "execution_count": 53,
   "metadata": {},
   "outputs": [
    {
     "data": {
      "text/plain": [
       "2×1 Array{Any,2}:\n",
       " 0\n",
       " 1"
      ]
     },
     "execution_count": 53,
     "metadata": {},
     "output_type": "execute_result"
    }
   ],
   "source": [
    "get_lobatto_coefficients_glrk(1)"
   ]
  },
  {
   "cell_type": "code",
   "execution_count": 54,
   "metadata": {},
   "outputs": [
    {
     "data": {
      "text/plain": [
       "3×2 Array{Any,2}:\n",
       "               0                 0\n",
       " sqrt(3)/8 + 1/4  -sqrt(3)/8 + 1/4\n",
       "             1/2               1/2"
      ]
     },
     "execution_count": 54,
     "metadata": {},
     "output_type": "execute_result"
    }
   ],
   "source": [
    "get_lobatto_coefficients_glrk(2)"
   ]
  },
  {
   "cell_type": "code",
   "execution_count": 56,
   "metadata": {},
   "outputs": [
    {
     "data": {
      "text/plain": [
       "4×3 Array{Any,2}:\n",
       "                                 0  …                                  0\n",
       " -sqrt(5)/180 + sqrt(15)/30 + 5/36     -sqrt(15)/30 - sqrt(5)/180 + 5/36\n",
       "  sqrt(5)/180 + sqrt(15)/30 + 5/36     -sqrt(15)/30 + sqrt(5)/180 + 5/36\n",
       "                              5/18                                  5/18"
      ]
     },
     "execution_count": 56,
     "metadata": {},
     "output_type": "execute_result"
    }
   ],
   "source": [
    "get_lobatto_coefficients_glrk(3)"
   ]
  },
  {
   "cell_type": "code",
   "execution_count": null,
   "metadata": {},
   "outputs": [],
   "source": [
    "get_lobatto_coefficients_glrk(4)"
   ]
  },
  {
   "cell_type": "code",
   "execution_count": null,
   "metadata": {},
   "outputs": [],
   "source": [
    "get_lobatto_coefficients_glrk(2,2)"
   ]
  },
  {
   "cell_type": "code",
   "execution_count": null,
   "metadata": {},
   "outputs": [],
   "source": [
    "get_lobatto_coefficients_glrk(3,2)"
   ]
  },
  {
   "cell_type": "code",
   "execution_count": null,
   "metadata": {},
   "outputs": [],
   "source": [
    "get_lobatto_coefficients_glrk(4,2)"
   ]
  }
 ],
 "metadata": {
  "@webio": {
   "lastCommId": null,
   "lastKernelId": null
  },
  "kernelspec": {
   "display_name": "Julia 1.5.3",
   "language": "julia",
   "name": "julia-1.5"
  },
  "language_info": {
   "file_extension": ".jl",
   "mimetype": "application/julia",
   "name": "julia",
   "version": "1.5.3"
  }
 },
 "nbformat": 4,
 "nbformat_minor": 4
}
