{
 "cells": [
  {
   "cell_type": "code",
   "execution_count": 1,
   "metadata": {},
   "outputs": [],
   "source": [
    "using SymPy"
   ]
  },
  {
   "cell_type": "code",
   "execution_count": 2,
   "metadata": {},
   "outputs": [
    {
     "data": {
      "text/plain": [
       "@sym (macro with 1 method)"
      ]
     },
     "execution_count": 2,
     "metadata": {},
     "output_type": "execute_result"
    }
   ],
   "source": [
    "function _sym(x::Expr)\n",
    "    y = x\n",
    "    y.args .= _sym.(y.args)\n",
    "    return  y\n",
    "end\n",
    "\n",
    "_sym(x::Number) = Sym(x)\n",
    "_sym(x) = x\n",
    "\n",
    "macro sym(x)\n",
    "    return esc(_sym(x))\n",
    "end"
   ]
  },
  {
   "cell_type": "code",
   "execution_count": 3,
   "metadata": {},
   "outputs": [
    {
     "data": {
      "text/plain": [
       "array_to_code (generic function with 1 method)"
      ]
     },
     "execution_count": 3,
     "metadata": {},
     "output_type": "execute_result"
    }
   ],
   "source": [
    "function array_to_code(name, x::Matrix)\n",
    "    s = string(name) * \" = [\\n\"\n",
    "    \n",
    "    for i in axes(x,1)\n",
    "        s *= \"[\"\n",
    "        for j in axes(x,2)\n",
    "            s *= \" \"\n",
    "            s *= string(x[i,j])\n",
    "            s *= \" \"\n",
    "        end\n",
    "        s *= \"]\\n\"\n",
    "    end\n",
    "    \n",
    "    s *= \"]\\n\"\n",
    "end"
   ]
  },
  {
   "cell_type": "code",
   "execution_count": 4,
   "metadata": {},
   "outputs": [
    {
     "data": {
      "text/plain": [
       "get_glrk_nodes (generic function with 1 method)"
      ]
     },
     "execution_count": 4,
     "metadata": {},
     "output_type": "execute_result"
    }
   ],
   "source": [
    "function get_glrk_nodes(s)\n",
    "    if s == 1\n",
    "        c = @sym Vector([1//2])\n",
    "    elseif s == 2\n",
    "        c = @sym [1/2-√3/6, 1/2+√3/6]\n",
    "    elseif s == 3\n",
    "        c = @sym [1/2-√15/10,  1/2,        1/2+√15/10 ]\n",
    "    elseif s == 4\n",
    "        c = @sym [\n",
    "          1/2-√(3/7+2*√30/35)/2,\n",
    "          1/2-√(3/7-2*√30/35)/2,\n",
    "          1/2+√(3/7-2*√30/35)/2,\n",
    "          1/2+√(3/7+2*√30/35)/2\n",
    "        ]\n",
    "    elseif s == 5\n",
    "        c = @sym [\n",
    "          1/2-√(5/9+2*√70/63)/2,\n",
    "          1/2-√(5/9-2*√70/63)/2,\n",
    "          1/2,\n",
    "          1/2+√(5/9-2*√70/63)/2,\n",
    "          1/2+√(5/9+2*√70/63)/2        \n",
    "        ]\n",
    "    else\n",
    "        @error \"GLRK nodes for \" * string(s) * \" stages not implemented.\"\n",
    "    end\n",
    "\n",
    "    return c\n",
    "end"
   ]
  },
  {
   "cell_type": "code",
   "execution_count": 5,
   "metadata": {},
   "outputs": [
    {
     "data": {
      "text/plain": [
       "get_lobatto_nodes (generic function with 1 method)"
      ]
     },
     "execution_count": 5,
     "metadata": {},
     "output_type": "execute_result"
    }
   ],
   "source": [
    "function get_lobatto_nodes(s)\n",
    "    if s == 2\n",
    "        c = @sym [0, 1]\n",
    "    elseif s == 3\n",
    "        c = @sym [0, 1//2, 1]\n",
    "    elseif s == 4\n",
    "        c = @sym [0,  (5-√5)/10,   (5+√5)/10,  1]\n",
    "    elseif s == 5\n",
    "        c = @sym [0,  1//2-√21/14,  1//2,  1//2+√21/14,  1]\n",
    "    else\n",
    "        @error \"Lobatto nodes for \" * string(s) * \" stages not implemented.\"\n",
    "    end\n",
    "\n",
    "    return c\n",
    "end"
   ]
  },
  {
   "cell_type": "code",
   "execution_count": 6,
   "metadata": {},
   "outputs": [
    {
     "data": {
      "text/plain": [
       "get_glrk_lobatto_tableau (generic function with 2 methods)"
      ]
     },
     "execution_count": 6,
     "metadata": {},
     "output_type": "execute_result"
    }
   ],
   "source": [
    "function get_glrk_lobatto_tableau(s, σ=2)\n",
    "    c = get_glrk_nodes(s)\n",
    "    c̄ = get_lobatto_nodes(σ)\n",
    "    a = [Sym(\"a_\" * string(i) * string(j)) for i in 1:σ, j in 1:s]\n",
    "    \n",
    "    sol = Dict()\n",
    "\n",
    "    for i in 1:σ\n",
    "        eqs = []\n",
    "        for k in 1:s\n",
    "            eq = - c̄[i]^k / k\n",
    "            for j in 1:s\n",
    "                eq += a[i,j] * c[j]^(k-1)\n",
    "            end\n",
    "            push!(eqs, eq)\n",
    "        end\n",
    "        sol = merge(sol, solve(Sym.(eqs), a[i,:]))\n",
    "    end\n",
    "    \n",
    "    A = [sol[a[i,j]] for i in axes(a,1), j in axes(a,2)]\n",
    "end"
   ]
  },
  {
   "cell_type": "code",
   "execution_count": 7,
   "metadata": {},
   "outputs": [
    {
     "data": {
      "text/latex": [
       "\\[\\left[ \\begin{array}{r}0\\\\1\\end{array}\\right]\\]"
      ],
      "text/plain": [
       "2×1 Array{Sym,2}:\n",
       " 0\n",
       " 1"
      ]
     },
     "execution_count": 7,
     "metadata": {},
     "output_type": "execute_result"
    }
   ],
   "source": [
    "get_glrk_lobatto_tableau(1)"
   ]
  },
  {
   "cell_type": "code",
   "execution_count": 8,
   "metadata": {},
   "outputs": [
    {
     "data": {
      "text/latex": [
       "\\[\\left[ \\begin{array}{rr}0&0\\\\\\frac{1}{2}&\\frac{1}{2}\\end{array}\\right]\\]"
      ],
      "text/plain": [
       "2×2 Array{Sym,2}:\n",
       "   0    0\n",
       " 1/2  1/2"
      ]
     },
     "execution_count": 8,
     "metadata": {},
     "output_type": "execute_result"
    }
   ],
   "source": [
    "get_glrk_lobatto_tableau(2)"
   ]
  },
  {
   "cell_type": "code",
   "execution_count": 9,
   "metadata": {},
   "outputs": [
    {
     "data": {
      "text/latex": [
       "\\[\\left[ \\begin{array}{rrr}0&0&0\\\\\\frac{5}{18}&\\frac{4}{9}&\\frac{5}{18}\\end{array}\\right]\\]"
      ],
      "text/plain": [
       "2×3 Array{Sym,2}:\n",
       "    0    0     0\n",
       " 5/18  4/9  5/18"
      ]
     },
     "execution_count": 9,
     "metadata": {},
     "output_type": "execute_result"
    }
   ],
   "source": [
    "get_glrk_lobatto_tableau(3)"
   ]
  },
  {
   "cell_type": "code",
   "execution_count": 10,
   "metadata": {},
   "outputs": [
    {
     "data": {
      "text/plain": [
       "get_glrk_lobatto_tableau_manual (generic function with 2 methods)"
      ]
     },
     "execution_count": 10,
     "metadata": {},
     "output_type": "execute_result"
    }
   ],
   "source": [
    "function get_glrk_lobatto_tableau_manual(s, σ=2)\n",
    "    c = get_glrk_nodes(s)\n",
    "    c̄ = get_lobatto_nodes(σ)\n",
    "    a = [Sym(\"a_\" * string(i) * string(j)) for i in 1:σ, j in 1:s]\n",
    "    A = [Sym(0) for i in 1:σ, j in 1:s]\n",
    "    \n",
    "    sol = Dict()\n",
    "\n",
    "    for i in 2:σ\n",
    "        eqs = Sym[]\n",
    "        for k in 1:s\n",
    "            eq = - c̄[i]^k / k\n",
    "            for j in 1:s\n",
    "                eq += a[i,j] * c[j]^(k-1)\n",
    "            end\n",
    "            push!(eqs, eq)\n",
    "        end\n",
    "\n",
    "        for k in 1:s\n",
    "            A[i,k] = solve(eqs[k], a[i,k])[1]\n",
    "            for l in k+1:s\n",
    "                eqs[l] = simplify(subs(eqs[l], a[i,k], A[i,k]))\n",
    "            end\n",
    "        end\n",
    "        \n",
    "        for k in s-1:-1:1\n",
    "            for l in k+1:s\n",
    "                A[i,k] = subs(A[i,k], a[i,l], A[i,l])\n",
    "            end\n",
    "        end\n",
    "    end\n",
    "    \n",
    "    return simplify.(A)\n",
    "end"
   ]
  },
  {
   "cell_type": "code",
   "execution_count": 11,
   "metadata": {},
   "outputs": [
    {
     "data": {
      "text/latex": [
       "\\[\\left[ \\begin{array}{rr}0&0\\\\\\frac{1}{2}&\\frac{1}{2}\\end{array}\\right]\\]"
      ],
      "text/plain": [
       "2×2 Array{Sym,2}:\n",
       "   0    0\n",
       " 1/2  1/2"
      ]
     },
     "execution_count": 11,
     "metadata": {},
     "output_type": "execute_result"
    }
   ],
   "source": [
    "a2 = get_glrk_lobatto_tableau_manual(2)"
   ]
  },
  {
   "cell_type": "code",
   "execution_count": 12,
   "metadata": {},
   "outputs": [
    {
     "data": {
      "text/latex": [
       "\\[\\left[ \\begin{array}{rrr}0&0&0\\\\\\frac{5}{18}&\\frac{4}{9}&\\frac{5}{18}\\end{array}\\right]\\]"
      ],
      "text/plain": [
       "2×3 Array{Sym,2}:\n",
       "    0    0     0\n",
       " 5/18  4/9  5/18"
      ]
     },
     "execution_count": 12,
     "metadata": {},
     "output_type": "execute_result"
    }
   ],
   "source": [
    "a3 = get_glrk_lobatto_tableau_manual(3)"
   ]
  },
  {
   "cell_type": "code",
   "execution_count": 13,
   "metadata": {},
   "outputs": [
    {
     "data": {
      "text/latex": [
       "\\[\\left[ \\begin{array}{rrrr}0&0&0&0\\\\- \\frac{\\sqrt{30}}{72} + \\frac{1}{4}&\\frac{-70 + 5 \\sqrt{14} + 7 \\sqrt{30} + 6 \\sqrt{105}}{-360 + 24 \\sqrt{- 2 \\sqrt{30} + 15} \\sqrt{2 \\sqrt{30} + 15} + 48 \\sqrt{30}}&\\frac{\\sqrt{30}}{72} + \\frac{1}{4}&- \\frac{\\sqrt{30}}{72} + \\frac{1}{4}\\end{array}\\right]\\]"
      ],
      "text/plain": [
       "2×4 Array{Sym,2}:\n",
       "                  0  …                   0\n",
       " -sqrt(30)/72 + 1/4     -sqrt(30)/72 + 1/4"
      ]
     },
     "execution_count": 13,
     "metadata": {},
     "output_type": "execute_result"
    }
   ],
   "source": [
    "a4 = get_glrk_lobatto_tableau_manual(4)"
   ]
  },
  {
   "cell_type": "code",
   "execution_count": 14,
   "metadata": {},
   "outputs": [
    {
     "data": {
      "text/plain": [
       "false"
      ]
     },
     "execution_count": 14,
     "metadata": {},
     "output_type": "execute_result"
    }
   ],
   "source": [
    "a4[2,2] == a4[2,3]"
   ]
  },
  {
   "cell_type": "code",
   "execution_count": 15,
   "metadata": {},
   "outputs": [
    {
     "data": {
      "text/plain": [
       "true"
      ]
     },
     "execution_count": 15,
     "metadata": {},
     "output_type": "execute_result"
    }
   ],
   "source": [
    "N(a4[2,2]) ≈ N(a4[2,3])"
   ]
  },
  {
   "cell_type": "code",
   "execution_count": 16,
   "metadata": {},
   "outputs": [
    {
     "data": {
      "text/latex": [
       "\\begin{equation*}\\frac{\\sqrt{30}}{72} + \\frac{1}{4}\\end{equation*}"
      ],
      "text/plain": [
       "√30   1\n",
       "─── + ─\n",
       " 72   4"
      ]
     },
     "execution_count": 16,
     "metadata": {},
     "output_type": "execute_result"
    }
   ],
   "source": [
    "a4[2,2] = a4[2,3]"
   ]
  },
  {
   "cell_type": "code",
   "execution_count": 17,
   "metadata": {},
   "outputs": [
    {
     "data": {
      "text/latex": [
       "\\[\\left[ \\begin{array}{rrrr}0&0&0&0\\\\- \\frac{\\sqrt{30}}{72} + \\frac{1}{4}&\\frac{\\sqrt{30}}{72} + \\frac{1}{4}&\\frac{\\sqrt{30}}{72} + \\frac{1}{4}&- \\frac{\\sqrt{30}}{72} + \\frac{1}{4}\\end{array}\\right]\\]"
      ],
      "text/plain": [
       "2×4 Array{Sym,2}:\n",
       "                  0                  0                  0                   0\n",
       " -sqrt(30)/72 + 1/4  sqrt(30)/72 + 1/4  sqrt(30)/72 + 1/4  -sqrt(30)/72 + 1/4"
      ]
     },
     "execution_count": 17,
     "metadata": {},
     "output_type": "execute_result"
    }
   ],
   "source": [
    "a4"
   ]
  },
  {
   "cell_type": "code",
   "execution_count": 18,
   "metadata": {},
   "outputs": [
    {
     "data": {
      "text/latex": [
       "\\[\\left[ \\begin{array}{rrrrr}0&0&0&0&0\\\\\\frac{- 5797 \\sqrt{70} - 19635 \\sqrt{6} + 3297 \\sqrt{105} + 34069}{900 \\left(- 31 \\sqrt{70} - 105 \\sqrt{6} + 12 \\sqrt{105} + 124\\right)}&\\frac{3 \\left(- 155 \\sqrt{70} - 525 \\sqrt{6} + 21 \\sqrt{105} + 217\\right)}{100 \\left(- 31 \\sqrt{70} - 105 \\sqrt{6} + 12 \\sqrt{105} + 124\\right)}&\\frac{64}{225}&\\frac{3 \\left(- 155 \\sqrt{70} - 525 \\sqrt{6} + 21 \\sqrt{105} + 217\\right)}{100 \\left(- 31 \\sqrt{70} - 105 \\sqrt{6} + 12 \\sqrt{105} + 124\\right)}&\\frac{- \\frac{1309 \\sqrt{30 \\sqrt{70} + 525}}{180} - \\frac{187 \\sqrt{14 \\sqrt{70} + 245}}{20} + \\frac{189 \\sqrt{- 20 \\sqrt{70} + 350}}{200} + \\frac{21 \\sqrt{- 84 \\sqrt{70} + 1470}}{40} + \\frac{27 \\sqrt{- 14 \\sqrt{70} + 245}}{4} + \\frac{21 \\sqrt{- 30 \\sqrt{70} + 525}}{4} + \\frac{1099 \\sqrt{20 \\sqrt{70} + 350}}{200} + \\frac{1099 \\sqrt{84 \\sqrt{70} + 1470}}{360}}{- 35 \\sqrt{15} \\sqrt{2 \\sqrt{70} + 35} - 45 \\sqrt{7} \\sqrt{2 \\sqrt{70} + 35} + 18 \\sqrt{10} \\sqrt{- 2 \\sqrt{70} + 35} + 10 \\sqrt{42} \\sqrt{- 2 \\sqrt{70} + 35} + 18 \\sqrt{10} \\sqrt{2 \\sqrt{70} + 35} + 10 \\sqrt{42} \\sqrt{2 \\sqrt{70} + 35} + 45 \\sqrt{7} \\sqrt{- 2 \\sqrt{70} + 35} + 35 \\sqrt{15} \\sqrt{- 2 \\sqrt{70} + 35}}\\end{array}\\right]\\]"
      ],
      "text/plain": [
       "2×5 Array{Sym,2}:\n",
       "                                                                                                                 0  …                                                                                                                                                                                                                                                                                                                                                                                                                                                                                                                                                                                    0\n",
       " (-5797*sqrt(70) - 19635*sqrt(6) + 3297*sqrt(105) + 34069)/(900*(-31*sqrt(70) - 105*sqrt(6) + 12*sqrt(105) + 124))     (-1309*sqrt(30*sqrt(70) + 525)/180 - 187*sqrt(14*sqrt(70) + 245)/20 + 189*sqrt(-20*sqrt(70) + 350)/200 + 21*sqrt(-84*sqrt(70) + 1470)/40 + 27*sqrt(-14*sqrt(70) + 245)/4 + 21*sqrt(-30*sqrt(70) + 525)/4 + 1099*sqrt(20*sqrt(70) + 350)/200 + 1099*sqrt(84*sqrt(70) + 1470)/360)/(-35*sqrt(15)*sqrt(2*sqrt(70) + 35) - 45*sqrt(7)*sqrt(2*sqrt(70) + 35) + 18*sqrt(10)*sqrt(-2*sqrt(70) + 35) + 10*sqrt(42)*sqrt(-2*sqrt(70) + 35) + 18*sqrt(10)*sqrt(2*sqrt(70) + 35) + 10*sqrt(42)*sqrt(2*sqrt(70) + 35) + 45*sqrt(7)*sqrt(-2*sqrt(70) + 35) + 35*sqrt(15)*sqrt(-2*sqrt(70) + 35))"
      ]
     },
     "execution_count": 18,
     "metadata": {},
     "output_type": "execute_result"
    }
   ],
   "source": [
    "a5 = get_glrk_lobatto_tableau_manual(5)"
   ]
  },
  {
   "cell_type": "code",
   "execution_count": 19,
   "metadata": {},
   "outputs": [
    {
     "data": {
      "text/plain": [
       "false"
      ]
     },
     "execution_count": 19,
     "metadata": {},
     "output_type": "execute_result"
    }
   ],
   "source": [
    "a5[2,1] == a5[2,5]"
   ]
  },
  {
   "cell_type": "code",
   "execution_count": 20,
   "metadata": {},
   "outputs": [
    {
     "data": {
      "text/plain": [
       "true"
      ]
     },
     "execution_count": 20,
     "metadata": {},
     "output_type": "execute_result"
    }
   ],
   "source": [
    "N(a5[2,1]) ≈ N(a5[2,5])"
   ]
  },
  {
   "cell_type": "code",
   "execution_count": 21,
   "metadata": {},
   "outputs": [
    {
     "data": {
      "text/latex": [
       "\\begin{equation*}\\frac{- 5797 \\sqrt{70} - 19635 \\sqrt{6} + 3297 \\sqrt{105} + 34069}{900 \\left(- 31 \\sqrt{70} - 105 \\sqrt{6} + 12 \\sqrt{105} + 124\\right)}\\end{equation*}"
      ],
      "text/plain": [
       "-5797⋅√70 - 19635⋅√6 + 3297⋅√105 + 34069\n",
       "────────────────────────────────────────\n",
       " 900⋅(-31⋅√70 - 105⋅√6 + 12⋅√105 + 124) "
      ]
     },
     "execution_count": 21,
     "metadata": {},
     "output_type": "execute_result"
    }
   ],
   "source": [
    "a5[2,5] = a5[2,1]"
   ]
  },
  {
   "cell_type": "code",
   "execution_count": 24,
   "metadata": {},
   "outputs": [
    {
     "data": {
      "text/latex": [
       "\\[\\left[ \\begin{array}{rrrrr}0&0&0&0&0\\\\\\frac{- 5797 \\sqrt{70} - 19635 \\sqrt{6} + 3297 \\sqrt{105} + 34069}{900 \\left(- 31 \\sqrt{70} - 105 \\sqrt{6} + 12 \\sqrt{105} + 124\\right)}&\\frac{3 \\left(- 155 \\sqrt{70} - 525 \\sqrt{6} + 21 \\sqrt{105} + 217\\right)}{100 \\left(- 31 \\sqrt{70} - 105 \\sqrt{6} + 12 \\sqrt{105} + 124\\right)}&\\frac{64}{225}&\\frac{3 \\left(- 155 \\sqrt{70} - 525 \\sqrt{6} + 21 \\sqrt{105} + 217\\right)}{100 \\left(- 31 \\sqrt{70} - 105 \\sqrt{6} + 12 \\sqrt{105} + 124\\right)}&\\frac{- 5797 \\sqrt{70} - 19635 \\sqrt{6} + 3297 \\sqrt{105} + 34069}{900 \\left(- 31 \\sqrt{70} - 105 \\sqrt{6} + 12 \\sqrt{105} + 124\\right)}\\end{array}\\right]\\]"
      ],
      "text/plain": [
       "2×5 Array{Sym,2}:\n",
       "                                                                                                                 0  …                                                                                                                  0\n",
       " (-5797*sqrt(70) - 19635*sqrt(6) + 3297*sqrt(105) + 34069)/(900*(-31*sqrt(70) - 105*sqrt(6) + 12*sqrt(105) + 124))     (-5797*sqrt(70) - 19635*sqrt(6) + 3297*sqrt(105) + 34069)/(900*(-31*sqrt(70) - 105*sqrt(6) + 12*sqrt(105) + 124))"
      ]
     },
     "execution_count": 24,
     "metadata": {},
     "output_type": "execute_result"
    }
   ],
   "source": [
    "a5"
   ]
  },
  {
   "cell_type": "code",
   "execution_count": 22,
   "metadata": {},
   "outputs": [
    {
     "data": {
      "text/plain": [
       "\"x = [\\n[ 0  0  0  0  0 ]\\n[ (-5797*sqrt(70) - 19635*sqrt(6) + 3297*sqrt(105) + 34069)/(900*(-31*sqrt(70) - 105*sqrt(6) + 12*sqrt(105) + 124))  3*(-155*sqrt(70) - 525*sqrt(6) + 21*sqrt(105) + 217)/(100*(-31*sqrt(70) - 105*sqrt(6) + 12*sqrt(105) + 124))  64/225  3*(-155*sqrt(70) - 525*sqrt(6) + 21*sqrt(105) + 217)/(100*(-31*sqrt(70) - 105*sqrt(6) + 12*sqrt(105) + 124))  (-5797*sqrt(70) - 19635*sqrt(6) + 3297*sqrt(105) + 34069)/(900*(-31*sqrt(70) - 105*sqrt(6) + 12*sqrt(105) + 124)) ]\\n]\\n\""
      ]
     },
     "execution_count": 22,
     "metadata": {},
     "output_type": "execute_result"
    }
   ],
   "source": [
    "array_to_code(:x, a5)"
   ]
  },
  {
   "cell_type": "code",
   "execution_count": 23,
   "metadata": {},
   "outputs": [
    {
     "data": {
      "text/plain": [
       "\"x = [\\n[ 0  0  0  0  0 ]\\n[ 0.1184634425280945437571320203599586813216300011062070077914139441108586442015225  0.2393143352496832340206457574178190964561477766715707699863638336669191335762568  64//225  0.2393143352496832340206457574178190964561477766715707699863638336669191335762568  0.1184634425280945437571320203599586813216300011062070077914139441108586442015225 ]\\n]\\n\""
      ]
     },
     "execution_count": 23,
     "metadata": {},
     "output_type": "execute_result"
    }
   ],
   "source": [
    "array_to_code(:x, N.(a5))"
   ]
  }
 ],
 "metadata": {
  "@webio": {
   "lastCommId": null,
   "lastKernelId": null
  },
  "kernelspec": {
   "display_name": "Julia 1.5.3",
   "language": "julia",
   "name": "julia-1.5"
  },
  "language_info": {
   "file_extension": ".jl",
   "mimetype": "application/julia",
   "name": "julia",
   "version": "1.5.3"
  }
 },
 "nbformat": 4,
 "nbformat_minor": 2
}
